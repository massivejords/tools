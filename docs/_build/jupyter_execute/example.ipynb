{
 "cells": [
  {
   "cell_type": "markdown",
   "metadata": {},
   "source": [
    "# Example usage\n",
    "\n",
    "To use `labtools` in a project:"
   ]
  },
  {
   "cell_type": "markdown",
   "metadata": {},
   "source": [
    "## Imports"
   ]
  },
  {
   "cell_type": "code",
   "execution_count": 1,
   "metadata": {
    "scrolled": true
   },
   "outputs": [],
   "source": [
    "from labtools import shuffle"
   ]
  },
  {
   "cell_type": "markdown",
   "metadata": {},
   "source": [
    "## Shuffle a sequence\n",
    "\n",
    "Create shuffles of the alphabet:"
   ]
  },
  {
   "cell_type": "code",
   "execution_count": 2,
   "metadata": {},
   "outputs": [
    {
     "data": {
      "text/plain": [
       "['bedacFGHIJKLMNOPQRSTUVWYXZ',\n",
       " 'AcdfebGHIJKLMNOPQRSTUVWYXZ',\n",
       " 'ABcegfdHIJKLMNOPQRSTUVWYXZ',\n",
       " 'ABChfgedIJKLMNOPQRSTUVWYXZ',\n",
       " 'ABCDfgiheJKLMNOPQRSTUVWYXZ',\n",
       " 'ABCDEifghjKLMNOPQRSTUVWYXZ',\n",
       " 'ABCDEFhgikjLMNOPQRSTUVWYXZ',\n",
       " 'ABCDEFGkijhlMNOPQRSTUVWYXZ',\n",
       " 'ABCDEFGHjkilmNOPQRSTUVWYXZ',\n",
       " 'ABCDEFGHIlnjmkOPQRSTUVWYXZ',\n",
       " 'ABCDEFGHIJonmlkPQRSTUVWYXZ',\n",
       " 'ABCDEFGHIJKnlmpoQRSTUVWYXZ',\n",
       " 'ABCDEFGHIJKLpmnqoRSTUVWYXZ',\n",
       " 'ABCDEFGHIJKLMpnorqSTUVWYXZ',\n",
       " 'ABCDEFGHIJKLMNrospqTUVWYXZ',\n",
       " 'ABCDEFGHIJKLMNOqprstUVWYXZ',\n",
       " 'ABCDEFGHIJKLMNOPrutsqVWYXZ',\n",
       " 'ABCDEFGHIJKLMNOPQstuvrWYXZ',\n",
       " 'ABCDEFGHIJKLMNOPQRwusvtYXZ',\n",
       " 'ABCDEFGHIJKLMNOPQRSuwtvyXZ',\n",
       " 'ABCDEFGHIJKLMNOPQRSTxvyuwZ',\n",
       " 'ABCDEFGHIJKLMNOPQRSTUxvzyw']"
      ]
     },
     "execution_count": 2,
     "metadata": {},
     "output_type": "execute_result"
    }
   ],
   "source": [
    "shuffles_list, names_list = shuffle.windowed_shuffle(\"ABCDEFGHIJKLMNOPQRSTUVWYXZ\")\n",
    "shuffles_list"
   ]
  },
  {
   "cell_type": "code",
   "execution_count": 3,
   "metadata": {},
   "outputs": [],
   "source": [
    "from labtools.adtools import seqlib"
   ]
  },
  {
   "cell_type": "code",
   "execution_count": 4,
   "metadata": {},
   "outputs": [],
   "source": [
    "from labtools.adtools.finder import pull_AD"
   ]
  },
  {
   "cell_type": "code",
   "execution_count": 5,
   "metadata": {},
   "outputs": [
    {
     "data": {
      "text/plain": [
       "('ATGGCTGGTAGATCTTGGTTGATTGATTCTAATAGAATTGCTACTAAGATTATGTCTGCTTCTGCTTCTTCTGATCCAAGACAAGTTGTTTGGAAATCTAATCCATCTAGACATTGTCCA',\n",
       " None)"
      ]
     },
     "execution_count": 5,
     "metadata": {},
     "output_type": "execute_result"
    }
   ],
   "source": [
    "pull_AD(\"ACTTTTATVGCTAGCATGGCTGGTAGATCTTGGTTGATTGATTCTAATAGAATTGCTACTAAGATTATGTCTGCTTCTGCTTCTTCTGATCCAAGACAAGTTGTTTGGAAATCTAATCCATCTAGACATTGTCCAGCTGATCGATGCTAGTAGAGAGAGA\")"
   ]
  },
  {
   "cell_type": "code",
   "execution_count": 6,
   "metadata": {},
   "outputs": [
    {
     "data": {
      "text/plain": [
       "GGTTCTTCTAAATTGAGATGTGATAATAATGCTGCTGCTCATGTTAAATTGGATTCATTTCCAGCTGGTGTTAGATTTGATACATCTGATGAAGAATTGTTGGAACATTTGGCTGCTAAA    1\n",
       "GAAGAATTGTTTTTACATTTGTCTGCTAAGATTGGTAGATCTTCTAGGAAACCACATCCATTCTTGGATGAATTTATTCATACTTTGGTTGAAGAAGATGGTATTTGTAGAACTCATCCA    3\n",
       "dtype: int64"
      ]
     },
     "execution_count": 6,
     "metadata": {},
     "output_type": "execute_result"
    }
   ],
   "source": [
    "from labtools.adtools.pair_counter import seq_counter\n",
    "seq_counter(\"../exampledata/mini.fastq\")"
   ]
  }
 ],
 "metadata": {
  "kernelspec": {
   "display_name": "bioinformatics",
   "language": "python",
   "name": "bioinformatics"
  },
  "language_info": {
   "codemirror_mode": {
    "name": "ipython",
    "version": 3
   },
   "file_extension": ".py",
   "mimetype": "text/x-python",
   "name": "python",
   "nbconvert_exporter": "python",
   "pygments_lexer": "ipython3",
   "version": "3.8.10"
  }
 },
 "nbformat": 4,
 "nbformat_minor": 4
}