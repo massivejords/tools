{
 "cells": [
  {
   "cell_type": "markdown",
   "metadata": {},
   "source": [
    "# Example usage\n",
    "\n",
    "The poorly named `labtools` python package is a collection of diverse modules that might be of use to Staller Lab members and collaborators. \n",
    "- tools to analyze raw sequencing data\n",
    "- simple tools to shuffle/mutate sequences for library design\n",
    "- (hopefully) tools to run in-house neural net"
   ]
  },
  {
   "cell_type": "code",
   "execution_count": 1,
   "metadata": {},
   "outputs": [],
   "source": [
    "# add the comment \n",
    "    # @hidden\n",
    "# anywhere in any cell you want to hide\n",
    "# works with custom sphinx layout\n",
    "\n",
    "# Following code is used to style and truncate the pandas dataframe outputs for easier example viewing\n",
    "\n",
    "def format_index(s):\n",
    "    return f\"font-size: 8pt; max-width: 250px; text-overflow: ellipsis; overflow: hidden\"\n",
    "def format(s):\n",
    "    return [\"font-size: 10pt;\"] *len(s)\n",
    "def display_df(df, **kwargs):\n",
    "    disp = df.head(10).style.applymap_index(format_index)\n",
    "    disp = disp.applymap_index(format_index, axis = 0)\n",
    "    disp = disp.apply(format)\n",
    "    return disp\n",
    "\n",
    "# @hidden"
   ]
  },
  {
   "cell_type": "markdown",
   "metadata": {},
   "source": [
    "## Sequencing Analysis Tools"
   ]
  },
  {
   "cell_type": "markdown",
   "metadata": {},
   "source": [
    "### Sort Processing Example\n",
    "#### What you need\n",
    "[Also, see documentation for clearer idea of what inputs should look like](https://massivejords.github.io/tools/docs/_build/html/autoapi/labtools/adtools/sort/index.html)\n",
    "\n",
    "* data_files : list of str\n",
    "    + path to fastq file for each sample in the sort in order of bins\n",
    "* bin_counts : list of int\n",
    "    + cells per bin in order of data files\n",
    "* bin_values : list of int\n",
    "    + mean or median fluorescence of the bin in order of data files\n",
    "    \n",
    "**If you want to look for only perfect matches to certain sequences ([see note](#perfect_matches_note))**\n",
    "* design_file : str\n",
    "    + path to a csv with one column headered as \"ArrayDNA\" which contains your 120 bp AD sequences as DNA\n",
    "    \n",
    "<span style=\"color:red;font-weight:800\">NOTE: If you want to count untransformed plasmid, **please add what that tile would look like to your design file.** </span> The length does not matter as long as the sequence covers the end of the read. If you used phasing, include additional seqs for each primer possibility. For example, for pMVS219 backbone phased with 4 R primers, you should add the following:\n",
    "* \"GGTTAATTAAGGCGCGCCACTTCTAAATAAGCGATAG\"\n",
    "* \"GGTTAATTAAGGCGCGCCACTTCTAAATAAGCGATA\"\n",
    "* \"GGTTAATTAAGGCGCGCCACTTCTAAATAAGCGAT\"\n",
    "* \"GGTTAATTAAGGCGCGCCACTTCTAAATAAGCGA\"\n",
    "\n",
    "<span style=\"color:blue;font-weight:800\">**NOTE: the read cutoff is 10 reads total summed across all bins** This means that if a tile is not found at least 10 times combined across any of the fastq files, it will not be analysed.</span>\n",
    "\n",
    "**If your reads differ from default ([see example](#custom_anchor_example))**\n",
    "* ad_preceder : str\n",
    "    + the sequence directly preceding your AD sequence in your reads (anchor sequence)\n",
    "\n",
    "**If you have barcodes, you need the sequence directly preceding them and anteceding them (anchor sequences), otherwise ignore these. See the example with barcodes below.** \n",
    "* bc_preceder : str\n",
    "* bc_anteceder : str\n",
    "\n",
    "#### What you get out\n",
    "* a dataframe with your AD tiles as indices, normalized scores for tile at each bin, and the tile Activity value"
   ]
  },
  {
   "cell_type": "markdown",
   "metadata": {},
   "source": [
    "#### Use the sequence directly preceding the AD/tile as an anchor sequence. Additional characters between AD/tile and preceding anchor seqeunce will not work\n",
    "\n",
    "My preceding anchor sequence is in blue while my AD/tile sequence is in green in this example read.\n",
    "\n",
    "The anchor sequence preceding the barcode is purple while the anchor sequence anteceding is red. Barcode length is 11 by default. (Not necessary if you don't have barcodes)\n",
    "\n",
    "##### Example read showing the default values. No need to change anything if your sequence matches the defaults.\n",
    "\n",
    "<span style=\"font-size:10px\">TCCCTGCGGGCTCTACTTCATCG<span style=\"color:blue;font-weight:800\">GCTAGC</span><span style=\"color:green;font-weight:500;font-size:10px\">**GGTTCTT...CTGCTAAA**</span>TGATAAATAGATGA<span style=\"color:purple;font-weight:800\">GGGCCCG</span>TCAACATAGAA<span style=\"color:red;font-weight:800\">GGAGAGAA</span>ACATCTAAAAAAGCGATA</span>"
   ]
  },
  {
   "cell_type": "markdown",
   "metadata": {},
   "source": [
    "### Imports"
   ]
  },
  {
   "cell_type": "code",
   "execution_count": 2,
   "metadata": {},
   "outputs": [],
   "source": [
    "from labtools.adtools import sort"
   ]
  },
  {
   "cell_type": "markdown",
   "metadata": {},
   "source": [
    "### Initialize a sort"
   ]
  },
  {
   "cell_type": "code",
   "execution_count": 3,
   "metadata": {},
   "outputs": [],
   "source": [
    "my_sort = sort.Sort([\"../exampledata/bin1.fastq\", \"../exampledata/bin2.fastq\", \"../exampledata/bin3.fastq\", \n",
    "                \"../exampledata/bin4.fastq\"], bin_counts = [100000,100000,100000,100000], \n",
    "               bin_values = [61,141,251,1462], design_file = \"../exampledata/unique_seqs.csv\")"
   ]
  },
  {
   "cell_type": "markdown",
   "metadata": {},
   "source": [
    "### Get activity values"
   ]
  },
  {
   "cell_type": "code",
   "execution_count": 4,
   "metadata": {},
   "outputs": [
    {
     "name": "stdout",
     "output_type": "stream",
     "text": [
      "Opening file bin1.fastq ...\n"
     ]
    },
    {
     "name": "stdout",
     "output_type": "stream",
     "text": [
      "Reading lines... 0 reads completed\r"
     ]
    },
    {
     "name": "stdout",
     "output_type": "stream",
     "text": [
      "Total parsed reads = 2,000                      \n"
     ]
    },
    {
     "name": "stdout",
     "output_type": "stream",
     "text": [
      "Opening file bin2.fastq ...\n"
     ]
    },
    {
     "name": "stdout",
     "output_type": "stream",
     "text": [
      "Reading lines... 0 reads completed\r"
     ]
    },
    {
     "name": "stdout",
     "output_type": "stream",
     "text": [
      "Total parsed reads = 2,000                      \n"
     ]
    },
    {
     "name": "stdout",
     "output_type": "stream",
     "text": [
      "Opening file bin3.fastq ...\n"
     ]
    },
    {
     "name": "stdout",
     "output_type": "stream",
     "text": [
      "Reading lines... 0 reads completed\r"
     ]
    },
    {
     "name": "stdout",
     "output_type": "stream",
     "text": [
      "Total parsed reads = 2,000                      \n"
     ]
    },
    {
     "name": "stdout",
     "output_type": "stream",
     "text": [
      "Opening file bin4.fastq ...\n"
     ]
    },
    {
     "name": "stdout",
     "output_type": "stream",
     "text": [
      "Reading lines... 0 reads completed\r"
     ]
    },
    {
     "name": "stdout",
     "output_type": "stream",
     "text": [
      "Total parsed reads = 2,000                      \n"
     ]
    }
   ],
   "source": [
    "activities, total_reads, reads_per_bin = my_sort.process()"
   ]
  },
  {
   "cell_type": "code",
   "execution_count": 5,
   "metadata": {
    "scrolled": true
   },
   "outputs": [
    {
     "data": {
      "text/html": [
       "<style type=\"text/css\">\n",
       "#T_0dac6_row0_col0, #T_0dac6_row0_col1, #T_0dac6_row0_col2, #T_0dac6_row0_col3, #T_0dac6_row0_col4, #T_0dac6_row1_col0, #T_0dac6_row1_col1, #T_0dac6_row1_col2, #T_0dac6_row1_col3, #T_0dac6_row1_col4, #T_0dac6_row2_col0, #T_0dac6_row2_col1, #T_0dac6_row2_col2, #T_0dac6_row2_col3, #T_0dac6_row2_col4, #T_0dac6_row3_col0, #T_0dac6_row3_col1, #T_0dac6_row3_col2, #T_0dac6_row3_col3, #T_0dac6_row3_col4, #T_0dac6_row4_col0, #T_0dac6_row4_col1, #T_0dac6_row4_col2, #T_0dac6_row4_col3, #T_0dac6_row4_col4, #T_0dac6_row5_col0, #T_0dac6_row5_col1, #T_0dac6_row5_col2, #T_0dac6_row5_col3, #T_0dac6_row5_col4, #T_0dac6_row6_col0, #T_0dac6_row6_col1, #T_0dac6_row6_col2, #T_0dac6_row6_col3, #T_0dac6_row6_col4, #T_0dac6_row7_col0, #T_0dac6_row7_col1, #T_0dac6_row7_col2, #T_0dac6_row7_col3, #T_0dac6_row7_col4, #T_0dac6_row8_col0, #T_0dac6_row8_col1, #T_0dac6_row8_col2, #T_0dac6_row8_col3, #T_0dac6_row8_col4, #T_0dac6_row9_col0, #T_0dac6_row9_col1, #T_0dac6_row9_col2, #T_0dac6_row9_col3, #T_0dac6_row9_col4 {\n",
       "  font-size: 10pt;\n",
       "}\n",
       "#T_0dac6_level0_row0, #T_0dac6_level0_row1, #T_0dac6_level0_row2, #T_0dac6_level0_row3, #T_0dac6_level0_row4, #T_0dac6_level0_row5, #T_0dac6_level0_row6, #T_0dac6_level0_row7, #T_0dac6_level0_row8, #T_0dac6_level0_row9 {\n",
       "  font-size: 8pt;\n",
       "  max-width: 250px;\n",
       "  text-overflow: ellipsis;\n",
       "  overflow: hidden;\n",
       "  font-size: 8pt;\n",
       "  max-width: 250px;\n",
       "  text-overflow: ellipsis;\n",
       "  overflow: hidden;\n",
       "}\n",
       "</style>\n",
       "<table id=\"T_0dac6\">\n",
       "  <thead>\n",
       "    <tr>\n",
       "      <th class=\"blank level0\" >&nbsp;</th>\n",
       "      <th id=\"T_0dac6_level0_col0\" class=\"col_heading level0 col0\" >0</th>\n",
       "      <th id=\"T_0dac6_level0_col1\" class=\"col_heading level0 col1\" >1</th>\n",
       "      <th id=\"T_0dac6_level0_col2\" class=\"col_heading level0 col2\" >2</th>\n",
       "      <th id=\"T_0dac6_level0_col3\" class=\"col_heading level0 col3\" >3</th>\n",
       "      <th id=\"T_0dac6_level0_col4\" class=\"col_heading level0 col4\" >Activity</th>\n",
       "    </tr>\n",
       "  </thead>\n",
       "  <tbody>\n",
       "    <tr>\n",
       "      <th id=\"T_0dac6_level0_row0\" class=\"row_heading level0 row0\" >GAAGATCCAACTTGGTTTGATTCTGGTTCTCAATTTATCTTAAATTCTCAACAATTGGTTGAAGCTTTGTCTTTGTGTGATGATGCTGCTGGTTCTCAAGATAGAGAAGAGAATACTAAT</th>\n",
       "      <td id=\"T_0dac6_row0_col0\" class=\"data row0 col0\" >0.251461</td>\n",
       "      <td id=\"T_0dac6_row0_col1\" class=\"data row0 col1\" >0.288201</td>\n",
       "      <td id=\"T_0dac6_row0_col2\" class=\"data row0 col2\" >0.460339</td>\n",
       "      <td id=\"T_0dac6_row0_col3\" class=\"data row0 col3\" >0.000000</td>\n",
       "      <td id=\"T_0dac6_row0_col4\" class=\"data row0 col4\" >171.520411</td>\n",
       "    </tr>\n",
       "    <tr>\n",
       "      <th id=\"T_0dac6_level0_row1\" class=\"row_heading level0 row1\" >GAAGCTTTGTCTTTGTGTGATGATTTGTTGGGTGATCAAGATAGAGAAGAGAATGATAATGATGGTGATTTGAAAGATAAACAACCATGTATTGCTGATTATGCTCATTTGGGTCCAGAA</th>\n",
       "      <td id=\"T_0dac6_row1_col0\" class=\"data row1 col0\" >0.097356</td>\n",
       "      <td id=\"T_0dac6_row1_col1\" class=\"data row1 col1\" >0.519277</td>\n",
       "      <td id=\"T_0dac6_row1_col2\" class=\"data row1 col2\" >0.343084</td>\n",
       "      <td id=\"T_0dac6_row1_col3\" class=\"data row1 col3\" >0.040284</td>\n",
       "      <td id=\"T_0dac6_row1_col4\" class=\"data row1 col4\" >224.165635</td>\n",
       "    </tr>\n",
       "    <tr>\n",
       "      <th id=\"T_0dac6_level0_row2\" class=\"row_heading level0 row2\" >GATTTGGCTGAAGATGATGAAGTTATGTGTATGGAAGATGAAGTTCAATCTATTCAACCAAATCATGAAAGACCAGATGATGGTCCAGAATTGGAACATGGTTTGGAGAATGGTGCTAAA</th>\n",
       "      <td id=\"T_0dac6_row2_col0\" class=\"data row2 col0\" >0.352021</td>\n",
       "      <td id=\"T_0dac6_row2_col1\" class=\"data row2 col1\" >0.502035</td>\n",
       "      <td id=\"T_0dac6_row2_col2\" class=\"data row2 col2\" >0.145944</td>\n",
       "      <td id=\"T_0dac6_row2_col3\" class=\"data row2 col3\" >0.000000</td>\n",
       "      <td id=\"T_0dac6_row2_col4\" class=\"data row2 col4\" >128.892233</td>\n",
       "    </tr>\n",
       "    <tr>\n",
       "      <th id=\"T_0dac6_level0_row3\" class=\"row_heading level0 row3\" >GGTCAAAGGAAGAGAAGGAAGATTACTCCAACTTTGGTTAATGATGAACCAGTTAGATGGCATAAGACTGGTAGAACTAAACCAGTTATGTTGTCTGGTGTTCAAAGAGGTTGTAAGAAA</th>\n",
       "      <td id=\"T_0dac6_row3_col0\" class=\"data row3 col0\" >0.378641</td>\n",
       "      <td id=\"T_0dac6_row3_col1\" class=\"data row3 col1\" >0.367199</td>\n",
       "      <td id=\"T_0dac6_row3_col2\" class=\"data row3 col2\" >0.254160</td>\n",
       "      <td id=\"T_0dac6_row3_col3\" class=\"data row3 col3\" >0.000000</td>\n",
       "      <td id=\"T_0dac6_row3_col4\" class=\"data row3 col4\" >138.666285</td>\n",
       "    </tr>\n",
       "    <tr>\n",
       "      <th id=\"T_0dac6_level0_row4\" class=\"row_heading level0 row4\" >TCTGAATTGACTTCTACTTTGGGTATTTCTCATAGATTGCCACAATCTTTGACTCCATGTGTTAAGACTGGTTCTTTGCAATCTGGTGGTTTGGTTCAATCTGTTCCATTTGAAGAATTG</th>\n",
       "      <td id=\"T_0dac6_row4_col0\" class=\"data row4 col0\" >0.330550</td>\n",
       "      <td id=\"T_0dac6_row4_col1\" class=\"data row4 col1\" >0.278750</td>\n",
       "      <td id=\"T_0dac6_row4_col2\" class=\"data row4 col2\" >0.390700</td>\n",
       "      <td id=\"T_0dac6_row4_col3\" class=\"data row4 col3\" >0.000000</td>\n",
       "      <td id=\"T_0dac6_row4_col4\" class=\"data row4 col4\" >157.533007</td>\n",
       "    </tr>\n",
       "    <tr>\n",
       "      <th id=\"T_0dac6_level0_row5\" class=\"row_heading level0 row5\" >GAAATGGCTGATGATAAAGAAGAACAAGAGAAAGATAGAGATAATGAGAATCAAGGTGAAGAAGATCCAACTTGGGCTGATTCTGGTGATCAATTTATTGCTAATTCTCAACAATTGGTT</th>\n",
       "      <td id=\"T_0dac6_row5_col0\" class=\"data row5 col0\" >0.361290</td>\n",
       "      <td id=\"T_0dac6_row5_col1\" class=\"data row5 col1\" >0.420448</td>\n",
       "      <td id=\"T_0dac6_row5_col2\" class=\"data row5 col2\" >0.218262</td>\n",
       "      <td id=\"T_0dac6_row5_col3\" class=\"data row5 col3\" >0.000000</td>\n",
       "      <td id=\"T_0dac6_row5_col4\" class=\"data row5 col4\" >136.105579</td>\n",
       "    </tr>\n",
       "    <tr>\n",
       "      <th id=\"T_0dac6_level0_row6\" class=\"row_heading level0 row6\" >TCTGAACCACATGTCTTGATTGAAGAATTTATTAGACCAGTTACTGAAGATGTTGGTATTAATTATACTCATCCACAGAATTTGCCAGGTGCTAATAAAGATGGTGTTTCTGTCTTCTTT</th>\n",
       "      <td id=\"T_0dac6_row6_col0\" class=\"data row6 col0\" >0.315398</td>\n",
       "      <td id=\"T_0dac6_row6_col1\" class=\"data row6 col1\" >0.367040</td>\n",
       "      <td id=\"T_0dac6_row6_col2\" class=\"data row6 col2\" >0.317562</td>\n",
       "      <td id=\"T_0dac6_row6_col3\" class=\"data row6 col3\" >0.000000</td>\n",
       "      <td id=\"T_0dac6_row6_col4\" class=\"data row6 col4\" >150.700019</td>\n",
       "    </tr>\n",
       "    <tr>\n",
       "      <th id=\"T_0dac6_level0_row7\" class=\"row_heading level0 row7\" >CAATTTATCTTGAATGCTCAACAATTGGTTGAAGCTTTGTCTTTGTGTGATGATTTGTTGGGTTCTCAAGATAGAGAAGAGAATACTAATTCTGGTTCTTTGAAAGATAAACAACCATGT</th>\n",
       "      <td id=\"T_0dac6_row7_col0\" class=\"data row7 col0\" >0.393467</td>\n",
       "      <td id=\"T_0dac6_row7_col1\" class=\"data row7 col1\" >0.254385</td>\n",
       "      <td id=\"T_0dac6_row7_col2\" class=\"data row7 col2\" >0.352148</td>\n",
       "      <td id=\"T_0dac6_row7_col3\" class=\"data row7 col3\" >0.000000</td>\n",
       "      <td id=\"T_0dac6_row7_col4\" class=\"data row7 col4\" >148.258990</td>\n",
       "    </tr>\n",
       "    <tr>\n",
       "      <th id=\"T_0dac6_level0_row8\" class=\"row_heading level0 row8\" >ATTATTTGGCATTTGTTGGCTAAATCTGGTTTGTCTGGTTTGTCTTCTCATCCATTTATTGATGAATTTATTCCAACTGTTAATCAAGATGATGGTATTTGTTATACTCATCCTAAGAAT</th>\n",
       "      <td id=\"T_0dac6_row8_col0\" class=\"data row8 col0\" >0.566048</td>\n",
       "      <td id=\"T_0dac6_row8_col1\" class=\"data row8 col1\" >0.243975</td>\n",
       "      <td id=\"T_0dac6_row8_col2\" class=\"data row8 col2\" >0.189977</td>\n",
       "      <td id=\"T_0dac6_row8_col3\" class=\"data row8 col3\" >0.000000</td>\n",
       "      <td id=\"T_0dac6_row8_col4\" class=\"data row8 col4\" >116.613702</td>\n",
       "    </tr>\n",
       "    <tr>\n",
       "      <th id=\"T_0dac6_level0_row9\" class=\"row_heading level0 row9\" >AAGAAGAGGAAGAATAAGAATCAAGGTAAGAAGAAACCAACTTGGTTTAAATCTGGTGCTCAATTTATCTTGAATGCTCAACAATTGGTTAAAGCTGCTTCTGCTTGTAAGAAATTGTTG</th>\n",
       "      <td id=\"T_0dac6_row9_col0\" class=\"data row9 col0\" >0.253394</td>\n",
       "      <td id=\"T_0dac6_row9_col1\" class=\"data row9 col1\" >0.491474</td>\n",
       "      <td id=\"T_0dac6_row9_col2\" class=\"data row9 col2\" >0.255133</td>\n",
       "      <td id=\"T_0dac6_row9_col3\" class=\"data row9 col3\" >0.000000</td>\n",
       "      <td id=\"T_0dac6_row9_col4\" class=\"data row9 col4\" >148.793098</td>\n",
       "    </tr>\n",
       "  </tbody>\n",
       "</table>\n"
      ],
      "text/plain": [
       "<pandas.io.formats.style.Styler at 0x7f2a344b7a90>"
      ]
     },
     "execution_count": 5,
     "metadata": {},
     "output_type": "execute_result"
    }
   ],
   "source": [
    "# activity + normalized abundance in each bin\n",
    "display_df(activities)"
   ]
  },
  {
   "cell_type": "code",
   "execution_count": 6,
   "metadata": {
    "scrolled": true
   },
   "outputs": [
    {
     "data": {
      "text/plain": [
       "GAAGATCCAACTTGGTTTGATTCTGGTTCTCAATTTATCTTAAATTCTCAACAATTGGTTGAAGCTTTGTCTTTGTGTGATGATGCTGCTGGTTCTCAAGATAGAGAAGAGAATACTAAT    44.0\n",
       "GAAGCTTTGTCTTTGTGTGATGATTTGTTGGGTGATCAAGATAGAGAAGAGAATGATAATGATGGTGATTTGAAAGATAAACAACCATGTATTGCTGATTATGCTCATTTGGGTCCAGAA    21.0\n",
       "GATTTGGCTGAAGATGATGAAGTTATGTGTATGGAAGATGAAGTTCAATCTATTCAACCAAATCATGAAAGACCAGATGATGGTCCAGAATTGGAACATGGTTTGGAGAATGGTGCTAAA    49.0\n",
       "GGTCAAAGGAAGAGAAGGAAGATTACTCCAACTTTGGTTAATGATGAACCAGTTAGATGGCATAAGACTGGTAGAACTAAACCAGTTATGTTGTCTGGTGTTCAAAGAGGTTGTAAGAAA    16.0\n",
       "TCTGAATTGACTTCTACTTTGGGTATTTCTCATAGATTGCCACAATCTTTGACTCCATGTGTTAAGACTGGTTCTTTGCAATCTGGTGGTTTGGTTCAATCTGTTCCATTTGAAGAATTG    70.0\n",
       "                                                                                                                            ... \n",
       "GACCCAACTGAATGGTTTGATTCTGGTGCTCAATTTATCTTGAATGCTCAACAATTGGTTGAAGCTCAATGTTTGGATGATAATTTGACTAGAGAATTGGAATCTAATGATGGTGCTTTG    23.0\n",
       "TCTACTGATTCTACTCCAATGTTTGATTATGATAATTTGGAAGATAATTCTAAAGATTGGACTTCTTTGTTTGATAATGATATTCCAGTTACTACTGATGATGTTTCTTTGGCTGATAAA    24.0\n",
       "TCTACTGGTCAAGTCTTGTTTGATATTGATGACTTTAGATGGTTGTTGGATCCAGATGATGAACAATTGGGTAAAGAAGCTATCTTGTCTGATCAATTTGGTAAACCAACTCCAGAGAAT    12.0\n",
       "GAAGATCCAACTTCTGATTCTGCTATTCAACAATTGTGGAATCAAGGATTCTTGTTTGTTGAATCTTTGTCTTTGTGTGATGATTTGTTGGGTTCTCAAGATAGAGAAGAGAATACTAAT    11.0\n",
       "GAAATTGATCAAATTTCTGATCCAGATAAATTGCCAGTTAATTTGGAACCATTTAGATTGGATCAATTGGAATTTACTGGTGATGATACTTCTGGTGCTGGTTTGAAATTTCAATGGGAT    13.0\n",
       "Length: 200, dtype: float64"
      ]
     },
     "execution_count": 6,
     "metadata": {},
     "output_type": "execute_result"
    }
   ],
   "source": [
    "# the total reads for each sequence\n",
    "total_reads"
   ]
  },
  {
   "cell_type": "code",
   "execution_count": 7,
   "metadata": {
    "scrolled": false
   },
   "outputs": [
    {
     "data": {
      "text/html": [
       "<style type=\"text/css\">\n",
       "#T_8dd76_row0_col0, #T_8dd76_row0_col1, #T_8dd76_row0_col2, #T_8dd76_row0_col3, #T_8dd76_row1_col0, #T_8dd76_row1_col1, #T_8dd76_row1_col2, #T_8dd76_row1_col3, #T_8dd76_row2_col0, #T_8dd76_row2_col1, #T_8dd76_row2_col2, #T_8dd76_row2_col3, #T_8dd76_row3_col0, #T_8dd76_row3_col1, #T_8dd76_row3_col2, #T_8dd76_row3_col3, #T_8dd76_row4_col0, #T_8dd76_row4_col1, #T_8dd76_row4_col2, #T_8dd76_row4_col3, #T_8dd76_row5_col0, #T_8dd76_row5_col1, #T_8dd76_row5_col2, #T_8dd76_row5_col3, #T_8dd76_row6_col0, #T_8dd76_row6_col1, #T_8dd76_row6_col2, #T_8dd76_row6_col3, #T_8dd76_row7_col0, #T_8dd76_row7_col1, #T_8dd76_row7_col2, #T_8dd76_row7_col3, #T_8dd76_row8_col0, #T_8dd76_row8_col1, #T_8dd76_row8_col2, #T_8dd76_row8_col3, #T_8dd76_row9_col0, #T_8dd76_row9_col1, #T_8dd76_row9_col2, #T_8dd76_row9_col3 {\n",
       "  font-size: 10pt;\n",
       "}\n",
       "#T_8dd76_level0_row0, #T_8dd76_level0_row1, #T_8dd76_level0_row2, #T_8dd76_level0_row3, #T_8dd76_level0_row4, #T_8dd76_level0_row5, #T_8dd76_level0_row6, #T_8dd76_level0_row7, #T_8dd76_level0_row8, #T_8dd76_level0_row9 {\n",
       "  font-size: 8pt;\n",
       "  max-width: 250px;\n",
       "  text-overflow: ellipsis;\n",
       "  overflow: hidden;\n",
       "  font-size: 8pt;\n",
       "  max-width: 250px;\n",
       "  text-overflow: ellipsis;\n",
       "  overflow: hidden;\n",
       "}\n",
       "</style>\n",
       "<table id=\"T_8dd76\">\n",
       "  <thead>\n",
       "    <tr>\n",
       "      <th class=\"blank level0\" >&nbsp;</th>\n",
       "      <th id=\"T_8dd76_level0_col0\" class=\"col_heading level0 col0\" >0</th>\n",
       "      <th id=\"T_8dd76_level0_col1\" class=\"col_heading level0 col1\" >1</th>\n",
       "      <th id=\"T_8dd76_level0_col2\" class=\"col_heading level0 col2\" >2</th>\n",
       "      <th id=\"T_8dd76_level0_col3\" class=\"col_heading level0 col3\" >3</th>\n",
       "    </tr>\n",
       "  </thead>\n",
       "  <tbody>\n",
       "    <tr>\n",
       "      <th id=\"T_8dd76_level0_row0\" class=\"row_heading level0 row0\" >GAAGATCCAACTTGGTTTGATTCTGGTTCTCAATTTATCTTAAATTCTCAACAATTGGTTGAAGCTTTGTCTTTGTGTGATGATGCTGCTGGTTCTCAAGATAGAGAAGAGAATACTAAT</th>\n",
       "      <td id=\"T_8dd76_row0_col0\" class=\"data row0 col0\" >11.000000</td>\n",
       "      <td id=\"T_8dd76_row0_col1\" class=\"data row0 col1\" >13.000000</td>\n",
       "      <td id=\"T_8dd76_row0_col2\" class=\"data row0 col2\" >20.000000</td>\n",
       "      <td id=\"T_8dd76_row0_col3\" class=\"data row0 col3\" >0.000000</td>\n",
       "    </tr>\n",
       "    <tr>\n",
       "      <th id=\"T_8dd76_level0_row1\" class=\"row_heading level0 row1\" >GAAGCTTTGTCTTTGTGTGATGATTTGTTGGGTGATCAAGATAGAGAAGAGAATGATAATGATGGTGATTTGAAAGATAAACAACCATGTATTGCTGATTATGCTCATTTGGGTCCAGAA</th>\n",
       "      <td id=\"T_8dd76_row1_col0\" class=\"data row1 col0\" >2.000000</td>\n",
       "      <td id=\"T_8dd76_row1_col1\" class=\"data row1 col1\" >11.000000</td>\n",
       "      <td id=\"T_8dd76_row1_col2\" class=\"data row1 col2\" >7.000000</td>\n",
       "      <td id=\"T_8dd76_row1_col3\" class=\"data row1 col3\" >1.000000</td>\n",
       "    </tr>\n",
       "    <tr>\n",
       "      <th id=\"T_8dd76_level0_row2\" class=\"row_heading level0 row2\" >GATTTGGCTGAAGATGATGAAGTTATGTGTATGGAAGATGAAGTTCAATCTATTCAACCAAATCATGAAAGACCAGATGATGGTCCAGAATTGGAACATGGTTTGGAGAATGGTGCTAAA</th>\n",
       "      <td id=\"T_8dd76_row2_col0\" class=\"data row2 col0\" >17.000000</td>\n",
       "      <td id=\"T_8dd76_row2_col1\" class=\"data row2 col1\" >25.000000</td>\n",
       "      <td id=\"T_8dd76_row2_col2\" class=\"data row2 col2\" >7.000000</td>\n",
       "      <td id=\"T_8dd76_row2_col3\" class=\"data row2 col3\" >0.000000</td>\n",
       "    </tr>\n",
       "    <tr>\n",
       "      <th id=\"T_8dd76_level0_row3\" class=\"row_heading level0 row3\" >GGTCAAAGGAAGAGAAGGAAGATTACTCCAACTTTGGTTAATGATGAACCAGTTAGATGGCATAAGACTGGTAGAACTAAACCAGTTATGTTGTCTGGTGTTCAAAGAGGTTGTAAGAAA</th>\n",
       "      <td id=\"T_8dd76_row3_col0\" class=\"data row3 col0\" >6.000000</td>\n",
       "      <td id=\"T_8dd76_row3_col1\" class=\"data row3 col1\" >6.000000</td>\n",
       "      <td id=\"T_8dd76_row3_col2\" class=\"data row3 col2\" >4.000000</td>\n",
       "      <td id=\"T_8dd76_row3_col3\" class=\"data row3 col3\" >0.000000</td>\n",
       "    </tr>\n",
       "    <tr>\n",
       "      <th id=\"T_8dd76_level0_row4\" class=\"row_heading level0 row4\" >TCTGAATTGACTTCTACTTTGGGTATTTCTCATAGATTGCCACAATCTTTGACTCCATGTGTTAAGACTGGTTCTTTGCAATCTGGTGGTTTGGTTCAATCTGTTCCATTTGAAGAATTG</th>\n",
       "      <td id=\"T_8dd76_row4_col0\" class=\"data row4 col0\" >23.000000</td>\n",
       "      <td id=\"T_8dd76_row4_col1\" class=\"data row4 col1\" >20.000000</td>\n",
       "      <td id=\"T_8dd76_row4_col2\" class=\"data row4 col2\" >27.000000</td>\n",
       "      <td id=\"T_8dd76_row4_col3\" class=\"data row4 col3\" >0.000000</td>\n",
       "    </tr>\n",
       "    <tr>\n",
       "      <th id=\"T_8dd76_level0_row5\" class=\"row_heading level0 row5\" >GAAATGGCTGATGATAAAGAAGAACAAGAGAAAGATAGAGATAATGAGAATCAAGGTGAAGAAGATCCAACTTGGGCTGATTCTGGTGATCAATTTATTGCTAATTCTCAACAATTGGTT</th>\n",
       "      <td id=\"T_8dd76_row5_col0\" class=\"data row5 col0\" >5.000000</td>\n",
       "      <td id=\"T_8dd76_row5_col1\" class=\"data row5 col1\" >6.000000</td>\n",
       "      <td id=\"T_8dd76_row5_col2\" class=\"data row5 col2\" >3.000000</td>\n",
       "      <td id=\"T_8dd76_row5_col3\" class=\"data row5 col3\" >0.000000</td>\n",
       "    </tr>\n",
       "    <tr>\n",
       "      <th id=\"T_8dd76_level0_row6\" class=\"row_heading level0 row6\" >TCTGAACCACATGTCTTGATTGAAGAATTTATTAGACCAGTTACTGAAGATGTTGGTATTAATTATACTCATCCACAGAATTTGCCAGGTGCTAATAAAGATGGTGTTTCTGTCTTCTTT</th>\n",
       "      <td id=\"T_8dd76_row6_col0\" class=\"data row6 col0\" >5.000000</td>\n",
       "      <td id=\"T_8dd76_row6_col1\" class=\"data row6 col1\" >6.000000</td>\n",
       "      <td id=\"T_8dd76_row6_col2\" class=\"data row6 col2\" >5.000000</td>\n",
       "      <td id=\"T_8dd76_row6_col3\" class=\"data row6 col3\" >0.000000</td>\n",
       "    </tr>\n",
       "    <tr>\n",
       "      <th id=\"T_8dd76_level0_row7\" class=\"row_heading level0 row7\" >CAATTTATCTTGAATGCTCAACAATTGGTTGAAGCTTTGTCTTTGTGTGATGATTTGTTGGGTTCTCAAGATAGAGAAGAGAATACTAATTCTGGTTCTTTGAAAGATAAACAACCATGT</th>\n",
       "      <td id=\"T_8dd76_row7_col0\" class=\"data row7 col0\" >9.000000</td>\n",
       "      <td id=\"T_8dd76_row7_col1\" class=\"data row7 col1\" >6.000000</td>\n",
       "      <td id=\"T_8dd76_row7_col2\" class=\"data row7 col2\" >8.000000</td>\n",
       "      <td id=\"T_8dd76_row7_col3\" class=\"data row7 col3\" >0.000000</td>\n",
       "    </tr>\n",
       "    <tr>\n",
       "      <th id=\"T_8dd76_level0_row8\" class=\"row_heading level0 row8\" >ATTATTTGGCATTTGTTGGCTAAATCTGGTTTGTCTGGTTTGTCTTCTCATCCATTTATTGATGAATTTATTCCAACTGTTAATCAAGATGATGGTATTTGTTATACTCATCCTAAGAAT</th>\n",
       "      <td id=\"T_8dd76_row8_col0\" class=\"data row8 col0\" >9.000000</td>\n",
       "      <td id=\"T_8dd76_row8_col1\" class=\"data row8 col1\" >4.000000</td>\n",
       "      <td id=\"T_8dd76_row8_col2\" class=\"data row8 col2\" >3.000000</td>\n",
       "      <td id=\"T_8dd76_row8_col3\" class=\"data row8 col3\" >0.000000</td>\n",
       "    </tr>\n",
       "    <tr>\n",
       "      <th id=\"T_8dd76_level0_row9\" class=\"row_heading level0 row9\" >AAGAAGAGGAAGAATAAGAATCAAGGTAAGAAGAAACCAACTTGGTTTAAATCTGGTGCTCAATTTATCTTGAATGCTCAACAATTGGTTAAAGCTGCTTCTGCTTGTAAGAAATTGTTG</th>\n",
       "      <td id=\"T_8dd76_row9_col0\" class=\"data row9 col0\" >5.000000</td>\n",
       "      <td id=\"T_8dd76_row9_col1\" class=\"data row9 col1\" >10.000000</td>\n",
       "      <td id=\"T_8dd76_row9_col2\" class=\"data row9 col2\" >5.000000</td>\n",
       "      <td id=\"T_8dd76_row9_col3\" class=\"data row9 col3\" >0.000000</td>\n",
       "    </tr>\n",
       "  </tbody>\n",
       "</table>\n"
      ],
      "text/plain": [
       "<pandas.io.formats.style.Styler at 0x7f2a344b7400>"
      ]
     },
     "execution_count": 7,
     "metadata": {},
     "output_type": "execute_result"
    }
   ],
   "source": [
    "# the reads of each tile per bin\n",
    "display_df(reads_per_bin)"
   ]
  },
  {
   "cell_type": "markdown",
   "metadata": {},
   "source": [
    "<a id='perfect_matches_note'></a>\n",
    "#### Locate any tiles, not just perfect matches\n",
    "If you want to find sequences even if they don't match your designed sequences, simply do not include the design file. A short (less than 120 bp) tile will probably appear with a significant number of reads. This is **probably** your untransformed background (cells transformed with a plasmid that did not get a tile). Most of the non-perfect matching tiles will be sequencing errors. You might find a way to map these back to their true tile. A few of the non-perfect matching tiles (likely those with a significant number of reads) will be sequencing library PCR amplification errors. An even fewer number of the non-perfect matching tiles could be mutants that arose within the actual cell, or free tiles. These will probably have a significant number of reads. Someone may put in the effort to distinguish these categories in the future."
   ]
  },
  {
   "cell_type": "code",
   "execution_count": 8,
   "metadata": {},
   "outputs": [
    {
     "name": "stdout",
     "output_type": "stream",
     "text": [
      "Opening file bin1.fastq ...\n"
     ]
    },
    {
     "name": "stdout",
     "output_type": "stream",
     "text": [
      "Reading lines... 0 reads completed\r"
     ]
    },
    {
     "name": "stdout",
     "output_type": "stream",
     "text": [
      "Total parsed reads = 2,000                      \n"
     ]
    },
    {
     "name": "stdout",
     "output_type": "stream",
     "text": [
      "Opening file bin2.fastq ...\n"
     ]
    },
    {
     "name": "stdout",
     "output_type": "stream",
     "text": [
      "Reading lines... 0 reads completed\r"
     ]
    },
    {
     "name": "stdout",
     "output_type": "stream",
     "text": [
      "Total parsed reads = 2,000                      \n"
     ]
    },
    {
     "name": "stdout",
     "output_type": "stream",
     "text": [
      "Opening file bin3.fastq ...\n"
     ]
    },
    {
     "name": "stdout",
     "output_type": "stream",
     "text": [
      "Reading lines... 0 reads completed\r"
     ]
    },
    {
     "name": "stdout",
     "output_type": "stream",
     "text": [
      "Total parsed reads = 2,000                      \n"
     ]
    },
    {
     "name": "stdout",
     "output_type": "stream",
     "text": [
      "Opening file bin4.fastq ...\n"
     ]
    },
    {
     "name": "stdout",
     "output_type": "stream",
     "text": [
      "Reading lines... 0 reads completed\r"
     ]
    },
    {
     "name": "stdout",
     "output_type": "stream",
     "text": [
      "Total parsed reads = 2,000                      \n"
     ]
    }
   ],
   "source": [
    "my_sort = sort.Sort([\"../exampledata/bin1.fastq\", \"../exampledata/bin2.fastq\", \"../exampledata/bin3.fastq\", \n",
    "                \"../exampledata/bin4.fastq\"], bin_counts = [100000,100000,100000,100000], \n",
    "               bin_values = [61,141,251,1462])\n",
    "activities_no_design, numreads_total, _ = my_sort.process()"
   ]
  },
  {
   "cell_type": "code",
   "execution_count": 9,
   "metadata": {
    "scrolled": true
   },
   "outputs": [
    {
     "data": {
      "text/html": [
       "<style type=\"text/css\">\n",
       "#T_b8d43_row0_col0, #T_b8d43_row0_col1, #T_b8d43_row0_col2, #T_b8d43_row0_col3, #T_b8d43_row0_col4, #T_b8d43_row1_col0, #T_b8d43_row1_col1, #T_b8d43_row1_col2, #T_b8d43_row1_col3, #T_b8d43_row1_col4, #T_b8d43_row2_col0, #T_b8d43_row2_col1, #T_b8d43_row2_col2, #T_b8d43_row2_col3, #T_b8d43_row2_col4, #T_b8d43_row3_col0, #T_b8d43_row3_col1, #T_b8d43_row3_col2, #T_b8d43_row3_col3, #T_b8d43_row3_col4, #T_b8d43_row4_col0, #T_b8d43_row4_col1, #T_b8d43_row4_col2, #T_b8d43_row4_col3, #T_b8d43_row4_col4, #T_b8d43_row5_col0, #T_b8d43_row5_col1, #T_b8d43_row5_col2, #T_b8d43_row5_col3, #T_b8d43_row5_col4, #T_b8d43_row6_col0, #T_b8d43_row6_col1, #T_b8d43_row6_col2, #T_b8d43_row6_col3, #T_b8d43_row6_col4, #T_b8d43_row7_col0, #T_b8d43_row7_col1, #T_b8d43_row7_col2, #T_b8d43_row7_col3, #T_b8d43_row7_col4, #T_b8d43_row8_col0, #T_b8d43_row8_col1, #T_b8d43_row8_col2, #T_b8d43_row8_col3, #T_b8d43_row8_col4, #T_b8d43_row9_col0, #T_b8d43_row9_col1, #T_b8d43_row9_col2, #T_b8d43_row9_col3, #T_b8d43_row9_col4 {\n",
       "  font-size: 10pt;\n",
       "}\n",
       "#T_b8d43_level0_row0, #T_b8d43_level0_row1, #T_b8d43_level0_row2, #T_b8d43_level0_row3, #T_b8d43_level0_row4, #T_b8d43_level0_row5, #T_b8d43_level0_row6, #T_b8d43_level0_row7, #T_b8d43_level0_row8, #T_b8d43_level0_row9 {\n",
       "  font-size: 8pt;\n",
       "  max-width: 250px;\n",
       "  text-overflow: ellipsis;\n",
       "  overflow: hidden;\n",
       "  font-size: 8pt;\n",
       "  max-width: 250px;\n",
       "  text-overflow: ellipsis;\n",
       "  overflow: hidden;\n",
       "}\n",
       "</style>\n",
       "<table id=\"T_b8d43\">\n",
       "  <thead>\n",
       "    <tr>\n",
       "      <th class=\"blank level0\" >&nbsp;</th>\n",
       "      <th id=\"T_b8d43_level0_col0\" class=\"col_heading level0 col0\" >0</th>\n",
       "      <th id=\"T_b8d43_level0_col1\" class=\"col_heading level0 col1\" >1</th>\n",
       "      <th id=\"T_b8d43_level0_col2\" class=\"col_heading level0 col2\" >2</th>\n",
       "      <th id=\"T_b8d43_level0_col3\" class=\"col_heading level0 col3\" >3</th>\n",
       "      <th id=\"T_b8d43_level0_col4\" class=\"col_heading level0 col4\" >Activity</th>\n",
       "    </tr>\n",
       "  </thead>\n",
       "  <tbody>\n",
       "    <tr>\n",
       "      <th id=\"T_b8d43_level0_row0\" class=\"row_heading level0 row0\" >GAAGATCCAACTTGGTTTGATTCTGGTTCTCAATTTATCTTAAATTCTCAACAATTGGTTGAAGCTTTGTCTTTGTGTGATGATGCTGCTGGTTCTCAAGATAGAGAAGAGAATACTAAT</th>\n",
       "      <td id=\"T_b8d43_row0_col0\" class=\"data row0 col0\" >0.249091</td>\n",
       "      <td id=\"T_b8d43_row0_col1\" class=\"data row0 col1\" >0.283698</td>\n",
       "      <td id=\"T_b8d43_row0_col2\" class=\"data row0 col2\" >0.467211</td>\n",
       "      <td id=\"T_b8d43_row0_col3\" class=\"data row0 col3\" >0.000000</td>\n",
       "      <td id=\"T_b8d43_row0_col4\" class=\"data row0 col4\" >172.465991</td>\n",
       "    </tr>\n",
       "    <tr>\n",
       "      <th id=\"T_b8d43_level0_row1\" class=\"row_heading level0 row1\" >GAAGCTTTGTCTTTGTGTGATGATTTGTTGGGTGATCAAGATAGAGAAGAGAATGATAATGATGGTGATTTGAAAGATAAACAACCATGTATTGCTGATTATGCTCATTTGGGTCCAGAA</th>\n",
       "      <td id=\"T_b8d43_row1_col0\" class=\"data row1 col0\" >0.096596</td>\n",
       "      <td id=\"T_b8d43_row1_col1\" class=\"data row1 col1\" >0.512002</td>\n",
       "      <td id=\"T_b8d43_row1_col2\" class=\"data row1 col2\" >0.348777</td>\n",
       "      <td id=\"T_b8d43_row1_col3\" class=\"data row1 col3\" >0.042625</td>\n",
       "      <td id=\"T_b8d43_row1_col4\" class=\"data row1 col4\" >227.945173</td>\n",
       "    </tr>\n",
       "    <tr>\n",
       "      <th id=\"T_b8d43_level0_row2\" class=\"row_heading level0 row2\" >GATTTGGCTGAAGATGATGAAGTTATGTGTATGGAAGATGAAGTTCAATCTATTCAACCAAATCATGAAAGACCAGATGATGGTCCAGAATTGGAACATGGTTTGGAGAATGGTGCTAAA</th>\n",
       "      <td id=\"T_b8d43_row2_col0\" class=\"data row2 col0\" >0.351864</td>\n",
       "      <td id=\"T_b8d43_row2_col1\" class=\"data row2 col1\" >0.498670</td>\n",
       "      <td id=\"T_b8d43_row2_col2\" class=\"data row2 col2\" >0.149466</td>\n",
       "      <td id=\"T_b8d43_row2_col3\" class=\"data row2 col3\" >0.000000</td>\n",
       "      <td id=\"T_b8d43_row2_col4\" class=\"data row2 col4\" >129.292147</td>\n",
       "    </tr>\n",
       "    <tr>\n",
       "      <th id=\"T_b8d43_level0_row3\" class=\"row_heading level0 row3\" >GGTTAATTAAGGCGCGCCACTTCTAAATAAGCGA</th>\n",
       "      <td id=\"T_b8d43_row3_col0\" class=\"data row3 col0\" >0.210811</td>\n",
       "      <td id=\"T_b8d43_row3_col1\" class=\"data row3 col1\" >0.528218</td>\n",
       "      <td id=\"T_b8d43_row3_col2\" class=\"data row3 col2\" >0.260971</td>\n",
       "      <td id=\"T_b8d43_row3_col3\" class=\"data row3 col3\" >0.000000</td>\n",
       "      <td id=\"T_b8d43_row3_col4\" class=\"data row3 col4\" >152.841957</td>\n",
       "    </tr>\n",
       "    <tr>\n",
       "      <th id=\"T_b8d43_level0_row4\" class=\"row_heading level0 row4\" >GGTCAAAGGAAGAGAAGGAAGATTACTCCAACTTTGGTTAATGATGAACCAGTTAGATGGCATAAGACTGGTAGAACTAAACCAGTTATGTTGTCTGGTGTTCAAAGAGGTTGTAAGAAA</th>\n",
       "      <td id=\"T_b8d43_row4_col0\" class=\"data row4 col0\" >0.377151</td>\n",
       "      <td id=\"T_b8d43_row4_col1\" class=\"data row4 col1\" >0.363465</td>\n",
       "      <td id=\"T_b8d43_row4_col2\" class=\"data row4 col2\" >0.259384</td>\n",
       "      <td id=\"T_b8d43_row4_col3\" class=\"data row4 col3\" >0.000000</td>\n",
       "      <td id=\"T_b8d43_row4_col4\" class=\"data row4 col4\" >139.360114</td>\n",
       "    </tr>\n",
       "    <tr>\n",
       "      <th id=\"T_b8d43_level0_row5\" class=\"row_heading level0 row5\" >TCTGAATTGACTTCTACTTTGGGTATTTCTCATAGATTGCCACAATCTTTGACTCCATGTGTTAAGACTGGTTCTTTGCAATCTGGTGGTTTGGTTCAATCTGTTCCATTTGAAGAATTG</th>\n",
       "      <td id=\"T_b8d43_row5_col0\" class=\"data row5 col0\" >0.327972</td>\n",
       "      <td id=\"T_b8d43_row5_col1\" class=\"data row5 col1\" >0.274844</td>\n",
       "      <td id=\"T_b8d43_row5_col2\" class=\"data row5 col2\" >0.397184</td>\n",
       "      <td id=\"T_b8d43_row5_col3\" class=\"data row5 col3\" >0.000000</td>\n",
       "      <td id=\"T_b8d43_row5_col4\" class=\"data row5 col4\" >158.452427</td>\n",
       "    </tr>\n",
       "    <tr>\n",
       "      <th id=\"T_b8d43_level0_row6\" class=\"row_heading level0 row6\" >GAAATGGCTGATGATAAAGAAGAACAAGAGAAAGATAGAGATAATGAGAATCAAGGTGAAGAAGATCCAACTTGGGCTGATTCTGGTGATCAATTTATTGCTAATTCTCAACAATTGGTT</th>\n",
       "      <td id=\"T_b8d43_row6_col0\" class=\"data row6 col0\" >0.360305</td>\n",
       "      <td id=\"T_b8d43_row6_col1\" class=\"data row6 col1\" >0.416677</td>\n",
       "      <td id=\"T_b8d43_row6_col2\" class=\"data row6 col2\" >0.223018</td>\n",
       "      <td id=\"T_b8d43_row6_col3\" class=\"data row6 col3\" >0.000000</td>\n",
       "      <td id=\"T_b8d43_row6_col4\" class=\"data row6 col4\" >136.707585</td>\n",
       "    </tr>\n",
       "    <tr>\n",
       "      <th id=\"T_b8d43_level0_row7\" class=\"row_heading level0 row7\" >TCTGAACCACATGTCTTGATTGAAGAATTTATTAGACCAGTTACTGAAGATGTTGGTATTAATTATACTCATCCACAGAATTTGCCAGGTGCTAATAAAGATGGTGTTTCTGTCTTCTTT</th>\n",
       "      <td id=\"T_b8d43_row7_col0\" class=\"data row7 col0\" >0.313669</td>\n",
       "      <td id=\"T_b8d43_row7_col1\" class=\"data row7 col1\" >0.362744</td>\n",
       "      <td id=\"T_b8d43_row7_col2\" class=\"data row7 col2\" >0.323586</td>\n",
       "      <td id=\"T_b8d43_row7_col3\" class=\"data row7 col3\" >0.000000</td>\n",
       "      <td id=\"T_b8d43_row7_col4\" class=\"data row7 col4\" >151.500974</td>\n",
       "    </tr>\n",
       "    <tr>\n",
       "      <th id=\"T_b8d43_level0_row8\" class=\"row_heading level0 row8\" >CAATTTATCTTGAATGCTCAACAATTGGTTGAAGCTTTGTCTTTGTGTGATGATTTGTTGGGTTCTCAAGATAGAGAAGAGAATACTAATTCTGGTTCTTTGAAAGATAAACAACCATGT</th>\n",
       "      <td id=\"T_b8d43_row8_col0\" class=\"data row8 col0\" >0.390706</td>\n",
       "      <td id=\"T_b8d43_row8_col1\" class=\"data row8 col1\" >0.251019</td>\n",
       "      <td id=\"T_b8d43_row8_col2\" class=\"data row8 col2\" >0.358275</td>\n",
       "      <td id=\"T_b8d43_row8_col3\" class=\"data row8 col3\" >0.000000</td>\n",
       "      <td id=\"T_b8d43_row8_col4\" class=\"data row8 col4\" >149.153731</td>\n",
       "    </tr>\n",
       "    <tr>\n",
       "      <th id=\"T_b8d43_level0_row9\" class=\"row_heading level0 row9\" >ATTATTTGGCATTTGTTGGCTAAATCTGGTTTGTCTGGTTTGTCTTCTCATCCATTTATTGATGAATTTATTCCAACTGTTAATCAAGATGATGGTATTTGTTATACTCATCCTAAGAAT</th>\n",
       "      <td id=\"T_b8d43_row9_col0\" class=\"data row9 col0\" >0.564274</td>\n",
       "      <td id=\"T_b8d43_row9_col1\" class=\"data row9 col1\" >0.241688</td>\n",
       "      <td id=\"T_b8d43_row9_col2\" class=\"data row9 col2\" >0.194038</td>\n",
       "      <td id=\"T_b8d43_row9_col3\" class=\"data row9 col3\" >0.000000</td>\n",
       "      <td id=\"T_b8d43_row9_col4\" class=\"data row9 col4\" >117.202291</td>\n",
       "    </tr>\n",
       "  </tbody>\n",
       "</table>\n"
      ],
      "text/plain": [
       "<pandas.io.formats.style.Styler at 0x7f2a344a38b0>"
      ]
     },
     "execution_count": 9,
     "metadata": {},
     "output_type": "execute_result"
    }
   ],
   "source": [
    "display_df(activities_no_design)"
   ]
  },
  {
   "cell_type": "code",
   "execution_count": 10,
   "metadata": {},
   "outputs": [
    {
     "data": {
      "text/plain": [
       "GAAGATCCAACTTGGTTTGATTCTGGTTCTCAATTTATCTTAAATTCTCAACAATTGGTTGAAGCTTTGTCTTTGTGTGATGATGCTGCTGGTTCTCAAGATAGAGAAGAGAATACTAAT    44.0\n",
       "GAAGCTTTGTCTTTGTGTGATGATTTGTTGGGTGATCAAGATAGAGAAGAGAATGATAATGATGGTGATTTGAAAGATAAACAACCATGTATTGCTGATTATGCTCATTTGGGTCCAGAA    21.0\n",
       "GATTTGGCTGAAGATGATGAAGTTATGTGTATGGAAGATGAAGTTCAATCTATTCAACCAAATCATGAAAGACCAGATGATGGTCCAGAATTGGAACATGGTTTGGAGAATGGTGCTAAA    49.0\n",
       "GGTTAATTAAGGCGCGCCACTTCTAAATAAGCGA                                                                                          24.0\n",
       "GGTCAAAGGAAGAGAAGGAAGATTACTCCAACTTTGGTTAATGATGAACCAGTTAGATGGCATAAGACTGGTAGAACTAAACCAGTTATGTTGTCTGGTGTTCAAAGAGGTTGTAAGAAA    16.0\n",
       "                                                                                                                            ... \n",
       "TCTACTGATTCTACTCCAATGTTTGATTATGATAATTTGGAAGATAATTCTAAAGATTGGACTTCTTTGTTTGATAATGATATTCCAGTTACTACTGATGATGTTTCTTTGGCTGATAAA    24.0\n",
       "TCTACTGGTCAAGTCTTGTTTGATATTGATGACTTTAGATGGTTGTTGGATCCAGATGATGAACAATTGGGTAAAGAAGCTATCTTGTCTGATCAATTTGGTAAACCAACTCCAGAGAAT    12.0\n",
       "AATACTCCAACTCCACCATCTTTGGTTGATGGTGTTGCTGGTGATGAAGAAGCATTTGATGAGATGTTTGATCCATTCTTTGAAGAATTGGATTCTATTCCAGAAGCTGCTTTGTGATAA    14.0\n",
       "GAAGATCCAACTTCTGATTCTGCTATTCAACAATTGTGGAATCAAGGATTCTTGTTTGTTGAATCTTTGTCTTTGTGTGATGATTTGTTGGGTTCTCAAGATAGAGAAGAGAATACTAAT    11.0\n",
       "GAAATTGATCAAATTTCTGATCCAGATAAATTGCCAGTTAATTTGGAACCATTTAGATTGGATCAATTGGAATTTACTGGTGATGATACTTCTGGTGCTGGTTTGAAATTTCAATGGGAT    13.0\n",
       "Length: 220, dtype: float64"
      ]
     },
     "execution_count": 10,
     "metadata": {},
     "output_type": "execute_result"
    }
   ],
   "source": [
    "numreads_total"
   ]
  },
  {
   "cell_type": "markdown",
   "metadata": {},
   "source": [
    "### Get data for reads that include barcodes AND tiles\n",
    "Support for barcoded only data may or may not be added in the future."
   ]
  },
  {
   "cell_type": "code",
   "execution_count": 11,
   "metadata": {},
   "outputs": [
    {
     "name": "stdout",
     "output_type": "stream",
     "text": [
      "Opening file bin1.fastq ...\n"
     ]
    },
    {
     "name": "stdout",
     "output_type": "stream",
     "text": [
      "Reading lines... 0 reads completed\r"
     ]
    },
    {
     "name": "stdout",
     "output_type": "stream",
     "text": [
      "Total parsed reads = 2,000                      \n"
     ]
    },
    {
     "name": "stdout",
     "output_type": "stream",
     "text": [
      "Opening file bin2.fastq ...\n"
     ]
    },
    {
     "name": "stdout",
     "output_type": "stream",
     "text": [
      "Reading lines... 0 reads completed\r"
     ]
    },
    {
     "name": "stdout",
     "output_type": "stream",
     "text": [
      "Total parsed reads = 2,000                      \n"
     ]
    },
    {
     "name": "stdout",
     "output_type": "stream",
     "text": [
      "Opening file bin3.fastq ...\n"
     ]
    },
    {
     "name": "stdout",
     "output_type": "stream",
     "text": [
      "Reading lines... 0 reads completed\r"
     ]
    },
    {
     "name": "stdout",
     "output_type": "stream",
     "text": [
      "Total parsed reads = 2,000                      \n"
     ]
    },
    {
     "name": "stdout",
     "output_type": "stream",
     "text": [
      "Opening file bin4.fastq ...\n"
     ]
    },
    {
     "name": "stdout",
     "output_type": "stream",
     "text": [
      "Reading lines... 0 reads completed\r"
     ]
    },
    {
     "name": "stdout",
     "output_type": "stream",
     "text": [
      "Total parsed reads = 2,000                      \n"
     ]
    }
   ],
   "source": [
    "activities_barcoded, total_reads, reads_per_bin = my_sort.process(barcoded = True)"
   ]
  },
  {
   "cell_type": "markdown",
   "metadata": {},
   "source": [
    "Note that you get back less tiles using this method. The reason for this is because the read must have a locatable barcode AND tile, which is less likely than having one or the other. The primary reason for doing this analysis is assessing per-transformant variation. The assumption is that unique tile-barcode pairs come from unique original transformants."
   ]
  },
  {
   "cell_type": "code",
   "execution_count": 12,
   "metadata": {
    "scrolled": true
   },
   "outputs": [
    {
     "ename": "KeyError",
     "evalue": "\"None of [Int64Index([0], dtype='int64')] are in the [columns]\"",
     "output_type": "error",
     "traceback": [
      "\u001b[0;31m---------------------------------------------------------------------------\u001b[0m",
      "\u001b[0;31mKeyError\u001b[0m                                  Traceback (most recent call last)",
      "File \u001b[0;32m~/bioinformatics_exploration/.venv/lib/python3.8/site-packages/IPython/core/formatters.py:344\u001b[0m, in \u001b[0;36mBaseFormatter.__call__\u001b[0;34m(self, obj)\u001b[0m\n\u001b[1;32m    342\u001b[0m     method \u001b[38;5;241m=\u001b[39m get_real_method(obj, \u001b[38;5;28mself\u001b[39m\u001b[38;5;241m.\u001b[39mprint_method)\n\u001b[1;32m    343\u001b[0m     \u001b[38;5;28;01mif\u001b[39;00m method \u001b[38;5;129;01mis\u001b[39;00m \u001b[38;5;129;01mnot\u001b[39;00m \u001b[38;5;28;01mNone\u001b[39;00m:\n\u001b[0;32m--> 344\u001b[0m         \u001b[38;5;28;01mreturn\u001b[39;00m \u001b[43mmethod\u001b[49m\u001b[43m(\u001b[49m\u001b[43m)\u001b[49m\n\u001b[1;32m    345\u001b[0m     \u001b[38;5;28;01mreturn\u001b[39;00m \u001b[38;5;28;01mNone\u001b[39;00m\n\u001b[1;32m    346\u001b[0m \u001b[38;5;28;01melse\u001b[39;00m:\n",
      "File \u001b[0;32m~/bioinformatics_exploration/.venv/lib/python3.8/site-packages/pandas/io/formats/style.py:385\u001b[0m, in \u001b[0;36mStyler._repr_html_\u001b[0;34m(self)\u001b[0m\n\u001b[1;32m    380\u001b[0m \u001b[38;5;250m\u001b[39m\u001b[38;5;124;03m\"\"\"\u001b[39;00m\n\u001b[1;32m    381\u001b[0m \u001b[38;5;124;03mHooks into Jupyter notebook rich display system, which calls _repr_html_ by\u001b[39;00m\n\u001b[1;32m    382\u001b[0m \u001b[38;5;124;03mdefault if an object is returned at the end of a cell.\u001b[39;00m\n\u001b[1;32m    383\u001b[0m \u001b[38;5;124;03m\"\"\"\u001b[39;00m\n\u001b[1;32m    384\u001b[0m \u001b[38;5;28;01mif\u001b[39;00m get_option(\u001b[38;5;124m\"\u001b[39m\u001b[38;5;124mstyler.render.repr\u001b[39m\u001b[38;5;124m\"\u001b[39m) \u001b[38;5;241m==\u001b[39m \u001b[38;5;124m\"\u001b[39m\u001b[38;5;124mhtml\u001b[39m\u001b[38;5;124m\"\u001b[39m:\n\u001b[0;32m--> 385\u001b[0m     \u001b[38;5;28;01mreturn\u001b[39;00m \u001b[38;5;28;43mself\u001b[39;49m\u001b[38;5;241;43m.\u001b[39;49m\u001b[43mto_html\u001b[49m\u001b[43m(\u001b[49m\u001b[43m)\u001b[49m\n\u001b[1;32m    386\u001b[0m \u001b[38;5;28;01mreturn\u001b[39;00m \u001b[38;5;28;01mNone\u001b[39;00m\n",
      "File \u001b[0;32m~/bioinformatics_exploration/.venv/lib/python3.8/site-packages/pandas/io/formats/style.py:1377\u001b[0m, in \u001b[0;36mStyler.to_html\u001b[0;34m(self, buf, table_uuid, table_attributes, sparse_index, sparse_columns, bold_headers, caption, max_rows, max_columns, encoding, doctype_html, exclude_styles, **kwargs)\u001b[0m\n\u001b[1;32m   1374\u001b[0m     obj\u001b[38;5;241m.\u001b[39mset_caption(caption)\n\u001b[1;32m   1376\u001b[0m \u001b[38;5;66;03m# Build HTML string..\u001b[39;00m\n\u001b[0;32m-> 1377\u001b[0m html \u001b[38;5;241m=\u001b[39m \u001b[43mobj\u001b[49m\u001b[38;5;241;43m.\u001b[39;49m\u001b[43m_render_html\u001b[49m\u001b[43m(\u001b[49m\n\u001b[1;32m   1378\u001b[0m \u001b[43m    \u001b[49m\u001b[43msparse_index\u001b[49m\u001b[38;5;241;43m=\u001b[39;49m\u001b[43msparse_index\u001b[49m\u001b[43m,\u001b[49m\n\u001b[1;32m   1379\u001b[0m \u001b[43m    \u001b[49m\u001b[43msparse_columns\u001b[49m\u001b[38;5;241;43m=\u001b[39;49m\u001b[43msparse_columns\u001b[49m\u001b[43m,\u001b[49m\n\u001b[1;32m   1380\u001b[0m \u001b[43m    \u001b[49m\u001b[43mmax_rows\u001b[49m\u001b[38;5;241;43m=\u001b[39;49m\u001b[43mmax_rows\u001b[49m\u001b[43m,\u001b[49m\n\u001b[1;32m   1381\u001b[0m \u001b[43m    \u001b[49m\u001b[43mmax_cols\u001b[49m\u001b[38;5;241;43m=\u001b[39;49m\u001b[43mmax_columns\u001b[49m\u001b[43m,\u001b[49m\n\u001b[1;32m   1382\u001b[0m \u001b[43m    \u001b[49m\u001b[43mexclude_styles\u001b[49m\u001b[38;5;241;43m=\u001b[39;49m\u001b[43mexclude_styles\u001b[49m\u001b[43m,\u001b[49m\n\u001b[1;32m   1383\u001b[0m \u001b[43m    \u001b[49m\u001b[43mencoding\u001b[49m\u001b[38;5;241;43m=\u001b[39;49m\u001b[43mencoding\u001b[49m\u001b[43m \u001b[49m\u001b[38;5;129;43;01mor\u001b[39;49;00m\u001b[43m \u001b[49m\u001b[43mget_option\u001b[49m\u001b[43m(\u001b[49m\u001b[38;5;124;43m\"\u001b[39;49m\u001b[38;5;124;43mstyler.render.encoding\u001b[39;49m\u001b[38;5;124;43m\"\u001b[39;49m\u001b[43m)\u001b[49m\u001b[43m,\u001b[49m\n\u001b[1;32m   1384\u001b[0m \u001b[43m    \u001b[49m\u001b[43mdoctype_html\u001b[49m\u001b[38;5;241;43m=\u001b[39;49m\u001b[43mdoctype_html\u001b[49m\u001b[43m,\u001b[49m\n\u001b[1;32m   1385\u001b[0m \u001b[43m    \u001b[49m\u001b[38;5;241;43m*\u001b[39;49m\u001b[38;5;241;43m*\u001b[39;49m\u001b[43mkwargs\u001b[49m\u001b[43m,\u001b[49m\n\u001b[1;32m   1386\u001b[0m \u001b[43m\u001b[49m\u001b[43m)\u001b[49m\n\u001b[1;32m   1388\u001b[0m \u001b[38;5;28;01mreturn\u001b[39;00m save_to_buffer(\n\u001b[1;32m   1389\u001b[0m     html, buf\u001b[38;5;241m=\u001b[39mbuf, encoding\u001b[38;5;241m=\u001b[39m(encoding \u001b[38;5;28;01mif\u001b[39;00m buf \u001b[38;5;129;01mis\u001b[39;00m \u001b[38;5;129;01mnot\u001b[39;00m \u001b[38;5;28;01mNone\u001b[39;00m \u001b[38;5;28;01melse\u001b[39;00m \u001b[38;5;28;01mNone\u001b[39;00m)\n\u001b[1;32m   1390\u001b[0m )\n",
      "File \u001b[0;32m~/bioinformatics_exploration/.venv/lib/python3.8/site-packages/pandas/io/formats/style_render.py:206\u001b[0m, in \u001b[0;36mStylerRenderer._render_html\u001b[0;34m(self, sparse_index, sparse_columns, max_rows, max_cols, **kwargs)\u001b[0m\n\u001b[1;32m    194\u001b[0m \u001b[38;5;28;01mdef\u001b[39;00m \u001b[38;5;21m_render_html\u001b[39m(\n\u001b[1;32m    195\u001b[0m     \u001b[38;5;28mself\u001b[39m,\n\u001b[1;32m    196\u001b[0m     sparse_index: \u001b[38;5;28mbool\u001b[39m,\n\u001b[0;32m   (...)\u001b[0m\n\u001b[1;32m    200\u001b[0m     \u001b[38;5;241m*\u001b[39m\u001b[38;5;241m*\u001b[39mkwargs,\n\u001b[1;32m    201\u001b[0m ) \u001b[38;5;241m-\u001b[39m\u001b[38;5;241m>\u001b[39m \u001b[38;5;28mstr\u001b[39m:\n\u001b[1;32m    202\u001b[0m \u001b[38;5;250m    \u001b[39m\u001b[38;5;124;03m\"\"\"\u001b[39;00m\n\u001b[1;32m    203\u001b[0m \u001b[38;5;124;03m    Renders the ``Styler`` including all applied styles to HTML.\u001b[39;00m\n\u001b[1;32m    204\u001b[0m \u001b[38;5;124;03m    Generates a dict with necessary kwargs passed to jinja2 template.\u001b[39;00m\n\u001b[1;32m    205\u001b[0m \u001b[38;5;124;03m    \"\"\"\u001b[39;00m\n\u001b[0;32m--> 206\u001b[0m     d \u001b[38;5;241m=\u001b[39m \u001b[38;5;28;43mself\u001b[39;49m\u001b[38;5;241;43m.\u001b[39;49m\u001b[43m_render\u001b[49m\u001b[43m(\u001b[49m\u001b[43msparse_index\u001b[49m\u001b[43m,\u001b[49m\u001b[43m \u001b[49m\u001b[43msparse_columns\u001b[49m\u001b[43m,\u001b[49m\u001b[43m \u001b[49m\u001b[43mmax_rows\u001b[49m\u001b[43m,\u001b[49m\u001b[43m \u001b[49m\u001b[43mmax_cols\u001b[49m\u001b[43m,\u001b[49m\u001b[43m \u001b[49m\u001b[38;5;124;43m\"\u001b[39;49m\u001b[38;5;124;43m&nbsp;\u001b[39;49m\u001b[38;5;124;43m\"\u001b[39;49m\u001b[43m)\u001b[49m\n\u001b[1;32m    207\u001b[0m     d\u001b[38;5;241m.\u001b[39mupdate(kwargs)\n\u001b[1;32m    208\u001b[0m     \u001b[38;5;28;01mreturn\u001b[39;00m \u001b[38;5;28mself\u001b[39m\u001b[38;5;241m.\u001b[39mtemplate_html\u001b[38;5;241m.\u001b[39mrender(\n\u001b[1;32m    209\u001b[0m         \u001b[38;5;241m*\u001b[39m\u001b[38;5;241m*\u001b[39md,\n\u001b[1;32m    210\u001b[0m         html_table_tpl\u001b[38;5;241m=\u001b[39m\u001b[38;5;28mself\u001b[39m\u001b[38;5;241m.\u001b[39mtemplate_html_table,\n\u001b[1;32m    211\u001b[0m         html_style_tpl\u001b[38;5;241m=\u001b[39m\u001b[38;5;28mself\u001b[39m\u001b[38;5;241m.\u001b[39mtemplate_html_style,\n\u001b[1;32m    212\u001b[0m     )\n",
      "File \u001b[0;32m~/bioinformatics_exploration/.venv/lib/python3.8/site-packages/pandas/io/formats/style_render.py:163\u001b[0m, in \u001b[0;36mStylerRenderer._render\u001b[0;34m(self, sparse_index, sparse_columns, max_rows, max_cols, blank)\u001b[0m\n\u001b[1;32m    149\u001b[0m \u001b[38;5;28;01mdef\u001b[39;00m \u001b[38;5;21m_render\u001b[39m(\n\u001b[1;32m    150\u001b[0m     \u001b[38;5;28mself\u001b[39m,\n\u001b[1;32m    151\u001b[0m     sparse_index: \u001b[38;5;28mbool\u001b[39m,\n\u001b[0;32m   (...)\u001b[0m\n\u001b[1;32m    155\u001b[0m     blank: \u001b[38;5;28mstr\u001b[39m \u001b[38;5;241m=\u001b[39m \u001b[38;5;124m\"\u001b[39m\u001b[38;5;124m\"\u001b[39m,\n\u001b[1;32m    156\u001b[0m ):\n\u001b[1;32m    157\u001b[0m \u001b[38;5;250m    \u001b[39m\u001b[38;5;124;03m\"\"\"\u001b[39;00m\n\u001b[1;32m    158\u001b[0m \u001b[38;5;124;03m    Computes and applies styles and then generates the general render dicts.\u001b[39;00m\n\u001b[1;32m    159\u001b[0m \n\u001b[1;32m    160\u001b[0m \u001b[38;5;124;03m    Also extends the `ctx` and `ctx_index` attributes with those of concatenated\u001b[39;00m\n\u001b[1;32m    161\u001b[0m \u001b[38;5;124;03m    stylers for use within `_translate_latex`\u001b[39;00m\n\u001b[1;32m    162\u001b[0m \u001b[38;5;124;03m    \"\"\"\u001b[39;00m\n\u001b[0;32m--> 163\u001b[0m     \u001b[38;5;28;43mself\u001b[39;49m\u001b[38;5;241;43m.\u001b[39;49m\u001b[43m_compute\u001b[49m\u001b[43m(\u001b[49m\u001b[43m)\u001b[49m\n\u001b[1;32m    164\u001b[0m     dxs \u001b[38;5;241m=\u001b[39m []\n\u001b[1;32m    165\u001b[0m     ctx_len \u001b[38;5;241m=\u001b[39m \u001b[38;5;28mlen\u001b[39m(\u001b[38;5;28mself\u001b[39m\u001b[38;5;241m.\u001b[39mindex)\n",
      "File \u001b[0;32m~/bioinformatics_exploration/.venv/lib/python3.8/site-packages/pandas/io/formats/style_render.py:258\u001b[0m, in \u001b[0;36mStylerRenderer._compute\u001b[0;34m(self)\u001b[0m\n\u001b[1;32m    256\u001b[0m r \u001b[38;5;241m=\u001b[39m \u001b[38;5;28mself\u001b[39m\n\u001b[1;32m    257\u001b[0m \u001b[38;5;28;01mfor\u001b[39;00m func, args, kwargs \u001b[38;5;129;01min\u001b[39;00m \u001b[38;5;28mself\u001b[39m\u001b[38;5;241m.\u001b[39m_todo:\n\u001b[0;32m--> 258\u001b[0m     r \u001b[38;5;241m=\u001b[39m \u001b[43mfunc\u001b[49m\u001b[43m(\u001b[49m\u001b[38;5;28;43mself\u001b[39;49m\u001b[43m)\u001b[49m\u001b[43m(\u001b[49m\u001b[38;5;241;43m*\u001b[39;49m\u001b[43margs\u001b[49m\u001b[43m,\u001b[49m\u001b[43m \u001b[49m\u001b[38;5;241;43m*\u001b[39;49m\u001b[38;5;241;43m*\u001b[39;49m\u001b[43mkwargs\u001b[49m\u001b[43m)\u001b[49m\n\u001b[1;32m    259\u001b[0m \u001b[38;5;28;01mreturn\u001b[39;00m r\n",
      "File \u001b[0;32m~/bioinformatics_exploration/.venv/lib/python3.8/site-packages/pandas/io/formats/style.py:1870\u001b[0m, in \u001b[0;36mStyler._apply_index\u001b[0;34m(self, func, axis, level, method, **kwargs)\u001b[0m\n\u001b[1;32m   1867\u001b[0m obj \u001b[38;5;241m=\u001b[39m \u001b[38;5;28mself\u001b[39m\u001b[38;5;241m.\u001b[39mindex \u001b[38;5;28;01mif\u001b[39;00m axis \u001b[38;5;241m==\u001b[39m \u001b[38;5;241m0\u001b[39m \u001b[38;5;28;01melse\u001b[39;00m \u001b[38;5;28mself\u001b[39m\u001b[38;5;241m.\u001b[39mcolumns\n\u001b[1;32m   1869\u001b[0m levels_ \u001b[38;5;241m=\u001b[39m refactor_levels(level, obj)\n\u001b[0;32m-> 1870\u001b[0m data \u001b[38;5;241m=\u001b[39m \u001b[43mDataFrame\u001b[49m\u001b[43m(\u001b[49m\u001b[43mobj\u001b[49m\u001b[38;5;241;43m.\u001b[39;49m\u001b[43mto_list\u001b[49m\u001b[43m(\u001b[49m\u001b[43m)\u001b[49m\u001b[43m)\u001b[49m\u001b[38;5;241;43m.\u001b[39;49m\u001b[43mloc\u001b[49m\u001b[43m[\u001b[49m\u001b[43m:\u001b[49m\u001b[43m,\u001b[49m\u001b[43m \u001b[49m\u001b[43mlevels_\u001b[49m\u001b[43m]\u001b[49m\n\u001b[1;32m   1872\u001b[0m \u001b[38;5;28;01mif\u001b[39;00m method \u001b[38;5;241m==\u001b[39m \u001b[38;5;124m\"\u001b[39m\u001b[38;5;124mapply\u001b[39m\u001b[38;5;124m\"\u001b[39m:\n\u001b[1;32m   1873\u001b[0m     result \u001b[38;5;241m=\u001b[39m data\u001b[38;5;241m.\u001b[39mapply(func, axis\u001b[38;5;241m=\u001b[39m\u001b[38;5;241m0\u001b[39m, \u001b[38;5;241m*\u001b[39m\u001b[38;5;241m*\u001b[39mkwargs)\n",
      "File \u001b[0;32m~/bioinformatics_exploration/.venv/lib/python3.8/site-packages/pandas/core/indexing.py:1067\u001b[0m, in \u001b[0;36m_LocationIndexer.__getitem__\u001b[0;34m(self, key)\u001b[0m\n\u001b[1;32m   1065\u001b[0m     \u001b[38;5;28;01mif\u001b[39;00m \u001b[38;5;28mself\u001b[39m\u001b[38;5;241m.\u001b[39m_is_scalar_access(key):\n\u001b[1;32m   1066\u001b[0m         \u001b[38;5;28;01mreturn\u001b[39;00m \u001b[38;5;28mself\u001b[39m\u001b[38;5;241m.\u001b[39mobj\u001b[38;5;241m.\u001b[39m_get_value(\u001b[38;5;241m*\u001b[39mkey, takeable\u001b[38;5;241m=\u001b[39m\u001b[38;5;28mself\u001b[39m\u001b[38;5;241m.\u001b[39m_takeable)\n\u001b[0;32m-> 1067\u001b[0m     \u001b[38;5;28;01mreturn\u001b[39;00m \u001b[38;5;28;43mself\u001b[39;49m\u001b[38;5;241;43m.\u001b[39;49m\u001b[43m_getitem_tuple\u001b[49m\u001b[43m(\u001b[49m\u001b[43mkey\u001b[49m\u001b[43m)\u001b[49m\n\u001b[1;32m   1068\u001b[0m \u001b[38;5;28;01melse\u001b[39;00m:\n\u001b[1;32m   1069\u001b[0m     \u001b[38;5;66;03m# we by definition only have the 0th axis\u001b[39;00m\n\u001b[1;32m   1070\u001b[0m     axis \u001b[38;5;241m=\u001b[39m \u001b[38;5;28mself\u001b[39m\u001b[38;5;241m.\u001b[39maxis \u001b[38;5;129;01mor\u001b[39;00m \u001b[38;5;241m0\u001b[39m\n",
      "File \u001b[0;32m~/bioinformatics_exploration/.venv/lib/python3.8/site-packages/pandas/core/indexing.py:1256\u001b[0m, in \u001b[0;36m_LocIndexer._getitem_tuple\u001b[0;34m(self, tup)\u001b[0m\n\u001b[1;32m   1253\u001b[0m \u001b[38;5;28;01mif\u001b[39;00m \u001b[38;5;28mself\u001b[39m\u001b[38;5;241m.\u001b[39m_multi_take_opportunity(tup):\n\u001b[1;32m   1254\u001b[0m     \u001b[38;5;28;01mreturn\u001b[39;00m \u001b[38;5;28mself\u001b[39m\u001b[38;5;241m.\u001b[39m_multi_take(tup)\n\u001b[0;32m-> 1256\u001b[0m \u001b[38;5;28;01mreturn\u001b[39;00m \u001b[38;5;28;43mself\u001b[39;49m\u001b[38;5;241;43m.\u001b[39;49m\u001b[43m_getitem_tuple_same_dim\u001b[49m\u001b[43m(\u001b[49m\u001b[43mtup\u001b[49m\u001b[43m)\u001b[49m\n",
      "File \u001b[0;32m~/bioinformatics_exploration/.venv/lib/python3.8/site-packages/pandas/core/indexing.py:924\u001b[0m, in \u001b[0;36m_LocationIndexer._getitem_tuple_same_dim\u001b[0;34m(self, tup)\u001b[0m\n\u001b[1;32m    921\u001b[0m \u001b[38;5;28;01mif\u001b[39;00m com\u001b[38;5;241m.\u001b[39mis_null_slice(key):\n\u001b[1;32m    922\u001b[0m     \u001b[38;5;28;01mcontinue\u001b[39;00m\n\u001b[0;32m--> 924\u001b[0m retval \u001b[38;5;241m=\u001b[39m \u001b[38;5;28;43mgetattr\u001b[39;49m\u001b[43m(\u001b[49m\u001b[43mretval\u001b[49m\u001b[43m,\u001b[49m\u001b[43m \u001b[49m\u001b[38;5;28;43mself\u001b[39;49m\u001b[38;5;241;43m.\u001b[39;49m\u001b[43mname\u001b[49m\u001b[43m)\u001b[49m\u001b[38;5;241;43m.\u001b[39;49m\u001b[43m_getitem_axis\u001b[49m\u001b[43m(\u001b[49m\u001b[43mkey\u001b[49m\u001b[43m,\u001b[49m\u001b[43m \u001b[49m\u001b[43maxis\u001b[49m\u001b[38;5;241;43m=\u001b[39;49m\u001b[43mi\u001b[49m\u001b[43m)\u001b[49m\n\u001b[1;32m    925\u001b[0m \u001b[38;5;66;03m# We should never have retval.ndim < self.ndim, as that should\u001b[39;00m\n\u001b[1;32m    926\u001b[0m \u001b[38;5;66;03m#  be handled by the _getitem_lowerdim call above.\u001b[39;00m\n\u001b[1;32m    927\u001b[0m \u001b[38;5;28;01massert\u001b[39;00m retval\u001b[38;5;241m.\u001b[39mndim \u001b[38;5;241m==\u001b[39m \u001b[38;5;28mself\u001b[39m\u001b[38;5;241m.\u001b[39mndim\n",
      "File \u001b[0;32m~/bioinformatics_exploration/.venv/lib/python3.8/site-packages/pandas/core/indexing.py:1301\u001b[0m, in \u001b[0;36m_LocIndexer._getitem_axis\u001b[0;34m(self, key, axis)\u001b[0m\n\u001b[1;32m   1298\u001b[0m     \u001b[38;5;28;01mif\u001b[39;00m \u001b[38;5;28mhasattr\u001b[39m(key, \u001b[38;5;124m\"\u001b[39m\u001b[38;5;124mndim\u001b[39m\u001b[38;5;124m\"\u001b[39m) \u001b[38;5;129;01mand\u001b[39;00m key\u001b[38;5;241m.\u001b[39mndim \u001b[38;5;241m>\u001b[39m \u001b[38;5;241m1\u001b[39m:\n\u001b[1;32m   1299\u001b[0m         \u001b[38;5;28;01mraise\u001b[39;00m \u001b[38;5;167;01mValueError\u001b[39;00m(\u001b[38;5;124m\"\u001b[39m\u001b[38;5;124mCannot index with multidimensional key\u001b[39m\u001b[38;5;124m\"\u001b[39m)\n\u001b[0;32m-> 1301\u001b[0m     \u001b[38;5;28;01mreturn\u001b[39;00m \u001b[38;5;28;43mself\u001b[39;49m\u001b[38;5;241;43m.\u001b[39;49m\u001b[43m_getitem_iterable\u001b[49m\u001b[43m(\u001b[49m\u001b[43mkey\u001b[49m\u001b[43m,\u001b[49m\u001b[43m \u001b[49m\u001b[43maxis\u001b[49m\u001b[38;5;241;43m=\u001b[39;49m\u001b[43maxis\u001b[49m\u001b[43m)\u001b[49m\n\u001b[1;32m   1303\u001b[0m \u001b[38;5;66;03m# nested tuple slicing\u001b[39;00m\n\u001b[1;32m   1304\u001b[0m \u001b[38;5;28;01mif\u001b[39;00m is_nested_tuple(key, labels):\n",
      "File \u001b[0;32m~/bioinformatics_exploration/.venv/lib/python3.8/site-packages/pandas/core/indexing.py:1239\u001b[0m, in \u001b[0;36m_LocIndexer._getitem_iterable\u001b[0;34m(self, key, axis)\u001b[0m\n\u001b[1;32m   1236\u001b[0m \u001b[38;5;28mself\u001b[39m\u001b[38;5;241m.\u001b[39m_validate_key(key, axis)\n\u001b[1;32m   1238\u001b[0m \u001b[38;5;66;03m# A collection of keys\u001b[39;00m\n\u001b[0;32m-> 1239\u001b[0m keyarr, indexer \u001b[38;5;241m=\u001b[39m \u001b[38;5;28;43mself\u001b[39;49m\u001b[38;5;241;43m.\u001b[39;49m\u001b[43m_get_listlike_indexer\u001b[49m\u001b[43m(\u001b[49m\u001b[43mkey\u001b[49m\u001b[43m,\u001b[49m\u001b[43m \u001b[49m\u001b[43maxis\u001b[49m\u001b[43m)\u001b[49m\n\u001b[1;32m   1240\u001b[0m \u001b[38;5;28;01mreturn\u001b[39;00m \u001b[38;5;28mself\u001b[39m\u001b[38;5;241m.\u001b[39mobj\u001b[38;5;241m.\u001b[39m_reindex_with_indexers(\n\u001b[1;32m   1241\u001b[0m     {axis: [keyarr, indexer]}, copy\u001b[38;5;241m=\u001b[39m\u001b[38;5;28;01mTrue\u001b[39;00m, allow_dups\u001b[38;5;241m=\u001b[39m\u001b[38;5;28;01mTrue\u001b[39;00m\n\u001b[1;32m   1242\u001b[0m )\n",
      "File \u001b[0;32m~/bioinformatics_exploration/.venv/lib/python3.8/site-packages/pandas/core/indexing.py:1432\u001b[0m, in \u001b[0;36m_LocIndexer._get_listlike_indexer\u001b[0;34m(self, key, axis)\u001b[0m\n\u001b[1;32m   1429\u001b[0m ax \u001b[38;5;241m=\u001b[39m \u001b[38;5;28mself\u001b[39m\u001b[38;5;241m.\u001b[39mobj\u001b[38;5;241m.\u001b[39m_get_axis(axis)\n\u001b[1;32m   1430\u001b[0m axis_name \u001b[38;5;241m=\u001b[39m \u001b[38;5;28mself\u001b[39m\u001b[38;5;241m.\u001b[39mobj\u001b[38;5;241m.\u001b[39m_get_axis_name(axis)\n\u001b[0;32m-> 1432\u001b[0m keyarr, indexer \u001b[38;5;241m=\u001b[39m \u001b[43max\u001b[49m\u001b[38;5;241;43m.\u001b[39;49m\u001b[43m_get_indexer_strict\u001b[49m\u001b[43m(\u001b[49m\u001b[43mkey\u001b[49m\u001b[43m,\u001b[49m\u001b[43m \u001b[49m\u001b[43maxis_name\u001b[49m\u001b[43m)\u001b[49m\n\u001b[1;32m   1434\u001b[0m \u001b[38;5;28;01mreturn\u001b[39;00m keyarr, indexer\n",
      "File \u001b[0;32m~/bioinformatics_exploration/.venv/lib/python3.8/site-packages/pandas/core/indexes/base.py:6070\u001b[0m, in \u001b[0;36mIndex._get_indexer_strict\u001b[0;34m(self, key, axis_name)\u001b[0m\n\u001b[1;32m   6067\u001b[0m \u001b[38;5;28;01melse\u001b[39;00m:\n\u001b[1;32m   6068\u001b[0m     keyarr, indexer, new_indexer \u001b[38;5;241m=\u001b[39m \u001b[38;5;28mself\u001b[39m\u001b[38;5;241m.\u001b[39m_reindex_non_unique(keyarr)\n\u001b[0;32m-> 6070\u001b[0m \u001b[38;5;28;43mself\u001b[39;49m\u001b[38;5;241;43m.\u001b[39;49m\u001b[43m_raise_if_missing\u001b[49m\u001b[43m(\u001b[49m\u001b[43mkeyarr\u001b[49m\u001b[43m,\u001b[49m\u001b[43m \u001b[49m\u001b[43mindexer\u001b[49m\u001b[43m,\u001b[49m\u001b[43m \u001b[49m\u001b[43maxis_name\u001b[49m\u001b[43m)\u001b[49m\n\u001b[1;32m   6072\u001b[0m keyarr \u001b[38;5;241m=\u001b[39m \u001b[38;5;28mself\u001b[39m\u001b[38;5;241m.\u001b[39mtake(indexer)\n\u001b[1;32m   6073\u001b[0m \u001b[38;5;28;01mif\u001b[39;00m \u001b[38;5;28misinstance\u001b[39m(key, Index):\n\u001b[1;32m   6074\u001b[0m     \u001b[38;5;66;03m# GH 42790 - Preserve name from an Index\u001b[39;00m\n",
      "File \u001b[0;32m~/bioinformatics_exploration/.venv/lib/python3.8/site-packages/pandas/core/indexes/base.py:6130\u001b[0m, in \u001b[0;36mIndex._raise_if_missing\u001b[0;34m(self, key, indexer, axis_name)\u001b[0m\n\u001b[1;32m   6128\u001b[0m     \u001b[38;5;28;01mif\u001b[39;00m use_interval_msg:\n\u001b[1;32m   6129\u001b[0m         key \u001b[38;5;241m=\u001b[39m \u001b[38;5;28mlist\u001b[39m(key)\n\u001b[0;32m-> 6130\u001b[0m     \u001b[38;5;28;01mraise\u001b[39;00m \u001b[38;5;167;01mKeyError\u001b[39;00m(\u001b[38;5;124mf\u001b[39m\u001b[38;5;124m\"\u001b[39m\u001b[38;5;124mNone of [\u001b[39m\u001b[38;5;132;01m{\u001b[39;00mkey\u001b[38;5;132;01m}\u001b[39;00m\u001b[38;5;124m] are in the [\u001b[39m\u001b[38;5;132;01m{\u001b[39;00maxis_name\u001b[38;5;132;01m}\u001b[39;00m\u001b[38;5;124m]\u001b[39m\u001b[38;5;124m\"\u001b[39m)\n\u001b[1;32m   6132\u001b[0m not_found \u001b[38;5;241m=\u001b[39m \u001b[38;5;28mlist\u001b[39m(ensure_index(key)[missing_mask\u001b[38;5;241m.\u001b[39mnonzero()[\u001b[38;5;241m0\u001b[39m]]\u001b[38;5;241m.\u001b[39munique())\n\u001b[1;32m   6133\u001b[0m \u001b[38;5;28;01mraise\u001b[39;00m \u001b[38;5;167;01mKeyError\u001b[39;00m(\u001b[38;5;124mf\u001b[39m\u001b[38;5;124m\"\u001b[39m\u001b[38;5;132;01m{\u001b[39;00mnot_found\u001b[38;5;132;01m}\u001b[39;00m\u001b[38;5;124m not in index\u001b[39m\u001b[38;5;124m\"\u001b[39m)\n",
      "\u001b[0;31mKeyError\u001b[0m: \"None of [Int64Index([0], dtype='int64')] are in the [columns]\""
     ]
    },
    {
     "data": {
      "text/plain": [
       "<pandas.io.formats.style.Styler at 0x7f29a0d8dee0>"
      ]
     },
     "execution_count": 12,
     "metadata": {},
     "output_type": "execute_result"
    }
   ],
   "source": [
    "display_df(activities_barcoded)"
   ]
  },
  {
   "cell_type": "markdown",
   "metadata": {},
   "source": [
    "<a id='custom_anchor_example'></a>\n",
    "### Support for custom anchor sequences\n",
    "If your tiles or barcodes have a custom anchor sequence (AKA the non-variable portion of the read that is used to locate the variable portion of the read), you can specify that in the kwargs of your Sort(). This passes the arguments to the pull_AD() function used on each read to locate the sequence of interest (AKA AD or tile). "
   ]
  },
  {
   "cell_type": "markdown",
   "metadata": {},
   "source": [
    "#### Use the sequence directly preceding the AD/tile as an anchor sequence. Additional characters between AD/tile and preceding anchor seqeunce will not work\n",
    "\n",
    "My preceding anchor sequence is in blue while my AD/tile sequence is in green in this example read.\n",
    "\n",
    "The anchor sequence preceding the barcode is purple while the anchor sequence anteceding is red. Barcode length is 11 by default. (Not necessary if you don't have barcodes)\n",
    "\n",
    "##### Example read\n",
    "\n",
    "<span style=\"font-size:10px\">TCCCTGCGGGCTCTACTTCATCG<span style=\"color:blue;font-weight:800\">GCTAGC</span><span style=\"color:green;font-weight:500;font-size:10px\">**GGTTCTT...CTGCTAAA**</span>TGATAAATAGATGA<span style=\"color:purple;font-weight:800\">GGGCCCG</span>TCAACATAGAA<span style=\"color:red;font-weight:800\">GGAGAGAA</span>ACATCTAAAAAAGCGATA</span>"
   ]
  },
  {
   "cell_type": "markdown",
   "metadata": {},
   "source": [
    "#### Specify alternate values in a dictionary and pass that dictionary to Sort.process()"
   ]
  },
  {
   "cell_type": "code",
   "execution_count": 13,
   "metadata": {},
   "outputs": [],
   "source": [
    "# these are the default values which would work for my example read above\n",
    "# no input is required if they work for you\n",
    "kwargs = {\"ad_preceder\":\"GCTAGC\", \"bc_preceder\":\"GGGCCCG\", \"bc_anteceder\":\"GGAGAGAA\", \"bclength\":11, \"ad_length\":120}"
   ]
  },
  {
   "cell_type": "code",
   "execution_count": 14,
   "metadata": {},
   "outputs": [
    {
     "name": "stdout",
     "output_type": "stream",
     "text": [
      "Opening file bin1.fastq ...\n"
     ]
    },
    {
     "name": "stdout",
     "output_type": "stream",
     "text": [
      "Reading lines... 0 reads completed\r"
     ]
    },
    {
     "name": "stdout",
     "output_type": "stream",
     "text": [
      "Total parsed reads = 2,000                      \n"
     ]
    },
    {
     "name": "stdout",
     "output_type": "stream",
     "text": [
      "Opening file bin2.fastq ...\n"
     ]
    },
    {
     "name": "stdout",
     "output_type": "stream",
     "text": [
      "Reading lines... 0 reads completed\r"
     ]
    },
    {
     "name": "stdout",
     "output_type": "stream",
     "text": [
      "Total parsed reads = 2,000                      \n"
     ]
    },
    {
     "name": "stdout",
     "output_type": "stream",
     "text": [
      "Opening file bin3.fastq ...\n"
     ]
    },
    {
     "name": "stdout",
     "output_type": "stream",
     "text": [
      "Reading lines... 0 reads completed\r"
     ]
    },
    {
     "name": "stdout",
     "output_type": "stream",
     "text": [
      "Total parsed reads = 2,000                      \n"
     ]
    },
    {
     "name": "stdout",
     "output_type": "stream",
     "text": [
      "Opening file bin4.fastq ...\n"
     ]
    },
    {
     "name": "stdout",
     "output_type": "stream",
     "text": [
      "Reading lines... 0 reads completed\r"
     ]
    },
    {
     "name": "stdout",
     "output_type": "stream",
     "text": [
      "Total parsed reads = 2,000                      \n"
     ]
    }
   ],
   "source": [
    "activities_barcoded, _, _ = my_sort.process(barcoded = True, **kwargs)"
   ]
  },
  {
   "cell_type": "code",
   "execution_count": 15,
   "metadata": {},
   "outputs": [],
   "source": [
    "import pandas as pd"
   ]
  },
  {
   "cell_type": "code",
   "execution_count": 16,
   "metadata": {},
   "outputs": [],
   "source": [
    "pd.set_option('display.max_colwidth', 1)"
   ]
  },
  {
   "cell_type": "markdown",
   "metadata": {},
   "source": [
    "#### Example output for pull_AD\n",
    "This might be useful for someone who wants to use pull_AD to analyze reads for a purpose outside of calculating activities. "
   ]
  },
  {
   "cell_type": "code",
   "execution_count": 17,
   "metadata": {},
   "outputs": [],
   "source": [
    "from labtools.adtools.finder import pull_AD"
   ]
  },
  {
   "cell_type": "code",
   "execution_count": 18,
   "metadata": {
    "scrolled": true
   },
   "outputs": [
    {
     "data": {
      "text/plain": [
       "('GGTTCTTCTAAATTGAGATGTGATAATAATGCTGCTGCTCATGTTAAATTGGATTCATTTCCAGCTGGTGTTAGATTTGATACATCTGATGAAGAATTGTTGGAACATTTGGCTGCTAAA',\n",
       " 'TCAACATAGAA')"
      ]
     },
     "execution_count": 18,
     "metadata": {},
     "output_type": "execute_result"
    }
   ],
   "source": [
    "read = \"TCCCTGCGGGCTCTACTTCATCGGCTAGCGGTTCTTCTAAATTGAGATGTGATAATAATGCTGCTGCTCATGTTAAATTGGATTCATTTCCAGCTGGTGTTAGATTTGATACATCTGATGAAGAATTGTTGGAACATTTGGCTGCTAAATGATAAATAGATGAGGGCCCGTCAACATAGAAGGAGAGAAACATCTAAAAAAGCGATA\"\n",
    "pull_AD(read, kwargs)"
   ]
  },
  {
   "cell_type": "markdown",
   "metadata": {},
   "source": [
    "### Counting tiles in a fastq file\n",
    "This essentially applies the pull_AD function shown above to every read in the fastq file. You can also pass the kwargs dict to it to specify custom anchor sequences. "
   ]
  },
  {
   "cell_type": "code",
   "execution_count": 19,
   "metadata": {
    "scrolled": false
   },
   "outputs": [
    {
     "name": "stdout",
     "output_type": "stream",
     "text": [
      "Opening file mini.fastq ...\n"
     ]
    },
    {
     "name": "stdout",
     "output_type": "stream",
     "text": [
      "Reading lines... 0 reads completed\r"
     ]
    },
    {
     "name": "stdout",
     "output_type": "stream",
     "text": [
      "Total parsed reads = 4                      \n"
     ]
    },
    {
     "data": {
      "text/plain": [
       "GGTTCTTCTAAATTGAGATGTGATAATAATGCTGCTGCTCATGTTAAATTGGATTCATTTCCAGCTGGTGTTAGATTTGATACATCTGATGAAGAATTGTTGGAACATTTGGCTGCTAAA    1\n",
       "GAAGAATTGTTTTTACATTTGTCTGCTAAGATTGGTAGATCTTCTAGGAAACCACATCCATTCTTGGATGAATTTATTCATACTTTGGTTGAAGAAGATGGTATTTGTAGAACTCATCCA    3\n",
       "dtype: int64"
      ]
     },
     "execution_count": 19,
     "metadata": {},
     "output_type": "execute_result"
    }
   ],
   "source": [
    "from labtools.adtools.counter import seq_counter\n",
    "seq_counter(\"../exampledata/mini.fastq\")"
   ]
  },
  {
   "cell_type": "markdown",
   "metadata": {},
   "source": [
    "- Use barcoded = True  to count tile and barcode pairs\n",
    "- Use the design_file flag to look for specific tiles"
   ]
  },
  {
   "cell_type": "code",
   "execution_count": 20,
   "metadata": {
    "scrolled": true
   },
   "outputs": [
    {
     "name": "stdout",
     "output_type": "stream",
     "text": [
      "Opening file bin1.fastq ...\n"
     ]
    },
    {
     "name": "stdout",
     "output_type": "stream",
     "text": [
      "Reading lines... 0 reads completed\r"
     ]
    },
    {
     "name": "stdout",
     "output_type": "stream",
     "text": [
      "Total parsed reads = 2,000                      \n"
     ]
    },
    {
     "ename": "IndexError",
     "evalue": "Too many levels: Index has only 1 level, not 2",
     "output_type": "error",
     "traceback": [
      "\u001b[0;31m---------------------------------------------------------------------------\u001b[0m",
      "\u001b[0;31mIndexError\u001b[0m                                Traceback (most recent call last)",
      "Cell \u001b[0;32mIn[20], line 1\u001b[0m\n\u001b[0;32m----> 1\u001b[0m counts \u001b[38;5;241m=\u001b[39m \u001b[43mseq_counter\u001b[49m\u001b[43m(\u001b[49m\u001b[38;5;124;43m\"\u001b[39;49m\u001b[38;5;124;43m../exampledata/bin1.fastq\u001b[39;49m\u001b[38;5;124;43m\"\u001b[39;49m\u001b[43m,\u001b[49m\u001b[43m \u001b[49m\u001b[43mbarcoded\u001b[49m\u001b[43m \u001b[49m\u001b[38;5;241;43m=\u001b[39;49m\u001b[43m \u001b[49m\u001b[38;5;28;43;01mTrue\u001b[39;49;00m\u001b[43m,\u001b[49m\u001b[43m \u001b[49m\u001b[43mdesign_to_use\u001b[49m\u001b[38;5;241;43m=\u001b[39;49m\u001b[38;5;124;43m\"\u001b[39;49m\u001b[38;5;124;43m../exampledata/unique_seqs.csv\u001b[39;49m\u001b[38;5;124;43m\"\u001b[39;49m\u001b[43m)\u001b[49m\n\u001b[1;32m      2\u001b[0m counts\n",
      "File \u001b[0;32m~/labtools/src/labtools/adtools/counter.py:96\u001b[0m, in \u001b[0;36mseq_counter\u001b[0;34m(fastq, design_to_use, barcoded, only_bcs, **kwargs)\u001b[0m\n\u001b[1;32m     94\u001b[0m design \u001b[38;5;241m=\u001b[39m pd\u001b[38;5;241m.\u001b[39mread_csv(design_to_use)\n\u001b[1;32m     95\u001b[0m \u001b[38;5;28;01mif\u001b[39;00m barcoded:\n\u001b[0;32m---> 96\u001b[0m     counts \u001b[38;5;241m=\u001b[39m counts\u001b[38;5;241m.\u001b[39mwhere(\u001b[43mcounts\u001b[49m\u001b[38;5;241;43m.\u001b[39;49m\u001b[43mindex\u001b[49m\u001b[38;5;241;43m.\u001b[39;49m\u001b[43mdroplevel\u001b[49m\u001b[43m(\u001b[49m\u001b[38;5;241;43m1\u001b[39;49m\u001b[43m)\u001b[49m\u001b[38;5;241m.\u001b[39misin(design\u001b[38;5;241m.\u001b[39mArrayDNA))\u001b[38;5;241m.\u001b[39mdropna()\n\u001b[1;32m     97\u001b[0m \u001b[38;5;28;01melse\u001b[39;00m:\n\u001b[1;32m     98\u001b[0m     counts \u001b[38;5;241m=\u001b[39m counts\u001b[38;5;241m.\u001b[39mwhere(counts\u001b[38;5;241m.\u001b[39mindex\u001b[38;5;241m.\u001b[39misin(design\u001b[38;5;241m.\u001b[39mArrayDNA))\u001b[38;5;241m.\u001b[39mdropna()\n",
      "File \u001b[0;32m~/bioinformatics_exploration/.venv/lib/python3.8/site-packages/pandas/core/indexes/base.py:2180\u001b[0m, in \u001b[0;36mIndex.droplevel\u001b[0;34m(self, level)\u001b[0m\n\u001b[1;32m   2177\u001b[0m \u001b[38;5;28;01mif\u001b[39;00m \u001b[38;5;129;01mnot\u001b[39;00m \u001b[38;5;28misinstance\u001b[39m(level, (\u001b[38;5;28mtuple\u001b[39m, \u001b[38;5;28mlist\u001b[39m)):\n\u001b[1;32m   2178\u001b[0m     level \u001b[38;5;241m=\u001b[39m [level]\n\u001b[0;32m-> 2180\u001b[0m levnums \u001b[38;5;241m=\u001b[39m \u001b[38;5;28;43msorted\u001b[39;49m\u001b[43m(\u001b[49m\u001b[38;5;28;43mself\u001b[39;49m\u001b[38;5;241;43m.\u001b[39;49m\u001b[43m_get_level_number\u001b[49m\u001b[43m(\u001b[49m\u001b[43mlev\u001b[49m\u001b[43m)\u001b[49m\u001b[43m \u001b[49m\u001b[38;5;28;43;01mfor\u001b[39;49;00m\u001b[43m \u001b[49m\u001b[43mlev\u001b[49m\u001b[43m \u001b[49m\u001b[38;5;129;43;01min\u001b[39;49;00m\u001b[43m \u001b[49m\u001b[43mlevel\u001b[49m\u001b[43m)\u001b[49m[::\u001b[38;5;241m-\u001b[39m\u001b[38;5;241m1\u001b[39m]\n\u001b[1;32m   2182\u001b[0m \u001b[38;5;28;01mreturn\u001b[39;00m \u001b[38;5;28mself\u001b[39m\u001b[38;5;241m.\u001b[39m_drop_level_numbers(levnums)\n",
      "File \u001b[0;32m~/bioinformatics_exploration/.venv/lib/python3.8/site-packages/pandas/core/indexes/base.py:2180\u001b[0m, in \u001b[0;36m<genexpr>\u001b[0;34m(.0)\u001b[0m\n\u001b[1;32m   2177\u001b[0m \u001b[38;5;28;01mif\u001b[39;00m \u001b[38;5;129;01mnot\u001b[39;00m \u001b[38;5;28misinstance\u001b[39m(level, (\u001b[38;5;28mtuple\u001b[39m, \u001b[38;5;28mlist\u001b[39m)):\n\u001b[1;32m   2178\u001b[0m     level \u001b[38;5;241m=\u001b[39m [level]\n\u001b[0;32m-> 2180\u001b[0m levnums \u001b[38;5;241m=\u001b[39m \u001b[38;5;28msorted\u001b[39m(\u001b[38;5;28;43mself\u001b[39;49m\u001b[38;5;241;43m.\u001b[39;49m\u001b[43m_get_level_number\u001b[49m\u001b[43m(\u001b[49m\u001b[43mlev\u001b[49m\u001b[43m)\u001b[49m \u001b[38;5;28;01mfor\u001b[39;00m lev \u001b[38;5;129;01min\u001b[39;00m level)[::\u001b[38;5;241m-\u001b[39m\u001b[38;5;241m1\u001b[39m]\n\u001b[1;32m   2182\u001b[0m \u001b[38;5;28;01mreturn\u001b[39;00m \u001b[38;5;28mself\u001b[39m\u001b[38;5;241m.\u001b[39m_drop_level_numbers(levnums)\n",
      "File \u001b[0;32m~/bioinformatics_exploration/.venv/lib/python3.8/site-packages/pandas/core/indexes/base.py:2055\u001b[0m, in \u001b[0;36mIndex._get_level_number\u001b[0;34m(self, level)\u001b[0m\n\u001b[1;32m   2054\u001b[0m \u001b[38;5;28;01mdef\u001b[39;00m \u001b[38;5;21m_get_level_number\u001b[39m(\u001b[38;5;28mself\u001b[39m, level) \u001b[38;5;241m-\u001b[39m\u001b[38;5;241m>\u001b[39m \u001b[38;5;28mint\u001b[39m:\n\u001b[0;32m-> 2055\u001b[0m     \u001b[38;5;28;43mself\u001b[39;49m\u001b[38;5;241;43m.\u001b[39;49m\u001b[43m_validate_index_level\u001b[49m\u001b[43m(\u001b[49m\u001b[43mlevel\u001b[49m\u001b[43m)\u001b[49m\n\u001b[1;32m   2056\u001b[0m     \u001b[38;5;28;01mreturn\u001b[39;00m \u001b[38;5;241m0\u001b[39m\n",
      "File \u001b[0;32m~/bioinformatics_exploration/.venv/lib/python3.8/site-packages/pandas/core/indexes/base.py:2046\u001b[0m, in \u001b[0;36mIndex._validate_index_level\u001b[0;34m(self, level)\u001b[0m\n\u001b[1;32m   2041\u001b[0m         \u001b[38;5;28;01mraise\u001b[39;00m \u001b[38;5;167;01mIndexError\u001b[39;00m(\n\u001b[1;32m   2042\u001b[0m             \u001b[38;5;124m\"\u001b[39m\u001b[38;5;124mToo many levels: Index has only 1 level, \u001b[39m\u001b[38;5;124m\"\u001b[39m\n\u001b[1;32m   2043\u001b[0m             \u001b[38;5;124mf\u001b[39m\u001b[38;5;124m\"\u001b[39m\u001b[38;5;132;01m{\u001b[39;00mlevel\u001b[38;5;132;01m}\u001b[39;00m\u001b[38;5;124m is not a valid level number\u001b[39m\u001b[38;5;124m\"\u001b[39m\n\u001b[1;32m   2044\u001b[0m         )\n\u001b[1;32m   2045\u001b[0m     \u001b[38;5;28;01melif\u001b[39;00m level \u001b[38;5;241m>\u001b[39m \u001b[38;5;241m0\u001b[39m:\n\u001b[0;32m-> 2046\u001b[0m         \u001b[38;5;28;01mraise\u001b[39;00m \u001b[38;5;167;01mIndexError\u001b[39;00m(\n\u001b[1;32m   2047\u001b[0m             \u001b[38;5;124mf\u001b[39m\u001b[38;5;124m\"\u001b[39m\u001b[38;5;124mToo many levels: Index has only 1 level, not \u001b[39m\u001b[38;5;132;01m{\u001b[39;00mlevel\u001b[38;5;250m \u001b[39m\u001b[38;5;241m+\u001b[39m\u001b[38;5;250m \u001b[39m\u001b[38;5;241m1\u001b[39m\u001b[38;5;132;01m}\u001b[39;00m\u001b[38;5;124m\"\u001b[39m\n\u001b[1;32m   2048\u001b[0m         )\n\u001b[1;32m   2049\u001b[0m \u001b[38;5;28;01melif\u001b[39;00m level \u001b[38;5;241m!=\u001b[39m \u001b[38;5;28mself\u001b[39m\u001b[38;5;241m.\u001b[39mname:\n\u001b[1;32m   2050\u001b[0m     \u001b[38;5;28;01mraise\u001b[39;00m \u001b[38;5;167;01mKeyError\u001b[39;00m(\n\u001b[1;32m   2051\u001b[0m         \u001b[38;5;124mf\u001b[39m\u001b[38;5;124m\"\u001b[39m\u001b[38;5;124mRequested level (\u001b[39m\u001b[38;5;132;01m{\u001b[39;00mlevel\u001b[38;5;132;01m}\u001b[39;00m\u001b[38;5;124m) does not match index name (\u001b[39m\u001b[38;5;132;01m{\u001b[39;00m\u001b[38;5;28mself\u001b[39m\u001b[38;5;241m.\u001b[39mname\u001b[38;5;132;01m}\u001b[39;00m\u001b[38;5;124m)\u001b[39m\u001b[38;5;124m\"\u001b[39m\n\u001b[1;32m   2052\u001b[0m     )\n",
      "\u001b[0;31mIndexError\u001b[0m: Too many levels: Index has only 1 level, not 2"
     ]
    }
   ],
   "source": [
    "counts = seq_counter(\"../exampledata/bin1.fastq\", barcoded = True, design_to_use=\"../exampledata/unique_seqs.csv\")\n",
    "counts"
   ]
  },
  {
   "cell_type": "markdown",
   "metadata": {},
   "source": [
    "## Sequence Design Tools"
   ]
  },
  {
   "cell_type": "markdown",
   "metadata": {},
   "source": [
    "### Imports"
   ]
  },
  {
   "cell_type": "code",
   "execution_count": 21,
   "metadata": {
    "scrolled": true
   },
   "outputs": [],
   "source": [
    "from labtools import shuffle"
   ]
  },
  {
   "cell_type": "markdown",
   "metadata": {},
   "source": [
    "### Shuffle a sequence\n",
    "\n",
    "Create shuffles of the alphabet:"
   ]
  },
  {
   "cell_type": "code",
   "execution_count": 22,
   "metadata": {
    "scrolled": false
   },
   "outputs": [
    {
     "data": {
      "text/plain": [
       "['adcbeFGHIJKLMNOPQRSTUVWYXZ',\n",
       " 'AcbedfGHIJKLMNOPQRSTUVWYXZ',\n",
       " 'ABgcefdHIJKLMNOPQRSTUVWYXZ',\n",
       " 'ABCdhfegIJKLMNOPQRSTUVWYXZ',\n",
       " 'ABCDfigheJKLMNOPQRSTUVWYXZ',\n",
       " 'ABCDEfhjigKLMNOPQRSTUVWYXZ',\n",
       " 'ABCDEFgkhjiLMNOPQRSTUVWYXZ',\n",
       " 'ABCDEFGihljkMNOPQRSTUVWYXZ',\n",
       " 'ABCDEFGHjmkilNOPQRSTUVWYXZ',\n",
       " 'ABCDEFGHIknjlmOPQRSTUVWYXZ',\n",
       " 'ABCDEFGHIJlnomkPQRSTUVWYXZ',\n",
       " 'ABCDEFGHIJKlmnpoQRSTUVWYXZ',\n",
       " 'ABCDEFGHIJKLqnmpoRSTUVWYXZ',\n",
       " 'ABCDEFGHIJKLMopnqrSTUVWYXZ',\n",
       " 'ABCDEFGHIJKLMNqorpsTUVWYXZ',\n",
       " 'ABCDEFGHIJKLMNOtqsrpUVWYXZ',\n",
       " 'ABCDEFGHIJKLMNOPtsruqVWYXZ',\n",
       " 'ABCDEFGHIJKLMNOPQuvtsrWYXZ',\n",
       " 'ABCDEFGHIJKLMNOPQRwuvstYXZ',\n",
       " 'ABCDEFGHIJKLMNOPQRSvtwyuXZ',\n",
       " 'ABCDEFGHIJKLMNOPQRSTxvyuwZ',\n",
       " 'ABCDEFGHIJKLMNOPQRSTUzvywx']"
      ]
     },
     "execution_count": 22,
     "metadata": {},
     "output_type": "execute_result"
    }
   ],
   "source": [
    "shuffles_list, names_list = shuffle.windowed_shuffle(\"ABCDEFGHIJKLMNOPQRSTUVWYXZ\")\n",
    "shuffles_list"
   ]
  },
  {
   "cell_type": "markdown",
   "metadata": {},
   "source": [
    "## Predictors (coming soon?)"
   ]
  }
 ],
 "metadata": {
  "celltoolbar": "Raw Cell Format",
  "kernelspec": {
   "display_name": "bioinformatics",
   "language": "python",
   "name": "bioinformatics"
  },
  "language_info": {
   "codemirror_mode": {
    "name": "ipython",
    "version": 3
   },
   "file_extension": ".py",
   "mimetype": "text/x-python",
   "name": "python",
   "nbconvert_exporter": "python",
   "pygments_lexer": "ipython3",
   "version": "3.8.10"
  }
 },
 "nbformat": 4,
 "nbformat_minor": 4
}