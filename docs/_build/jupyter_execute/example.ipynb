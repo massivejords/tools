{
 "cells": [
  {
   "cell_type": "markdown",
   "metadata": {},
   "source": [
    "# Example usage\n",
    "\n",
    "To use `labtools` in a project:"
   ]
  },
  {
   "cell_type": "markdown",
   "metadata": {},
   "source": [
    "## Sequence Design Tools"
   ]
  },
  {
   "cell_type": "markdown",
   "metadata": {},
   "source": [
    "### Imports"
   ]
  },
  {
   "cell_type": "code",
   "execution_count": 1,
   "metadata": {
    "scrolled": true
   },
   "outputs": [],
   "source": [
    "from labtools import shuffle"
   ]
  },
  {
   "cell_type": "markdown",
   "metadata": {},
   "source": [
    "### Shuffle a sequence\n",
    "\n",
    "Create shuffles of the alphabet:"
   ]
  },
  {
   "cell_type": "code",
   "execution_count": 2,
   "metadata": {
    "scrolled": false
   },
   "outputs": [
    {
     "data": {
      "text/plain": [
       "['ceadbFGHIJKLMNOPQRSTUVWYXZ',\n",
       " 'AedbfcGHIJKLMNOPQRSTUVWYXZ',\n",
       " 'ABgdcfeHIJKLMNOPQRSTUVWYXZ',\n",
       " 'ABCeghdfIJKLMNOPQRSTUVWYXZ',\n",
       " 'ABCDiegfhJKLMNOPQRSTUVWYXZ',\n",
       " 'ABCDEhifgjKLMNOPQRSTUVWYXZ',\n",
       " 'ABCDEFkigjhLMNOPQRSTUVWYXZ',\n",
       " 'ABCDEFGkjilhMNOPQRSTUVWYXZ',\n",
       " 'ABCDEFGHjkilmNOPQRSTUVWYXZ',\n",
       " 'ABCDEFGHInmljkOPQRSTUVWYXZ',\n",
       " 'ABCDEFGHIJmnolkPQRSTUVWYXZ',\n",
       " 'ABCDEFGHIJKnlpomQRSTUVWYXZ',\n",
       " 'ABCDEFGHIJKLnqpmoRSTUVWYXZ',\n",
       " 'ABCDEFGHIJKLMnropqSTUVWYXZ',\n",
       " 'ABCDEFGHIJKLMNsrqopTUVWYXZ',\n",
       " 'ABCDEFGHIJKLMNOtprqsUVWYXZ',\n",
       " 'ABCDEFGHIJKLMNOPstrquVWYXZ',\n",
       " 'ABCDEFGHIJKLMNOPQvtsruWYXZ',\n",
       " 'ABCDEFGHIJKLMNOPQRwsutvYXZ',\n",
       " 'ABCDEFGHIJKLMNOPQRSuywvtXZ',\n",
       " 'ABCDEFGHIJKLMNOPQRSTyxwuvZ',\n",
       " 'ABCDEFGHIJKLMNOPQRSTUzvxwy']"
      ]
     },
     "execution_count": 2,
     "metadata": {},
     "output_type": "execute_result"
    }
   ],
   "source": [
    "shuffles_list, names_list = shuffle.windowed_shuffle(\"ABCDEFGHIJKLMNOPQRSTUVWYXZ\")\n",
    "shuffles_list"
   ]
  },
  {
   "cell_type": "markdown",
   "metadata": {},
   "source": [
    "## Sequencing Analysis Tools"
   ]
  },
  {
   "cell_type": "markdown",
   "metadata": {},
   "source": [
    "### Sort Processing Example\n",
    "#### What you need\n",
    "* fastq file for each sample in the sort\n",
    "* bin counts (cells per bin) and bin values (mean or median fluorescence of the bin)\n",
    "* **if you want perfect matches**: a csv with one column headered as \"ArrayDNA\" which contains your 120 bp AD sequences as DNA\n",
    "* the sequence directly preceding your AD sequence in your reads (anchor sequence)\n",
    "* if you have barcodes, you need the sequence directly preceding them and anteceding them (anchor sequences)\n",
    "\n",
    "#### What you get out\n",
    "* a dataframe with your AD tiles as indices, normalized scores for tile at each bin, and the tile Activity value\n",
    "\n",
    "**NOTE: the read cutoff is 10 reads total summed across all bins** This means that if a tile is not found at least 10 times combined across any of the fastq files, it will not be analysed. "
   ]
  },
  {
   "cell_type": "markdown",
   "metadata": {},
   "source": [
    "### Imports"
   ]
  },
  {
   "cell_type": "code",
   "execution_count": 3,
   "metadata": {},
   "outputs": [],
   "source": [
    "from labtools.adtools import sort"
   ]
  },
  {
   "cell_type": "markdown",
   "metadata": {},
   "source": [
    "### Initialize a sort"
   ]
  },
  {
   "cell_type": "code",
   "execution_count": 4,
   "metadata": {},
   "outputs": [],
   "source": [
    "my_sort = sort.Sort([\"../exampledata/bin1.fastq\", \"../exampledata/bin2.fastq\", \"../exampledata/bin3.fastq\", \n",
    "                \"../exampledata/bin4.fastq\"], bin_counts = [100000,100000,100000,100000], \n",
    "               bin_values = [61,141,251,1462], design_file = \"../exampledata/unique_seqs.csv\")"
   ]
  },
  {
   "cell_type": "markdown",
   "metadata": {},
   "source": [
    "### Get activity values"
   ]
  },
  {
   "cell_type": "code",
   "execution_count": 5,
   "metadata": {},
   "outputs": [],
   "source": [
    "activities, total_reads, reads_per_bin = my_sort.process()"
   ]
  },
  {
   "cell_type": "code",
   "execution_count": 6,
   "metadata": {
    "scrolled": true
   },
   "outputs": [
    {
     "data": {
      "text/html": [
       "<div>\n",
       "<style scoped>\n",
       "    .dataframe tbody tr th:only-of-type {\n",
       "        vertical-align: middle;\n",
       "    }\n",
       "\n",
       "    .dataframe tbody tr th {\n",
       "        vertical-align: top;\n",
       "    }\n",
       "\n",
       "    .dataframe thead th {\n",
       "        text-align: right;\n",
       "    }\n",
       "</style>\n",
       "<table border=\"1\" class=\"dataframe\">\n",
       "  <thead>\n",
       "    <tr style=\"text-align: right;\">\n",
       "      <th></th>\n",
       "      <th>0</th>\n",
       "      <th>1</th>\n",
       "      <th>2</th>\n",
       "      <th>3</th>\n",
       "      <th>Activity</th>\n",
       "    </tr>\n",
       "  </thead>\n",
       "  <tbody>\n",
       "    <tr>\n",
       "      <th>GAAGATCCAACTTGGTTTGATTCTGGTTCTCAATTTATCTTAAATTCTCAACAATTGGTTGAAGCTTTGTCTTTGTGTGATGATGCTGCTGGTTCTCAAGATAGAGAAGAGAATACTAAT</th>\n",
       "      <td>0.279148</td>\n",
       "      <td>0.293312</td>\n",
       "      <td>0.427540</td>\n",
       "      <td>0.000000</td>\n",
       "      <td>165.697515</td>\n",
       "    </tr>\n",
       "    <tr>\n",
       "      <th>GAAGCTTTGTCTTTGTGTGATGATTTGTTGGGTGATCAAGATAGAGAAGAGAATGATAATGATGGTGATTTGAAAGATAAACAACCATGTATTGCTGATTATGCTCATTTGGGTCCAGAA</th>\n",
       "      <td>0.110487</td>\n",
       "      <td>0.540278</td>\n",
       "      <td>0.325749</td>\n",
       "      <td>0.023487</td>\n",
       "      <td>199.019328</td>\n",
       "    </tr>\n",
       "    <tr>\n",
       "      <th>GATTTGGCTGAAGATGATGAAGTTATGTGTATGGAAGATGAAGTTCAATCTATTCAACCAAATCATGAAAGACCAGATGATGGTCCAGAATTGGAACATGGTTTGGAGAATGGTGCTAAA</th>\n",
       "      <td>0.376741</td>\n",
       "      <td>0.492582</td>\n",
       "      <td>0.130676</td>\n",
       "      <td>0.000000</td>\n",
       "      <td>125.235085</td>\n",
       "    </tr>\n",
       "    <tr>\n",
       "      <th>TCTGAATTGACTTCTACTTTGGGTATTTCTCATAGATTGCCACAATCTTTGACTCCATGTGTTAAGACTGGTTCTTTGCAATCTGGTGGTTTGGTTCAATCTGTTCCATTTGAAGAATTG</th>\n",
       "      <td>0.362058</td>\n",
       "      <td>0.279914</td>\n",
       "      <td>0.358029</td>\n",
       "      <td>0.000000</td>\n",
       "      <td>151.418558</td>\n",
       "    </tr>\n",
       "    <tr>\n",
       "      <th>AATCATGAAAGACCATCTTCTGGTCCAGAAGCTGAACATGGTTTGGAGAATGGTGCTAAAGAAATGGCTGATGATAAAGAAGAACAAGAGAAAGATAGAGATAATGAGAATCAAGGTGAA</th>\n",
       "      <td>0.611774</td>\n",
       "      <td>0.247237</td>\n",
       "      <td>0.093699</td>\n",
       "      <td>0.047290</td>\n",
       "      <td>164.835151</td>\n",
       "    </tr>\n",
       "    <tr>\n",
       "      <th>...</th>\n",
       "      <td>...</td>\n",
       "      <td>...</td>\n",
       "      <td>...</td>\n",
       "      <td>...</td>\n",
       "      <td>...</td>\n",
       "    </tr>\n",
       "    <tr>\n",
       "      <th>GACCCAACTGAATGGTTTGATTCTGGTGCTCAATTTATCTTGAATGCTCAACAATTGGTTGAAGCTCAATGTTTGGATGATAATTTGACTAGAGAATTGGAATCTAATGATGGTGCTTTG</th>\n",
       "      <td>0.000000</td>\n",
       "      <td>0.000000</td>\n",
       "      <td>0.000000</td>\n",
       "      <td>1.000000</td>\n",
       "      <td>1462.000000</td>\n",
       "    </tr>\n",
       "    <tr>\n",
       "      <th>TCTACTGATTCTACTCCAATGTTTGATTATGATAATTTGGAAGATAATTCTAAAGATTGGACTTCTTTGTTTGATAATGATATTCCAGTTACTACTGATGATGTTTCTTTGGCTGATAAA</th>\n",
       "      <td>0.000000</td>\n",
       "      <td>0.000000</td>\n",
       "      <td>0.000000</td>\n",
       "      <td>1.000000</td>\n",
       "      <td>1462.000000</td>\n",
       "    </tr>\n",
       "    <tr>\n",
       "      <th>TCTACTGGTCAAGTCTTGTTTGATATTGATGACTTTAGATGGTTGTTGGATCCAGATGATGAACAATTGGGTAAAGAAGCTATCTTGTCTGATCAATTTGGTAAACCAACTCCAGAGAAT</th>\n",
       "      <td>0.000000</td>\n",
       "      <td>0.000000</td>\n",
       "      <td>0.000000</td>\n",
       "      <td>1.000000</td>\n",
       "      <td>1462.000000</td>\n",
       "    </tr>\n",
       "    <tr>\n",
       "      <th>GAAGATCCAACTTCTGATTCTGCTATTCAACAATTGTGGAATCAAGGATTCTTGTTTGTTGAATCTTTGTCTTTGTGTGATGATTTGTTGGGTTCTCAAGATAGAGAAGAGAATACTAAT</th>\n",
       "      <td>0.000000</td>\n",
       "      <td>0.000000</td>\n",
       "      <td>0.000000</td>\n",
       "      <td>1.000000</td>\n",
       "      <td>1462.000000</td>\n",
       "    </tr>\n",
       "    <tr>\n",
       "      <th>GAAATTGATCAAATTTCTGATCCAGATAAATTGCCAGTTAATTTGGAACCATTTAGATTGGATCAATTGGAATTTACTGGTGATGATACTTCTGGTGCTGGTTTGAAATTTCAATGGGAT</th>\n",
       "      <td>0.000000</td>\n",
       "      <td>0.000000</td>\n",
       "      <td>0.000000</td>\n",
       "      <td>1.000000</td>\n",
       "      <td>1462.000000</td>\n",
       "    </tr>\n",
       "  </tbody>\n",
       "</table>\n",
       "<p>101 rows × 5 columns</p>\n",
       "</div>"
      ],
      "text/plain": [
       "                                                           0         1  \\\n",
       "GAAGATCCAACTTGGTTTGATTCTGGTTCTCAATTTATCTTAAATTC...  0.279148  0.293312   \n",
       "GAAGCTTTGTCTTTGTGTGATGATTTGTTGGGTGATCAAGATAGAGA...  0.110487  0.540278   \n",
       "GATTTGGCTGAAGATGATGAAGTTATGTGTATGGAAGATGAAGTTCA...  0.376741  0.492582   \n",
       "TCTGAATTGACTTCTACTTTGGGTATTTCTCATAGATTGCCACAATC...  0.362058  0.279914   \n",
       "AATCATGAAAGACCATCTTCTGGTCCAGAAGCTGAACATGGTTTGGA...  0.611774  0.247237   \n",
       "...                                                      ...       ...   \n",
       "GACCCAACTGAATGGTTTGATTCTGGTGCTCAATTTATCTTGAATGC...  0.000000  0.000000   \n",
       "TCTACTGATTCTACTCCAATGTTTGATTATGATAATTTGGAAGATAA...  0.000000  0.000000   \n",
       "TCTACTGGTCAAGTCTTGTTTGATATTGATGACTTTAGATGGTTGTT...  0.000000  0.000000   \n",
       "GAAGATCCAACTTCTGATTCTGCTATTCAACAATTGTGGAATCAAGG...  0.000000  0.000000   \n",
       "GAAATTGATCAAATTTCTGATCCAGATAAATTGCCAGTTAATTTGGA...  0.000000  0.000000   \n",
       "\n",
       "                                                           2         3  \\\n",
       "GAAGATCCAACTTGGTTTGATTCTGGTTCTCAATTTATCTTAAATTC...  0.427540  0.000000   \n",
       "GAAGCTTTGTCTTTGTGTGATGATTTGTTGGGTGATCAAGATAGAGA...  0.325749  0.023487   \n",
       "GATTTGGCTGAAGATGATGAAGTTATGTGTATGGAAGATGAAGTTCA...  0.130676  0.000000   \n",
       "TCTGAATTGACTTCTACTTTGGGTATTTCTCATAGATTGCCACAATC...  0.358029  0.000000   \n",
       "AATCATGAAAGACCATCTTCTGGTCCAGAAGCTGAACATGGTTTGGA...  0.093699  0.047290   \n",
       "...                                                      ...       ...   \n",
       "GACCCAACTGAATGGTTTGATTCTGGTGCTCAATTTATCTTGAATGC...  0.000000  1.000000   \n",
       "TCTACTGATTCTACTCCAATGTTTGATTATGATAATTTGGAAGATAA...  0.000000  1.000000   \n",
       "TCTACTGGTCAAGTCTTGTTTGATATTGATGACTTTAGATGGTTGTT...  0.000000  1.000000   \n",
       "GAAGATCCAACTTCTGATTCTGCTATTCAACAATTGTGGAATCAAGG...  0.000000  1.000000   \n",
       "GAAATTGATCAAATTTCTGATCCAGATAAATTGCCAGTTAATTTGGA...  0.000000  1.000000   \n",
       "\n",
       "                                                       Activity  \n",
       "GAAGATCCAACTTGGTTTGATTCTGGTTCTCAATTTATCTTAAATTC...   165.697515  \n",
       "GAAGCTTTGTCTTTGTGTGATGATTTGTTGGGTGATCAAGATAGAGA...   199.019328  \n",
       "GATTTGGCTGAAGATGATGAAGTTATGTGTATGGAAGATGAAGTTCA...   125.235085  \n",
       "TCTGAATTGACTTCTACTTTGGGTATTTCTCATAGATTGCCACAATC...   151.418558  \n",
       "AATCATGAAAGACCATCTTCTGGTCCAGAAGCTGAACATGGTTTGGA...   164.835151  \n",
       "...                                                         ...  \n",
       "GACCCAACTGAATGGTTTGATTCTGGTGCTCAATTTATCTTGAATGC...  1462.000000  \n",
       "TCTACTGATTCTACTCCAATGTTTGATTATGATAATTTGGAAGATAA...  1462.000000  \n",
       "TCTACTGGTCAAGTCTTGTTTGATATTGATGACTTTAGATGGTTGTT...  1462.000000  \n",
       "GAAGATCCAACTTCTGATTCTGCTATTCAACAATTGTGGAATCAAGG...  1462.000000  \n",
       "GAAATTGATCAAATTTCTGATCCAGATAAATTGCCAGTTAATTTGGA...  1462.000000  \n",
       "\n",
       "[101 rows x 5 columns]"
      ]
     },
     "execution_count": 6,
     "metadata": {},
     "output_type": "execute_result"
    }
   ],
   "source": [
    "# activity + normalized abundance in each bin\n",
    "activities"
   ]
  },
  {
   "cell_type": "code",
   "execution_count": 7,
   "metadata": {
    "scrolled": true
   },
   "outputs": [
    {
     "data": {
      "text/plain": [
       "GAAGATCCAACTTGGTTTGATTCTGGTTCTCAATTTATCTTAAATTCTCAACAATTGGTTGAAGCTTTGTCTTTGTGTGATGATGCTGCTGGTTCTCAAGATAGAGAAGAGAATACTAAT    44.0\n",
       "GAAGCTTTGTCTTTGTGTGATGATTTGTTGGGTGATCAAGATAGAGAAGAGAATGATAATGATGGTGATTTGAAAGATAAACAACCATGTATTGCTGATTATGCTCATTTGGGTCCAGAA    21.0\n",
       "GATTTGGCTGAAGATGATGAAGTTATGTGTATGGAAGATGAAGTTCAATCTATTCAACCAAATCATGAAAGACCAGATGATGGTCCAGAATTGGAACATGGTTTGGAGAATGGTGCTAAA    49.0\n",
       "TCTGAATTGACTTCTACTTTGGGTATTTCTCATAGATTGCCACAATCTTTGACTCCATGTGTTAAGACTGGTTCTTTGCAATCTGGTGGTTTGGTTCAATCTGTTCCATTTGAAGAATTG    70.0\n",
       "AATCATGAAAGACCATCTTCTGGTCCAGAAGCTGAACATGGTTTGGAGAATGGTGCTAAAGAAATGGCTGATGATAAAGAAGAACAAGAGAAAGATAGAGATAATGAGAATCAAGGTGAA    20.0\n",
       "                                                                                                                            ... \n",
       "GACCCAACTGAATGGTTTGATTCTGGTGCTCAATTTATCTTGAATGCTCAACAATTGGTTGAAGCTCAATGTTTGGATGATAATTTGACTAGAGAATTGGAATCTAATGATGGTGCTTTG    23.0\n",
       "TCTACTGATTCTACTCCAATGTTTGATTATGATAATTTGGAAGATAATTCTAAAGATTGGACTTCTTTGTTTGATAATGATATTCCAGTTACTACTGATGATGTTTCTTTGGCTGATAAA    24.0\n",
       "TCTACTGGTCAAGTCTTGTTTGATATTGATGACTTTAGATGGTTGTTGGATCCAGATGATGAACAATTGGGTAAAGAAGCTATCTTGTCTGATCAATTTGGTAAACCAACTCCAGAGAAT    12.0\n",
       "GAAGATCCAACTTCTGATTCTGCTATTCAACAATTGTGGAATCAAGGATTCTTGTTTGTTGAATCTTTGTCTTTGTGTGATGATTTGTTGGGTTCTCAAGATAGAGAAGAGAATACTAAT    11.0\n",
       "GAAATTGATCAAATTTCTGATCCAGATAAATTGCCAGTTAATTTGGAACCATTTAGATTGGATCAATTGGAATTTACTGGTGATGATACTTCTGGTGCTGGTTTGAAATTTCAATGGGAT    13.0\n",
       "Length: 101, dtype: float64"
      ]
     },
     "execution_count": 7,
     "metadata": {},
     "output_type": "execute_result"
    }
   ],
   "source": [
    "# the total reads for each sequence\n",
    "total_reads"
   ]
  },
  {
   "cell_type": "code",
   "execution_count": 8,
   "metadata": {
    "scrolled": false
   },
   "outputs": [
    {
     "data": {
      "text/html": [
       "<div>\n",
       "<style scoped>\n",
       "    .dataframe tbody tr th:only-of-type {\n",
       "        vertical-align: middle;\n",
       "    }\n",
       "\n",
       "    .dataframe tbody tr th {\n",
       "        vertical-align: top;\n",
       "    }\n",
       "\n",
       "    .dataframe thead th {\n",
       "        text-align: right;\n",
       "    }\n",
       "</style>\n",
       "<table border=\"1\" class=\"dataframe\">\n",
       "  <thead>\n",
       "    <tr style=\"text-align: right;\">\n",
       "      <th></th>\n",
       "      <th>0</th>\n",
       "      <th>1</th>\n",
       "      <th>2</th>\n",
       "      <th>3</th>\n",
       "    </tr>\n",
       "  </thead>\n",
       "  <tbody>\n",
       "    <tr>\n",
       "      <th>GAAGATCCAACTTGGTTTGATTCTGGTTCTCAATTTATCTTAAATTCTCAACAATTGGTTGAAGCTTTGTCTTTGTGTGATGATGCTGCTGGTTCTCAAGATAGAGAAGAGAATACTAAT</th>\n",
       "      <td>11.0</td>\n",
       "      <td>13.0</td>\n",
       "      <td>20.0</td>\n",
       "      <td>0.0</td>\n",
       "    </tr>\n",
       "    <tr>\n",
       "      <th>GAAGCTTTGTCTTTGTGTGATGATTTGTTGGGTGATCAAGATAGAGAAGAGAATGATAATGATGGTGATTTGAAAGATAAACAACCATGTATTGCTGATTATGCTCATTTGGGTCCAGAA</th>\n",
       "      <td>2.0</td>\n",
       "      <td>11.0</td>\n",
       "      <td>7.0</td>\n",
       "      <td>1.0</td>\n",
       "    </tr>\n",
       "    <tr>\n",
       "      <th>GATTTGGCTGAAGATGATGAAGTTATGTGTATGGAAGATGAAGTTCAATCTATTCAACCAAATCATGAAAGACCAGATGATGGTCCAGAATTGGAACATGGTTTGGAGAATGGTGCTAAA</th>\n",
       "      <td>17.0</td>\n",
       "      <td>25.0</td>\n",
       "      <td>7.0</td>\n",
       "      <td>0.0</td>\n",
       "    </tr>\n",
       "    <tr>\n",
       "      <th>TCTGAATTGACTTCTACTTTGGGTATTTCTCATAGATTGCCACAATCTTTGACTCCATGTGTTAAGACTGGTTCTTTGCAATCTGGTGGTTTGGTTCAATCTGTTCCATTTGAAGAATTG</th>\n",
       "      <td>23.0</td>\n",
       "      <td>20.0</td>\n",
       "      <td>27.0</td>\n",
       "      <td>0.0</td>\n",
       "    </tr>\n",
       "    <tr>\n",
       "      <th>AATCATGAAAGACCATCTTCTGGTCCAGAAGCTGAACATGGTTTGGAGAATGGTGCTAAAGAAATGGCTGATGATAAAGAAGAACAAGAGAAAGATAGAGATAATGAGAATCAAGGTGAA</th>\n",
       "      <td>11.0</td>\n",
       "      <td>5.0</td>\n",
       "      <td>2.0</td>\n",
       "      <td>2.0</td>\n",
       "    </tr>\n",
       "    <tr>\n",
       "      <th>...</th>\n",
       "      <td>...</td>\n",
       "      <td>...</td>\n",
       "      <td>...</td>\n",
       "      <td>...</td>\n",
       "    </tr>\n",
       "    <tr>\n",
       "      <th>GACCCAACTGAATGGTTTGATTCTGGTGCTCAATTTATCTTGAATGCTCAACAATTGGTTGAAGCTCAATGTTTGGATGATAATTTGACTAGAGAATTGGAATCTAATGATGGTGCTTTG</th>\n",
       "      <td>0.0</td>\n",
       "      <td>0.0</td>\n",
       "      <td>0.0</td>\n",
       "      <td>23.0</td>\n",
       "    </tr>\n",
       "    <tr>\n",
       "      <th>TCTACTGATTCTACTCCAATGTTTGATTATGATAATTTGGAAGATAATTCTAAAGATTGGACTTCTTTGTTTGATAATGATATTCCAGTTACTACTGATGATGTTTCTTTGGCTGATAAA</th>\n",
       "      <td>0.0</td>\n",
       "      <td>0.0</td>\n",
       "      <td>0.0</td>\n",
       "      <td>24.0</td>\n",
       "    </tr>\n",
       "    <tr>\n",
       "      <th>TCTACTGGTCAAGTCTTGTTTGATATTGATGACTTTAGATGGTTGTTGGATCCAGATGATGAACAATTGGGTAAAGAAGCTATCTTGTCTGATCAATTTGGTAAACCAACTCCAGAGAAT</th>\n",
       "      <td>0.0</td>\n",
       "      <td>0.0</td>\n",
       "      <td>0.0</td>\n",
       "      <td>12.0</td>\n",
       "    </tr>\n",
       "    <tr>\n",
       "      <th>GAAGATCCAACTTCTGATTCTGCTATTCAACAATTGTGGAATCAAGGATTCTTGTTTGTTGAATCTTTGTCTTTGTGTGATGATTTGTTGGGTTCTCAAGATAGAGAAGAGAATACTAAT</th>\n",
       "      <td>0.0</td>\n",
       "      <td>0.0</td>\n",
       "      <td>0.0</td>\n",
       "      <td>11.0</td>\n",
       "    </tr>\n",
       "    <tr>\n",
       "      <th>GAAATTGATCAAATTTCTGATCCAGATAAATTGCCAGTTAATTTGGAACCATTTAGATTGGATCAATTGGAATTTACTGGTGATGATACTTCTGGTGCTGGTTTGAAATTTCAATGGGAT</th>\n",
       "      <td>0.0</td>\n",
       "      <td>0.0</td>\n",
       "      <td>0.0</td>\n",
       "      <td>13.0</td>\n",
       "    </tr>\n",
       "  </tbody>\n",
       "</table>\n",
       "<p>101 rows × 4 columns</p>\n",
       "</div>"
      ],
      "text/plain": [
       "                                                       0     1     2     3\n",
       "GAAGATCCAACTTGGTTTGATTCTGGTTCTCAATTTATCTTAAATTC...  11.0  13.0  20.0   0.0\n",
       "GAAGCTTTGTCTTTGTGTGATGATTTGTTGGGTGATCAAGATAGAGA...   2.0  11.0   7.0   1.0\n",
       "GATTTGGCTGAAGATGATGAAGTTATGTGTATGGAAGATGAAGTTCA...  17.0  25.0   7.0   0.0\n",
       "TCTGAATTGACTTCTACTTTGGGTATTTCTCATAGATTGCCACAATC...  23.0  20.0  27.0   0.0\n",
       "AATCATGAAAGACCATCTTCTGGTCCAGAAGCTGAACATGGTTTGGA...  11.0   5.0   2.0   2.0\n",
       "...                                                  ...   ...   ...   ...\n",
       "GACCCAACTGAATGGTTTGATTCTGGTGCTCAATTTATCTTGAATGC...   0.0   0.0   0.0  23.0\n",
       "TCTACTGATTCTACTCCAATGTTTGATTATGATAATTTGGAAGATAA...   0.0   0.0   0.0  24.0\n",
       "TCTACTGGTCAAGTCTTGTTTGATATTGATGACTTTAGATGGTTGTT...   0.0   0.0   0.0  12.0\n",
       "GAAGATCCAACTTCTGATTCTGCTATTCAACAATTGTGGAATCAAGG...   0.0   0.0   0.0  11.0\n",
       "GAAATTGATCAAATTTCTGATCCAGATAAATTGCCAGTTAATTTGGA...   0.0   0.0   0.0  13.0\n",
       "\n",
       "[101 rows x 4 columns]"
      ]
     },
     "execution_count": 8,
     "metadata": {},
     "output_type": "execute_result"
    }
   ],
   "source": [
    "# the reads of each tile per bin\n",
    "reads_per_bin"
   ]
  },
  {
   "cell_type": "markdown",
   "metadata": {},
   "source": [
    "#### Locate any tiles, not just perfect matches\n",
    "Simply do not include the design file. A short (less than 120 bp) tile will probably appear with a significant number of reads. This is **probably** your untransformed background (cells transformed with a plasmid that did not get a tile). Most of the non-perfect matching tiles will be sequencing errors. You might find a way to map these back to their true tile. A few of the non-perfect matching tiles (likely those with a significant number of reads) will be sequencing library PCR amplification errors. An even fewer number of the non-perfect matching reads could be mutants that arose within the actual cell, or free tiles. Someone may put in the effort to distinguish these categories in the future."
   ]
  },
  {
   "cell_type": "code",
   "execution_count": 9,
   "metadata": {},
   "outputs": [],
   "source": [
    "my_sort = sort.Sort([\"../exampledata/bin1.fastq\", \"../exampledata/bin2.fastq\", \"../exampledata/bin3.fastq\", \n",
    "                \"../exampledata/bin4.fastq\"], bin_counts = [100000,100000,100000,100000], \n",
    "               bin_values = [61,141,251,1462])\n",
    "activities_no_design, numreads_total, _ = my_sort.process()"
   ]
  },
  {
   "cell_type": "code",
   "execution_count": 10,
   "metadata": {
    "scrolled": true
   },
   "outputs": [
    {
     "data": {
      "text/html": [
       "<div>\n",
       "<style scoped>\n",
       "    .dataframe tbody tr th:only-of-type {\n",
       "        vertical-align: middle;\n",
       "    }\n",
       "\n",
       "    .dataframe tbody tr th {\n",
       "        vertical-align: top;\n",
       "    }\n",
       "\n",
       "    .dataframe thead th {\n",
       "        text-align: right;\n",
       "    }\n",
       "</style>\n",
       "<table border=\"1\" class=\"dataframe\">\n",
       "  <thead>\n",
       "    <tr style=\"text-align: right;\">\n",
       "      <th></th>\n",
       "      <th>0</th>\n",
       "      <th>1</th>\n",
       "      <th>2</th>\n",
       "      <th>3</th>\n",
       "      <th>Activity</th>\n",
       "    </tr>\n",
       "  </thead>\n",
       "  <tbody>\n",
       "    <tr>\n",
       "      <th>GAAGATCCAACTTGGTTTGATTCTGGTTCTCAATTTATCTTAAATTCTCAACAATTGGTTGAAGCTTTGTCTTTGTGTGATGATGCTGCTGGTTCTCAAGATAGAGAAGAGAATACTAAT</th>\n",
       "      <td>0.269721</td>\n",
       "      <td>0.290977</td>\n",
       "      <td>0.439302</td>\n",
       "      <td>0.000000</td>\n",
       "      <td>167.745576</td>\n",
       "    </tr>\n",
       "    <tr>\n",
       "      <th>GAAGCTTTGTCTTTGTGTGATGATTTGTTGGGTGATCAAGATAGAGAAGAGAATGATAATGATGGTGATTTGAAAGATAAACAACCATGTATTGCTGATTATGCTCATTTGGGTCCAGAA</th>\n",
       "      <td>0.106476</td>\n",
       "      <td>0.534574</td>\n",
       "      <td>0.333835</td>\n",
       "      <td>0.025115</td>\n",
       "      <td>202.380348</td>\n",
       "    </tr>\n",
       "    <tr>\n",
       "      <th>GATTTGGCTGAAGATGATGAAGTTATGTGTATGGAAGATGAAGTTCAATCTATTCAACCAAATCATGAAAGACCAGATGATGGTCCAGAATTGGAACATGGTTTGGAGAATGGTGCTAAA</th>\n",
       "      <td>0.368831</td>\n",
       "      <td>0.495122</td>\n",
       "      <td>0.136047</td>\n",
       "      <td>0.000000</td>\n",
       "      <td>126.458644</td>\n",
       "    </tr>\n",
       "    <tr>\n",
       "      <th>GGTTAATTAAGGCGCGCCACTTCTAAATAAGCGA</th>\n",
       "      <td>0.224803</td>\n",
       "      <td>0.533542</td>\n",
       "      <td>0.241655</td>\n",
       "      <td>0.000000</td>\n",
       "      <td>149.597758</td>\n",
       "    </tr>\n",
       "    <tr>\n",
       "      <th>TCTGAATTGACTTCTACTTTGGGTATTTCTCATAGATTGCCACAATCTTTGACTCCATGTGTTAAGACTGGTTCTTTGCAATCTGGTGGTTTGGTTCAATCTGTTCCATTTGAAGAATTG</th>\n",
       "      <td>0.351449</td>\n",
       "      <td>0.278970</td>\n",
       "      <td>0.369581</td>\n",
       "      <td>0.000000</td>\n",
       "      <td>153.537999</td>\n",
       "    </tr>\n",
       "    <tr>\n",
       "      <th>...</th>\n",
       "      <td>...</td>\n",
       "      <td>...</td>\n",
       "      <td>...</td>\n",
       "      <td>...</td>\n",
       "      <td>...</td>\n",
       "    </tr>\n",
       "    <tr>\n",
       "      <th>TCTACTGATTCTACTCCAATGTTTGATTATGATAATTTGGAAGATAATTCTAAAGATTGGACTTCTTTGTTTGATAATGATATTCCAGTTACTACTGATGATGTTTCTTTGGCTGATAAA</th>\n",
       "      <td>0.000000</td>\n",
       "      <td>0.000000</td>\n",
       "      <td>0.000000</td>\n",
       "      <td>1.000000</td>\n",
       "      <td>1462.000000</td>\n",
       "    </tr>\n",
       "    <tr>\n",
       "      <th>TCTACTGGTCAAGTCTTGTTTGATATTGATGACTTTAGATGGTTGTTGGATCCAGATGATGAACAATTGGGTAAAGAAGCTATCTTGTCTGATCAATTTGGTAAACCAACTCCAGAGAAT</th>\n",
       "      <td>0.000000</td>\n",
       "      <td>0.000000</td>\n",
       "      <td>0.000000</td>\n",
       "      <td>1.000000</td>\n",
       "      <td>1462.000000</td>\n",
       "    </tr>\n",
       "    <tr>\n",
       "      <th>AATACTCCAACTCCACCATCTTTGGTTGATGGTGTTGCTGGTGATGAAGAAGCATTTGATGAGATGTTTGATCCATTCTTTGAAGAATTGGATTCTATTCCAGAAGCTGCTTTGTGATAA</th>\n",
       "      <td>0.000000</td>\n",
       "      <td>0.000000</td>\n",
       "      <td>0.000000</td>\n",
       "      <td>1.000000</td>\n",
       "      <td>1462.000000</td>\n",
       "    </tr>\n",
       "    <tr>\n",
       "      <th>GAAGATCCAACTTCTGATTCTGCTATTCAACAATTGTGGAATCAAGGATTCTTGTTTGTTGAATCTTTGTCTTTGTGTGATGATTTGTTGGGTTCTCAAGATAGAGAAGAGAATACTAAT</th>\n",
       "      <td>0.000000</td>\n",
       "      <td>0.000000</td>\n",
       "      <td>0.000000</td>\n",
       "      <td>1.000000</td>\n",
       "      <td>1462.000000</td>\n",
       "    </tr>\n",
       "    <tr>\n",
       "      <th>GAAATTGATCAAATTTCTGATCCAGATAAATTGCCAGTTAATTTGGAACCATTTAGATTGGATCAATTGGAATTTACTGGTGATGATACTTCTGGTGCTGGTTTGAAATTTCAATGGGAT</th>\n",
       "      <td>0.000000</td>\n",
       "      <td>0.000000</td>\n",
       "      <td>0.000000</td>\n",
       "      <td>1.000000</td>\n",
       "      <td>1462.000000</td>\n",
       "    </tr>\n",
       "  </tbody>\n",
       "</table>\n",
       "<p>112 rows × 5 columns</p>\n",
       "</div>"
      ],
      "text/plain": [
       "                                                           0         1  \\\n",
       "GAAGATCCAACTTGGTTTGATTCTGGTTCTCAATTTATCTTAAATTC...  0.269721  0.290977   \n",
       "GAAGCTTTGTCTTTGTGTGATGATTTGTTGGGTGATCAAGATAGAGA...  0.106476  0.534574   \n",
       "GATTTGGCTGAAGATGATGAAGTTATGTGTATGGAAGATGAAGTTCA...  0.368831  0.495122   \n",
       "GGTTAATTAAGGCGCGCCACTTCTAAATAAGCGA                  0.224803  0.533542   \n",
       "TCTGAATTGACTTCTACTTTGGGTATTTCTCATAGATTGCCACAATC...  0.351449  0.278970   \n",
       "...                                                      ...       ...   \n",
       "TCTACTGATTCTACTCCAATGTTTGATTATGATAATTTGGAAGATAA...  0.000000  0.000000   \n",
       "TCTACTGGTCAAGTCTTGTTTGATATTGATGACTTTAGATGGTTGTT...  0.000000  0.000000   \n",
       "AATACTCCAACTCCACCATCTTTGGTTGATGGTGTTGCTGGTGATGA...  0.000000  0.000000   \n",
       "GAAGATCCAACTTCTGATTCTGCTATTCAACAATTGTGGAATCAAGG...  0.000000  0.000000   \n",
       "GAAATTGATCAAATTTCTGATCCAGATAAATTGCCAGTTAATTTGGA...  0.000000  0.000000   \n",
       "\n",
       "                                                           2         3  \\\n",
       "GAAGATCCAACTTGGTTTGATTCTGGTTCTCAATTTATCTTAAATTC...  0.439302  0.000000   \n",
       "GAAGCTTTGTCTTTGTGTGATGATTTGTTGGGTGATCAAGATAGAGA...  0.333835  0.025115   \n",
       "GATTTGGCTGAAGATGATGAAGTTATGTGTATGGAAGATGAAGTTCA...  0.136047  0.000000   \n",
       "GGTTAATTAAGGCGCGCCACTTCTAAATAAGCGA                  0.241655  0.000000   \n",
       "TCTGAATTGACTTCTACTTTGGGTATTTCTCATAGATTGCCACAATC...  0.369581  0.000000   \n",
       "...                                                      ...       ...   \n",
       "TCTACTGATTCTACTCCAATGTTTGATTATGATAATTTGGAAGATAA...  0.000000  1.000000   \n",
       "TCTACTGGTCAAGTCTTGTTTGATATTGATGACTTTAGATGGTTGTT...  0.000000  1.000000   \n",
       "AATACTCCAACTCCACCATCTTTGGTTGATGGTGTTGCTGGTGATGA...  0.000000  1.000000   \n",
       "GAAGATCCAACTTCTGATTCTGCTATTCAACAATTGTGGAATCAAGG...  0.000000  1.000000   \n",
       "GAAATTGATCAAATTTCTGATCCAGATAAATTGCCAGTTAATTTGGA...  0.000000  1.000000   \n",
       "\n",
       "                                                       Activity  \n",
       "GAAGATCCAACTTGGTTTGATTCTGGTTCTCAATTTATCTTAAATTC...   167.745576  \n",
       "GAAGCTTTGTCTTTGTGTGATGATTTGTTGGGTGATCAAGATAGAGA...   202.380348  \n",
       "GATTTGGCTGAAGATGATGAAGTTATGTGTATGGAAGATGAAGTTCA...   126.458644  \n",
       "GGTTAATTAAGGCGCGCCACTTCTAAATAAGCGA                   149.597758  \n",
       "TCTGAATTGACTTCTACTTTGGGTATTTCTCATAGATTGCCACAATC...   153.537999  \n",
       "...                                                         ...  \n",
       "TCTACTGATTCTACTCCAATGTTTGATTATGATAATTTGGAAGATAA...  1462.000000  \n",
       "TCTACTGGTCAAGTCTTGTTTGATATTGATGACTTTAGATGGTTGTT...  1462.000000  \n",
       "AATACTCCAACTCCACCATCTTTGGTTGATGGTGTTGCTGGTGATGA...  1462.000000  \n",
       "GAAGATCCAACTTCTGATTCTGCTATTCAACAATTGTGGAATCAAGG...  1462.000000  \n",
       "GAAATTGATCAAATTTCTGATCCAGATAAATTGCCAGTTAATTTGGA...  1462.000000  \n",
       "\n",
       "[112 rows x 5 columns]"
      ]
     },
     "execution_count": 10,
     "metadata": {},
     "output_type": "execute_result"
    }
   ],
   "source": [
    "activities_no_design"
   ]
  },
  {
   "cell_type": "code",
   "execution_count": 11,
   "metadata": {},
   "outputs": [
    {
     "data": {
      "text/plain": [
       "GAAGATCCAACTTGGTTTGATTCTGGTTCTCAATTTATCTTAAATTCTCAACAATTGGTTGAAGCTTTGTCTTTGTGTGATGATGCTGCTGGTTCTCAAGATAGAGAAGAGAATACTAAT    44.0\n",
       "GAAGCTTTGTCTTTGTGTGATGATTTGTTGGGTGATCAAGATAGAGAAGAGAATGATAATGATGGTGATTTGAAAGATAAACAACCATGTATTGCTGATTATGCTCATTTGGGTCCAGAA    21.0\n",
       "GATTTGGCTGAAGATGATGAAGTTATGTGTATGGAAGATGAAGTTCAATCTATTCAACCAAATCATGAAAGACCAGATGATGGTCCAGAATTGGAACATGGTTTGGAGAATGGTGCTAAA    49.0\n",
       "GGTTAATTAAGGCGCGCCACTTCTAAATAAGCGA                                                                                          24.0\n",
       "TCTGAATTGACTTCTACTTTGGGTATTTCTCATAGATTGCCACAATCTTTGACTCCATGTGTTAAGACTGGTTCTTTGCAATCTGGTGGTTTGGTTCAATCTGTTCCATTTGAAGAATTG    70.0\n",
       "                                                                                                                            ... \n",
       "TCTACTGATTCTACTCCAATGTTTGATTATGATAATTTGGAAGATAATTCTAAAGATTGGACTTCTTTGTTTGATAATGATATTCCAGTTACTACTGATGATGTTTCTTTGGCTGATAAA    24.0\n",
       "TCTACTGGTCAAGTCTTGTTTGATATTGATGACTTTAGATGGTTGTTGGATCCAGATGATGAACAATTGGGTAAAGAAGCTATCTTGTCTGATCAATTTGGTAAACCAACTCCAGAGAAT    12.0\n",
       "AATACTCCAACTCCACCATCTTTGGTTGATGGTGTTGCTGGTGATGAAGAAGCATTTGATGAGATGTTTGATCCATTCTTTGAAGAATTGGATTCTATTCCAGAAGCTGCTTTGTGATAA    14.0\n",
       "GAAGATCCAACTTCTGATTCTGCTATTCAACAATTGTGGAATCAAGGATTCTTGTTTGTTGAATCTTTGTCTTTGTGTGATGATTTGTTGGGTTCTCAAGATAGAGAAGAGAATACTAAT    11.0\n",
       "GAAATTGATCAAATTTCTGATCCAGATAAATTGCCAGTTAATTTGGAACCATTTAGATTGGATCAATTGGAATTTACTGGTGATGATACTTCTGGTGCTGGTTTGAAATTTCAATGGGAT    13.0\n",
       "Length: 112, dtype: float64"
      ]
     },
     "execution_count": 11,
     "metadata": {},
     "output_type": "execute_result"
    }
   ],
   "source": [
    "numreads_total"
   ]
  },
  {
   "cell_type": "markdown",
   "metadata": {},
   "source": [
    "### Get data for reads that include barcodes AND tiles\n",
    "Support for barcoded only data may or may not be added in the future."
   ]
  },
  {
   "cell_type": "code",
   "execution_count": 12,
   "metadata": {},
   "outputs": [],
   "source": [
    "activities_barcoded, total_reads, reads_per_bin = my_sort.process(barcoded = True)"
   ]
  },
  {
   "cell_type": "markdown",
   "metadata": {},
   "source": [
    "Note that you get back less tiles using this method. The reason for this is because the read must have a locatable barcode AND tile, which is less likely than having one or the other. The primary reason for doing this analysis is assessing per-transformant variation. The assumption is that unique tile-barcode pairs come from unique original transformants."
   ]
  },
  {
   "cell_type": "code",
   "execution_count": 13,
   "metadata": {
    "scrolled": true
   },
   "outputs": [
    {
     "data": {
      "text/html": [
       "<div>\n",
       "<style scoped>\n",
       "    .dataframe tbody tr th:only-of-type {\n",
       "        vertical-align: middle;\n",
       "    }\n",
       "\n",
       "    .dataframe tbody tr th {\n",
       "        vertical-align: top;\n",
       "    }\n",
       "\n",
       "    .dataframe thead th {\n",
       "        text-align: right;\n",
       "    }\n",
       "</style>\n",
       "<table border=\"1\" class=\"dataframe\">\n",
       "  <thead>\n",
       "    <tr style=\"text-align: right;\">\n",
       "      <th></th>\n",
       "      <th></th>\n",
       "      <th>0</th>\n",
       "      <th>1</th>\n",
       "      <th>2</th>\n",
       "      <th>3</th>\n",
       "      <th>Activity</th>\n",
       "    </tr>\n",
       "  </thead>\n",
       "  <tbody>\n",
       "    <tr>\n",
       "      <th>GAAGATCCAACTTGGTTTGATTCTGGTTCTCAATTTATCTTAAATTCTCAACAATTGGTTGAAGCTTTGTCTTTGTGTGATGATGCTGCTGGTTCTCAAGATAGAGAAGAGAATACTAAT</th>\n",
       "      <th>ATCGTTACGTC</th>\n",
       "      <td>0.289081</td>\n",
       "      <td>0.312643</td>\n",
       "      <td>0.398276</td>\n",
       "      <td>0.000000</td>\n",
       "      <td>161.683873</td>\n",
       "    </tr>\n",
       "    <tr>\n",
       "      <th>GATTTGGCTGAAGATGATGAAGTTATGTGTATGGAAGATGAAGTTCAATCTATTCAACCAAATCATGAAAGACCAGATGATGGTCCAGAATTGGAACATGGTTTGGAGAATGGTGCTAAA</th>\n",
       "      <th>GGAAGGTAGTA</th>\n",
       "      <td>0.234149</td>\n",
       "      <td>0.557113</td>\n",
       "      <td>0.208738</td>\n",
       "      <td>0.000000</td>\n",
       "      <td>145.229204</td>\n",
       "    </tr>\n",
       "    <tr>\n",
       "      <th>TCTGAATTGACTTCTACTTTGGGTATTTCTCATAGATTGCCACAATCTTTGACTCCATGTGTTAAGACTGGTTCTTTGCAATCTGGTGGTTTGGTTCAATCTGTTCCATTTGAAGAATTG</th>\n",
       "      <th>GAGACCAAATC</th>\n",
       "      <td>0.331376</td>\n",
       "      <td>0.288808</td>\n",
       "      <td>0.379816</td>\n",
       "      <td>0.000000</td>\n",
       "      <td>156.269710</td>\n",
       "    </tr>\n",
       "    <tr>\n",
       "      <th>GATGCTAAGAGAGATTTGGAAGAATGTCAGAAGATTGTTGCTGATCCATCTAATATTGAATTGGATGCTCCACCAGAAGCTAGATTGGCTCAAGCTGAATTTGGTTCTCAAGATTCTGCT</th>\n",
       "      <th>CAGGAAAATCG</th>\n",
       "      <td>0.305253</td>\n",
       "      <td>0.558685</td>\n",
       "      <td>0.136062</td>\n",
       "      <td>0.000000</td>\n",
       "      <td>131.546634</td>\n",
       "    </tr>\n",
       "    <tr>\n",
       "      <th>CAAGACTTTATTTGTTCTGTTACTCAAGATGTTGGTATTAATTATACTCATCCACAGAATTTGCCAGGTGTTTCTAAAGATGGTACTTCTGTCTTCTTCTTTAATAAGACTGCTCATGCT</th>\n",
       "      <th>ACATGAACTTA</th>\n",
       "      <td>0.244871</td>\n",
       "      <td>0.416160</td>\n",
       "      <td>0.280666</td>\n",
       "      <td>0.058303</td>\n",
       "      <td>229.301369</td>\n",
       "    </tr>\n",
       "    <tr>\n",
       "      <th>...</th>\n",
       "      <th>...</th>\n",
       "      <td>...</td>\n",
       "      <td>...</td>\n",
       "      <td>...</td>\n",
       "      <td>...</td>\n",
       "      <td>...</td>\n",
       "    </tr>\n",
       "    <tr>\n",
       "      <th>AATACTCCAACTCCACCATCTTTGGTTGATGGTGTTGCTGGTGATGAAGAAGCATTTGATGATTTGAAGATGTTTGATCCATTCTTTGAAGAATTGGATTCTATTCCAGAAGCTGCTTTG</th>\n",
       "      <th>CTGTCTTCATA</th>\n",
       "      <td>0.000000</td>\n",
       "      <td>0.000000</td>\n",
       "      <td>0.000000</td>\n",
       "      <td>1.000000</td>\n",
       "      <td>1462.000000</td>\n",
       "    </tr>\n",
       "    <tr>\n",
       "      <th>AAAGATAGAGATAATGAGAATCAAGGTGAAGAAGATCCAACTTGGTTTATTGATGCTTTGCAATTTAATGGTTTGGTTCAAGCTGAATCTGCTCAATTGTCTTTGTGTGATGATTTGTTG</th>\n",
       "      <th>GTGGCAGTATG</th>\n",
       "      <td>0.000000</td>\n",
       "      <td>0.000000</td>\n",
       "      <td>0.000000</td>\n",
       "      <td>1.000000</td>\n",
       "      <td>1462.000000</td>\n",
       "    </tr>\n",
       "    <tr>\n",
       "      <th>TATCCACCAAGAGATGATTATCATGAACAACCATATCCAGTTATGGATACTGAAGGTAATGTTATTGGTTTGACTGATTTGGAATGTGATGAAGAATTGTTGCCAATTTCTTGGGATTGG</th>\n",
       "      <th>CACCCACTCCG</th>\n",
       "      <td>0.000000</td>\n",
       "      <td>0.000000</td>\n",
       "      <td>0.000000</td>\n",
       "      <td>1.000000</td>\n",
       "      <td>1462.000000</td>\n",
       "    </tr>\n",
       "    <tr>\n",
       "      <th>TCTACTGATTCTACTCCAATGTTTGATTATGATAATTTGGAAGATAATTCTAAAGATTGGACTTCTTTGTTTGATAATGATATTCCAGTTACTACTGATGATGTTTCTTTGGCTGATAAA</th>\n",
       "      <th>CTCAGTAATGG</th>\n",
       "      <td>0.000000</td>\n",
       "      <td>0.000000</td>\n",
       "      <td>0.000000</td>\n",
       "      <td>1.000000</td>\n",
       "      <td>1462.000000</td>\n",
       "    </tr>\n",
       "    <tr>\n",
       "      <th>AATACTCCAACTCCACCATCTTTGGTTGATGGTGTTGCTGGTGATGAAGAAGCATTTGATGAGATGTTTGATCCATTCTTTGAAGAATTGGATTCTATTCCAGAAGCTGCTTTGTGATAA</th>\n",
       "      <th>CCAGCAAGAAT</th>\n",
       "      <td>0.000000</td>\n",
       "      <td>0.000000</td>\n",
       "      <td>0.000000</td>\n",
       "      <td>1.000000</td>\n",
       "      <td>1462.000000</td>\n",
       "    </tr>\n",
       "  </tbody>\n",
       "</table>\n",
       "<p>77 rows × 5 columns</p>\n",
       "</div>"
      ],
      "text/plain": [
       "                                                                       0  \\\n",
       "GAAGATCCAACTTGGTTTGATTCTGGTTCTCAATTTATCTTAAATTC... ATCGTTACGTC  0.289081   \n",
       "GATTTGGCTGAAGATGATGAAGTTATGTGTATGGAAGATGAAGTTCA... GGAAGGTAGTA  0.234149   \n",
       "TCTGAATTGACTTCTACTTTGGGTATTTCTCATAGATTGCCACAATC... GAGACCAAATC  0.331376   \n",
       "GATGCTAAGAGAGATTTGGAAGAATGTCAGAAGATTGTTGCTGATCC... CAGGAAAATCG  0.305253   \n",
       "CAAGACTTTATTTGTTCTGTTACTCAAGATGTTGGTATTAATTATAC... ACATGAACTTA  0.244871   \n",
       "...                                                                  ...   \n",
       "AATACTCCAACTCCACCATCTTTGGTTGATGGTGTTGCTGGTGATGA... CTGTCTTCATA  0.000000   \n",
       "AAAGATAGAGATAATGAGAATCAAGGTGAAGAAGATCCAACTTGGTT... GTGGCAGTATG  0.000000   \n",
       "TATCCACCAAGAGATGATTATCATGAACAACCATATCCAGTTATGGA... CACCCACTCCG  0.000000   \n",
       "TCTACTGATTCTACTCCAATGTTTGATTATGATAATTTGGAAGATAA... CTCAGTAATGG  0.000000   \n",
       "AATACTCCAACTCCACCATCTTTGGTTGATGGTGTTGCTGGTGATGA... CCAGCAAGAAT  0.000000   \n",
       "\n",
       "                                                                       1  \\\n",
       "GAAGATCCAACTTGGTTTGATTCTGGTTCTCAATTTATCTTAAATTC... ATCGTTACGTC  0.312643   \n",
       "GATTTGGCTGAAGATGATGAAGTTATGTGTATGGAAGATGAAGTTCA... GGAAGGTAGTA  0.557113   \n",
       "TCTGAATTGACTTCTACTTTGGGTATTTCTCATAGATTGCCACAATC... GAGACCAAATC  0.288808   \n",
       "GATGCTAAGAGAGATTTGGAAGAATGTCAGAAGATTGTTGCTGATCC... CAGGAAAATCG  0.558685   \n",
       "CAAGACTTTATTTGTTCTGTTACTCAAGATGTTGGTATTAATTATAC... ACATGAACTTA  0.416160   \n",
       "...                                                                  ...   \n",
       "AATACTCCAACTCCACCATCTTTGGTTGATGGTGTTGCTGGTGATGA... CTGTCTTCATA  0.000000   \n",
       "AAAGATAGAGATAATGAGAATCAAGGTGAAGAAGATCCAACTTGGTT... GTGGCAGTATG  0.000000   \n",
       "TATCCACCAAGAGATGATTATCATGAACAACCATATCCAGTTATGGA... CACCCACTCCG  0.000000   \n",
       "TCTACTGATTCTACTCCAATGTTTGATTATGATAATTTGGAAGATAA... CTCAGTAATGG  0.000000   \n",
       "AATACTCCAACTCCACCATCTTTGGTTGATGGTGTTGCTGGTGATGA... CCAGCAAGAAT  0.000000   \n",
       "\n",
       "                                                                       2  \\\n",
       "GAAGATCCAACTTGGTTTGATTCTGGTTCTCAATTTATCTTAAATTC... ATCGTTACGTC  0.398276   \n",
       "GATTTGGCTGAAGATGATGAAGTTATGTGTATGGAAGATGAAGTTCA... GGAAGGTAGTA  0.208738   \n",
       "TCTGAATTGACTTCTACTTTGGGTATTTCTCATAGATTGCCACAATC... GAGACCAAATC  0.379816   \n",
       "GATGCTAAGAGAGATTTGGAAGAATGTCAGAAGATTGTTGCTGATCC... CAGGAAAATCG  0.136062   \n",
       "CAAGACTTTATTTGTTCTGTTACTCAAGATGTTGGTATTAATTATAC... ACATGAACTTA  0.280666   \n",
       "...                                                                  ...   \n",
       "AATACTCCAACTCCACCATCTTTGGTTGATGGTGTTGCTGGTGATGA... CTGTCTTCATA  0.000000   \n",
       "AAAGATAGAGATAATGAGAATCAAGGTGAAGAAGATCCAACTTGGTT... GTGGCAGTATG  0.000000   \n",
       "TATCCACCAAGAGATGATTATCATGAACAACCATATCCAGTTATGGA... CACCCACTCCG  0.000000   \n",
       "TCTACTGATTCTACTCCAATGTTTGATTATGATAATTTGGAAGATAA... CTCAGTAATGG  0.000000   \n",
       "AATACTCCAACTCCACCATCTTTGGTTGATGGTGTTGCTGGTGATGA... CCAGCAAGAAT  0.000000   \n",
       "\n",
       "                                                                       3  \\\n",
       "GAAGATCCAACTTGGTTTGATTCTGGTTCTCAATTTATCTTAAATTC... ATCGTTACGTC  0.000000   \n",
       "GATTTGGCTGAAGATGATGAAGTTATGTGTATGGAAGATGAAGTTCA... GGAAGGTAGTA  0.000000   \n",
       "TCTGAATTGACTTCTACTTTGGGTATTTCTCATAGATTGCCACAATC... GAGACCAAATC  0.000000   \n",
       "GATGCTAAGAGAGATTTGGAAGAATGTCAGAAGATTGTTGCTGATCC... CAGGAAAATCG  0.000000   \n",
       "CAAGACTTTATTTGTTCTGTTACTCAAGATGTTGGTATTAATTATAC... ACATGAACTTA  0.058303   \n",
       "...                                                                  ...   \n",
       "AATACTCCAACTCCACCATCTTTGGTTGATGGTGTTGCTGGTGATGA... CTGTCTTCATA  1.000000   \n",
       "AAAGATAGAGATAATGAGAATCAAGGTGAAGAAGATCCAACTTGGTT... GTGGCAGTATG  1.000000   \n",
       "TATCCACCAAGAGATGATTATCATGAACAACCATATCCAGTTATGGA... CACCCACTCCG  1.000000   \n",
       "TCTACTGATTCTACTCCAATGTTTGATTATGATAATTTGGAAGATAA... CTCAGTAATGG  1.000000   \n",
       "AATACTCCAACTCCACCATCTTTGGTTGATGGTGTTGCTGGTGATGA... CCAGCAAGAAT  1.000000   \n",
       "\n",
       "                                                                   Activity  \n",
       "GAAGATCCAACTTGGTTTGATTCTGGTTCTCAATTTATCTTAAATTC... ATCGTTACGTC   161.683873  \n",
       "GATTTGGCTGAAGATGATGAAGTTATGTGTATGGAAGATGAAGTTCA... GGAAGGTAGTA   145.229204  \n",
       "TCTGAATTGACTTCTACTTTGGGTATTTCTCATAGATTGCCACAATC... GAGACCAAATC   156.269710  \n",
       "GATGCTAAGAGAGATTTGGAAGAATGTCAGAAGATTGTTGCTGATCC... CAGGAAAATCG   131.546634  \n",
       "CAAGACTTTATTTGTTCTGTTACTCAAGATGTTGGTATTAATTATAC... ACATGAACTTA   229.301369  \n",
       "...                                                                     ...  \n",
       "AATACTCCAACTCCACCATCTTTGGTTGATGGTGTTGCTGGTGATGA... CTGTCTTCATA  1462.000000  \n",
       "AAAGATAGAGATAATGAGAATCAAGGTGAAGAAGATCCAACTTGGTT... GTGGCAGTATG  1462.000000  \n",
       "TATCCACCAAGAGATGATTATCATGAACAACCATATCCAGTTATGGA... CACCCACTCCG  1462.000000  \n",
       "TCTACTGATTCTACTCCAATGTTTGATTATGATAATTTGGAAGATAA... CTCAGTAATGG  1462.000000  \n",
       "AATACTCCAACTCCACCATCTTTGGTTGATGGTGTTGCTGGTGATGA... CCAGCAAGAAT  1462.000000  \n",
       "\n",
       "[77 rows x 5 columns]"
      ]
     },
     "execution_count": 13,
     "metadata": {},
     "output_type": "execute_result"
    }
   ],
   "source": [
    "activities_barcoded"
   ]
  },
  {
   "cell_type": "code",
   "execution_count": 14,
   "metadata": {},
   "outputs": [
    {
     "ename": "KeyError",
     "evalue": "\"Column(s) ['font-size'] do not exist\"",
     "output_type": "error",
     "traceback": [
      "\u001b[0;31m---------------------------------------------------------------------------\u001b[0m",
      "\u001b[0;31mKeyError\u001b[0m                                  Traceback (most recent call last)",
      "File \u001b[0;32m~/bioinformatics_exploration/.venv/lib/python3.8/site-packages/IPython/core/formatters.py:342\u001b[0m, in \u001b[0;36mBaseFormatter.__call__\u001b[0;34m(self, obj)\u001b[0m\n\u001b[1;32m    340\u001b[0m     method \u001b[38;5;241m=\u001b[39m get_real_method(obj, \u001b[38;5;28mself\u001b[39m\u001b[38;5;241m.\u001b[39mprint_method)\n\u001b[1;32m    341\u001b[0m     \u001b[38;5;28;01mif\u001b[39;00m method \u001b[38;5;129;01mis\u001b[39;00m \u001b[38;5;129;01mnot\u001b[39;00m \u001b[38;5;28;01mNone\u001b[39;00m:\n\u001b[0;32m--> 342\u001b[0m         \u001b[38;5;28;01mreturn\u001b[39;00m \u001b[43mmethod\u001b[49m\u001b[43m(\u001b[49m\u001b[43m)\u001b[49m\n\u001b[1;32m    343\u001b[0m     \u001b[38;5;28;01mreturn\u001b[39;00m \u001b[38;5;28;01mNone\u001b[39;00m\n\u001b[1;32m    344\u001b[0m \u001b[38;5;28;01melse\u001b[39;00m:\n",
      "File \u001b[0;32m~/bioinformatics_exploration/.venv/lib/python3.8/site-packages/pandas/io/formats/style.py:385\u001b[0m, in \u001b[0;36mStyler._repr_html_\u001b[0;34m(self)\u001b[0m\n\u001b[1;32m    380\u001b[0m \u001b[38;5;250m\u001b[39m\u001b[38;5;124;03m\"\"\"\u001b[39;00m\n\u001b[1;32m    381\u001b[0m \u001b[38;5;124;03mHooks into Jupyter notebook rich display system, which calls _repr_html_ by\u001b[39;00m\n\u001b[1;32m    382\u001b[0m \u001b[38;5;124;03mdefault if an object is returned at the end of a cell.\u001b[39;00m\n\u001b[1;32m    383\u001b[0m \u001b[38;5;124;03m\"\"\"\u001b[39;00m\n\u001b[1;32m    384\u001b[0m \u001b[38;5;28;01mif\u001b[39;00m get_option(\u001b[38;5;124m\"\u001b[39m\u001b[38;5;124mstyler.render.repr\u001b[39m\u001b[38;5;124m\"\u001b[39m) \u001b[38;5;241m==\u001b[39m \u001b[38;5;124m\"\u001b[39m\u001b[38;5;124mhtml\u001b[39m\u001b[38;5;124m\"\u001b[39m:\n\u001b[0;32m--> 385\u001b[0m     \u001b[38;5;28;01mreturn\u001b[39;00m \u001b[38;5;28;43mself\u001b[39;49m\u001b[38;5;241;43m.\u001b[39;49m\u001b[43mto_html\u001b[49m\u001b[43m(\u001b[49m\u001b[43m)\u001b[49m\n\u001b[1;32m    386\u001b[0m \u001b[38;5;28;01mreturn\u001b[39;00m \u001b[38;5;28;01mNone\u001b[39;00m\n",
      "File \u001b[0;32m~/bioinformatics_exploration/.venv/lib/python3.8/site-packages/pandas/io/formats/style.py:1377\u001b[0m, in \u001b[0;36mStyler.to_html\u001b[0;34m(self, buf, table_uuid, table_attributes, sparse_index, sparse_columns, bold_headers, caption, max_rows, max_columns, encoding, doctype_html, exclude_styles, **kwargs)\u001b[0m\n\u001b[1;32m   1374\u001b[0m     obj\u001b[38;5;241m.\u001b[39mset_caption(caption)\n\u001b[1;32m   1376\u001b[0m \u001b[38;5;66;03m# Build HTML string..\u001b[39;00m\n\u001b[0;32m-> 1377\u001b[0m html \u001b[38;5;241m=\u001b[39m \u001b[43mobj\u001b[49m\u001b[38;5;241;43m.\u001b[39;49m\u001b[43m_render_html\u001b[49m\u001b[43m(\u001b[49m\n\u001b[1;32m   1378\u001b[0m \u001b[43m    \u001b[49m\u001b[43msparse_index\u001b[49m\u001b[38;5;241;43m=\u001b[39;49m\u001b[43msparse_index\u001b[49m\u001b[43m,\u001b[49m\n\u001b[1;32m   1379\u001b[0m \u001b[43m    \u001b[49m\u001b[43msparse_columns\u001b[49m\u001b[38;5;241;43m=\u001b[39;49m\u001b[43msparse_columns\u001b[49m\u001b[43m,\u001b[49m\n\u001b[1;32m   1380\u001b[0m \u001b[43m    \u001b[49m\u001b[43mmax_rows\u001b[49m\u001b[38;5;241;43m=\u001b[39;49m\u001b[43mmax_rows\u001b[49m\u001b[43m,\u001b[49m\n\u001b[1;32m   1381\u001b[0m \u001b[43m    \u001b[49m\u001b[43mmax_cols\u001b[49m\u001b[38;5;241;43m=\u001b[39;49m\u001b[43mmax_columns\u001b[49m\u001b[43m,\u001b[49m\n\u001b[1;32m   1382\u001b[0m \u001b[43m    \u001b[49m\u001b[43mexclude_styles\u001b[49m\u001b[38;5;241;43m=\u001b[39;49m\u001b[43mexclude_styles\u001b[49m\u001b[43m,\u001b[49m\n\u001b[1;32m   1383\u001b[0m \u001b[43m    \u001b[49m\u001b[43mencoding\u001b[49m\u001b[38;5;241;43m=\u001b[39;49m\u001b[43mencoding\u001b[49m\u001b[43m \u001b[49m\u001b[38;5;129;43;01mor\u001b[39;49;00m\u001b[43m \u001b[49m\u001b[43mget_option\u001b[49m\u001b[43m(\u001b[49m\u001b[38;5;124;43m\"\u001b[39;49m\u001b[38;5;124;43mstyler.render.encoding\u001b[39;49m\u001b[38;5;124;43m\"\u001b[39;49m\u001b[43m)\u001b[49m\u001b[43m,\u001b[49m\n\u001b[1;32m   1384\u001b[0m \u001b[43m    \u001b[49m\u001b[43mdoctype_html\u001b[49m\u001b[38;5;241;43m=\u001b[39;49m\u001b[43mdoctype_html\u001b[49m\u001b[43m,\u001b[49m\n\u001b[1;32m   1385\u001b[0m \u001b[43m    \u001b[49m\u001b[38;5;241;43m*\u001b[39;49m\u001b[38;5;241;43m*\u001b[39;49m\u001b[43mkwargs\u001b[49m\u001b[43m,\u001b[49m\n\u001b[1;32m   1386\u001b[0m \u001b[43m\u001b[49m\u001b[43m)\u001b[49m\n\u001b[1;32m   1388\u001b[0m \u001b[38;5;28;01mreturn\u001b[39;00m save_to_buffer(\n\u001b[1;32m   1389\u001b[0m     html, buf\u001b[38;5;241m=\u001b[39mbuf, encoding\u001b[38;5;241m=\u001b[39m(encoding \u001b[38;5;28;01mif\u001b[39;00m buf \u001b[38;5;129;01mis\u001b[39;00m \u001b[38;5;129;01mnot\u001b[39;00m \u001b[38;5;28;01mNone\u001b[39;00m \u001b[38;5;28;01melse\u001b[39;00m \u001b[38;5;28;01mNone\u001b[39;00m)\n\u001b[1;32m   1390\u001b[0m )\n",
      "File \u001b[0;32m~/bioinformatics_exploration/.venv/lib/python3.8/site-packages/pandas/io/formats/style_render.py:206\u001b[0m, in \u001b[0;36mStylerRenderer._render_html\u001b[0;34m(self, sparse_index, sparse_columns, max_rows, max_cols, **kwargs)\u001b[0m\n\u001b[1;32m    194\u001b[0m \u001b[38;5;28;01mdef\u001b[39;00m \u001b[38;5;21m_render_html\u001b[39m(\n\u001b[1;32m    195\u001b[0m     \u001b[38;5;28mself\u001b[39m,\n\u001b[1;32m    196\u001b[0m     sparse_index: \u001b[38;5;28mbool\u001b[39m,\n\u001b[0;32m   (...)\u001b[0m\n\u001b[1;32m    200\u001b[0m     \u001b[38;5;241m*\u001b[39m\u001b[38;5;241m*\u001b[39mkwargs,\n\u001b[1;32m    201\u001b[0m ) \u001b[38;5;241m-\u001b[39m\u001b[38;5;241m>\u001b[39m \u001b[38;5;28mstr\u001b[39m:\n\u001b[1;32m    202\u001b[0m \u001b[38;5;250m    \u001b[39m\u001b[38;5;124;03m\"\"\"\u001b[39;00m\n\u001b[1;32m    203\u001b[0m \u001b[38;5;124;03m    Renders the ``Styler`` including all applied styles to HTML.\u001b[39;00m\n\u001b[1;32m    204\u001b[0m \u001b[38;5;124;03m    Generates a dict with necessary kwargs passed to jinja2 template.\u001b[39;00m\n\u001b[1;32m    205\u001b[0m \u001b[38;5;124;03m    \"\"\"\u001b[39;00m\n\u001b[0;32m--> 206\u001b[0m     d \u001b[38;5;241m=\u001b[39m \u001b[38;5;28;43mself\u001b[39;49m\u001b[38;5;241;43m.\u001b[39;49m\u001b[43m_render\u001b[49m\u001b[43m(\u001b[49m\u001b[43msparse_index\u001b[49m\u001b[43m,\u001b[49m\u001b[43m \u001b[49m\u001b[43msparse_columns\u001b[49m\u001b[43m,\u001b[49m\u001b[43m \u001b[49m\u001b[43mmax_rows\u001b[49m\u001b[43m,\u001b[49m\u001b[43m \u001b[49m\u001b[43mmax_cols\u001b[49m\u001b[43m,\u001b[49m\u001b[43m \u001b[49m\u001b[38;5;124;43m\"\u001b[39;49m\u001b[38;5;124;43m&nbsp;\u001b[39;49m\u001b[38;5;124;43m\"\u001b[39;49m\u001b[43m)\u001b[49m\n\u001b[1;32m    207\u001b[0m     d\u001b[38;5;241m.\u001b[39mupdate(kwargs)\n\u001b[1;32m    208\u001b[0m     \u001b[38;5;28;01mreturn\u001b[39;00m \u001b[38;5;28mself\u001b[39m\u001b[38;5;241m.\u001b[39mtemplate_html\u001b[38;5;241m.\u001b[39mrender(\n\u001b[1;32m    209\u001b[0m         \u001b[38;5;241m*\u001b[39m\u001b[38;5;241m*\u001b[39md,\n\u001b[1;32m    210\u001b[0m         html_table_tpl\u001b[38;5;241m=\u001b[39m\u001b[38;5;28mself\u001b[39m\u001b[38;5;241m.\u001b[39mtemplate_html_table,\n\u001b[1;32m    211\u001b[0m         html_style_tpl\u001b[38;5;241m=\u001b[39m\u001b[38;5;28mself\u001b[39m\u001b[38;5;241m.\u001b[39mtemplate_html_style,\n\u001b[1;32m    212\u001b[0m     )\n",
      "File \u001b[0;32m~/bioinformatics_exploration/.venv/lib/python3.8/site-packages/pandas/io/formats/style_render.py:163\u001b[0m, in \u001b[0;36mStylerRenderer._render\u001b[0;34m(self, sparse_index, sparse_columns, max_rows, max_cols, blank)\u001b[0m\n\u001b[1;32m    149\u001b[0m \u001b[38;5;28;01mdef\u001b[39;00m \u001b[38;5;21m_render\u001b[39m(\n\u001b[1;32m    150\u001b[0m     \u001b[38;5;28mself\u001b[39m,\n\u001b[1;32m    151\u001b[0m     sparse_index: \u001b[38;5;28mbool\u001b[39m,\n\u001b[0;32m   (...)\u001b[0m\n\u001b[1;32m    155\u001b[0m     blank: \u001b[38;5;28mstr\u001b[39m \u001b[38;5;241m=\u001b[39m \u001b[38;5;124m\"\u001b[39m\u001b[38;5;124m\"\u001b[39m,\n\u001b[1;32m    156\u001b[0m ):\n\u001b[1;32m    157\u001b[0m \u001b[38;5;250m    \u001b[39m\u001b[38;5;124;03m\"\"\"\u001b[39;00m\n\u001b[1;32m    158\u001b[0m \u001b[38;5;124;03m    Computes and applies styles and then generates the general render dicts.\u001b[39;00m\n\u001b[1;32m    159\u001b[0m \n\u001b[1;32m    160\u001b[0m \u001b[38;5;124;03m    Also extends the `ctx` and `ctx_index` attributes with those of concatenated\u001b[39;00m\n\u001b[1;32m    161\u001b[0m \u001b[38;5;124;03m    stylers for use within `_translate_latex`\u001b[39;00m\n\u001b[1;32m    162\u001b[0m \u001b[38;5;124;03m    \"\"\"\u001b[39;00m\n\u001b[0;32m--> 163\u001b[0m     \u001b[38;5;28;43mself\u001b[39;49m\u001b[38;5;241;43m.\u001b[39;49m\u001b[43m_compute\u001b[49m\u001b[43m(\u001b[49m\u001b[43m)\u001b[49m\n\u001b[1;32m    164\u001b[0m     dxs \u001b[38;5;241m=\u001b[39m []\n\u001b[1;32m    165\u001b[0m     ctx_len \u001b[38;5;241m=\u001b[39m \u001b[38;5;28mlen\u001b[39m(\u001b[38;5;28mself\u001b[39m\u001b[38;5;241m.\u001b[39mindex)\n",
      "File \u001b[0;32m~/bioinformatics_exploration/.venv/lib/python3.8/site-packages/pandas/io/formats/style_render.py:258\u001b[0m, in \u001b[0;36mStylerRenderer._compute\u001b[0;34m(self)\u001b[0m\n\u001b[1;32m    256\u001b[0m r \u001b[38;5;241m=\u001b[39m \u001b[38;5;28mself\u001b[39m\n\u001b[1;32m    257\u001b[0m \u001b[38;5;28;01mfor\u001b[39;00m func, args, kwargs \u001b[38;5;129;01min\u001b[39;00m \u001b[38;5;28mself\u001b[39m\u001b[38;5;241m.\u001b[39m_todo:\n\u001b[0;32m--> 258\u001b[0m     r \u001b[38;5;241m=\u001b[39m \u001b[43mfunc\u001b[49m\u001b[43m(\u001b[49m\u001b[38;5;28;43mself\u001b[39;49m\u001b[43m)\u001b[49m\u001b[43m(\u001b[49m\u001b[38;5;241;43m*\u001b[39;49m\u001b[43margs\u001b[49m\u001b[43m,\u001b[49m\u001b[43m \u001b[49m\u001b[38;5;241;43m*\u001b[39;49m\u001b[38;5;241;43m*\u001b[39;49m\u001b[43mkwargs\u001b[49m\u001b[43m)\u001b[49m\n\u001b[1;32m    259\u001b[0m \u001b[38;5;28;01mreturn\u001b[39;00m r\n",
      "File \u001b[0;32m~/bioinformatics_exploration/.venv/lib/python3.8/site-packages/pandas/io/formats/style.py:1736\u001b[0m, in \u001b[0;36mStyler._apply\u001b[0;34m(self, func, axis, subset, **kwargs)\u001b[0m\n\u001b[1;32m   1734\u001b[0m axis \u001b[38;5;241m=\u001b[39m \u001b[38;5;28mself\u001b[39m\u001b[38;5;241m.\u001b[39mdata\u001b[38;5;241m.\u001b[39m_get_axis_number(axis)\n\u001b[1;32m   1735\u001b[0m \u001b[38;5;28;01mif\u001b[39;00m axis \u001b[38;5;241m==\u001b[39m \u001b[38;5;241m0\u001b[39m:\n\u001b[0;32m-> 1736\u001b[0m     result \u001b[38;5;241m=\u001b[39m \u001b[43mdata\u001b[49m\u001b[38;5;241;43m.\u001b[39;49m\u001b[43mapply\u001b[49m\u001b[43m(\u001b[49m\u001b[43mfunc\u001b[49m\u001b[43m,\u001b[49m\u001b[43m \u001b[49m\u001b[43maxis\u001b[49m\u001b[38;5;241;43m=\u001b[39;49m\u001b[38;5;241;43m0\u001b[39;49m\u001b[43m,\u001b[49m\u001b[43m \u001b[49m\u001b[38;5;241;43m*\u001b[39;49m\u001b[38;5;241;43m*\u001b[39;49m\u001b[43mkwargs\u001b[49m\u001b[43m)\u001b[49m\n\u001b[1;32m   1737\u001b[0m \u001b[38;5;28;01melse\u001b[39;00m:\n\u001b[1;32m   1738\u001b[0m     result \u001b[38;5;241m=\u001b[39m data\u001b[38;5;241m.\u001b[39mT\u001b[38;5;241m.\u001b[39mapply(func, axis\u001b[38;5;241m=\u001b[39m\u001b[38;5;241m0\u001b[39m, \u001b[38;5;241m*\u001b[39m\u001b[38;5;241m*\u001b[39mkwargs)\u001b[38;5;241m.\u001b[39mT  \u001b[38;5;66;03m# see GH 42005\u001b[39;00m\n",
      "File \u001b[0;32m~/bioinformatics_exploration/.venv/lib/python3.8/site-packages/pandas/core/frame.py:9568\u001b[0m, in \u001b[0;36mDataFrame.apply\u001b[0;34m(self, func, axis, raw, result_type, args, **kwargs)\u001b[0m\n\u001b[1;32m   9557\u001b[0m \u001b[38;5;28;01mfrom\u001b[39;00m \u001b[38;5;21;01mpandas\u001b[39;00m\u001b[38;5;21;01m.\u001b[39;00m\u001b[38;5;21;01mcore\u001b[39;00m\u001b[38;5;21;01m.\u001b[39;00m\u001b[38;5;21;01mapply\u001b[39;00m \u001b[38;5;28;01mimport\u001b[39;00m frame_apply\n\u001b[1;32m   9559\u001b[0m op \u001b[38;5;241m=\u001b[39m frame_apply(\n\u001b[1;32m   9560\u001b[0m     \u001b[38;5;28mself\u001b[39m,\n\u001b[1;32m   9561\u001b[0m     func\u001b[38;5;241m=\u001b[39mfunc,\n\u001b[0;32m   (...)\u001b[0m\n\u001b[1;32m   9566\u001b[0m     kwargs\u001b[38;5;241m=\u001b[39mkwargs,\n\u001b[1;32m   9567\u001b[0m )\n\u001b[0;32m-> 9568\u001b[0m \u001b[38;5;28;01mreturn\u001b[39;00m \u001b[43mop\u001b[49m\u001b[38;5;241;43m.\u001b[39;49m\u001b[43mapply\u001b[49m\u001b[43m(\u001b[49m\u001b[43m)\u001b[49m\u001b[38;5;241m.\u001b[39m__finalize__(\u001b[38;5;28mself\u001b[39m, method\u001b[38;5;241m=\u001b[39m\u001b[38;5;124m\"\u001b[39m\u001b[38;5;124mapply\u001b[39m\u001b[38;5;124m\"\u001b[39m)\n",
      "File \u001b[0;32m~/bioinformatics_exploration/.venv/lib/python3.8/site-packages/pandas/core/apply.py:735\u001b[0m, in \u001b[0;36mFrameApply.apply\u001b[0;34m(self)\u001b[0m\n\u001b[1;32m    733\u001b[0m \u001b[38;5;66;03m# dispatch to agg\u001b[39;00m\n\u001b[1;32m    734\u001b[0m \u001b[38;5;28;01mif\u001b[39;00m is_list_like(\u001b[38;5;28mself\u001b[39m\u001b[38;5;241m.\u001b[39mf):\n\u001b[0;32m--> 735\u001b[0m     \u001b[38;5;28;01mreturn\u001b[39;00m \u001b[38;5;28;43mself\u001b[39;49m\u001b[38;5;241;43m.\u001b[39;49m\u001b[43mapply_multiple\u001b[49m\u001b[43m(\u001b[49m\u001b[43m)\u001b[49m\n\u001b[1;32m    737\u001b[0m \u001b[38;5;66;03m# all empty\u001b[39;00m\n\u001b[1;32m    738\u001b[0m \u001b[38;5;28;01mif\u001b[39;00m \u001b[38;5;28mlen\u001b[39m(\u001b[38;5;28mself\u001b[39m\u001b[38;5;241m.\u001b[39mcolumns) \u001b[38;5;241m==\u001b[39m \u001b[38;5;241m0\u001b[39m \u001b[38;5;129;01mand\u001b[39;00m \u001b[38;5;28mlen\u001b[39m(\u001b[38;5;28mself\u001b[39m\u001b[38;5;241m.\u001b[39mindex) \u001b[38;5;241m==\u001b[39m \u001b[38;5;241m0\u001b[39m:\n",
      "File \u001b[0;32m~/bioinformatics_exploration/.venv/lib/python3.8/site-packages/pandas/core/apply.py:591\u001b[0m, in \u001b[0;36mApply.apply_multiple\u001b[0;34m(self)\u001b[0m\n\u001b[1;32m    582\u001b[0m \u001b[38;5;28;01mdef\u001b[39;00m \u001b[38;5;21mapply_multiple\u001b[39m(\u001b[38;5;28mself\u001b[39m) \u001b[38;5;241m-\u001b[39m\u001b[38;5;241m>\u001b[39m DataFrame \u001b[38;5;241m|\u001b[39m Series:\n\u001b[1;32m    583\u001b[0m \u001b[38;5;250m    \u001b[39m\u001b[38;5;124;03m\"\"\"\u001b[39;00m\n\u001b[1;32m    584\u001b[0m \u001b[38;5;124;03m    Compute apply in case of a list-like or dict-like.\u001b[39;00m\n\u001b[1;32m    585\u001b[0m \n\u001b[0;32m   (...)\u001b[0m\n\u001b[1;32m    589\u001b[0m \u001b[38;5;124;03m        Result when self.f is a list-like or dict-like, None otherwise.\u001b[39;00m\n\u001b[1;32m    590\u001b[0m \u001b[38;5;124;03m    \"\"\"\u001b[39;00m\n\u001b[0;32m--> 591\u001b[0m     \u001b[38;5;28;01mreturn\u001b[39;00m \u001b[38;5;28;43mself\u001b[39;49m\u001b[38;5;241;43m.\u001b[39;49m\u001b[43mobj\u001b[49m\u001b[38;5;241;43m.\u001b[39;49m\u001b[43maggregate\u001b[49m\u001b[43m(\u001b[49m\u001b[38;5;28;43mself\u001b[39;49m\u001b[38;5;241;43m.\u001b[39;49m\u001b[43mf\u001b[49m\u001b[43m,\u001b[49m\u001b[43m \u001b[49m\u001b[38;5;28;43mself\u001b[39;49m\u001b[38;5;241;43m.\u001b[39;49m\u001b[43maxis\u001b[49m\u001b[43m,\u001b[49m\u001b[43m \u001b[49m\u001b[38;5;241;43m*\u001b[39;49m\u001b[38;5;28;43mself\u001b[39;49m\u001b[38;5;241;43m.\u001b[39;49m\u001b[43margs\u001b[49m\u001b[43m,\u001b[49m\u001b[43m \u001b[49m\u001b[38;5;241;43m*\u001b[39;49m\u001b[38;5;241;43m*\u001b[39;49m\u001b[38;5;28;43mself\u001b[39;49m\u001b[38;5;241;43m.\u001b[39;49m\u001b[43mkwargs\u001b[49m\u001b[43m)\u001b[49m\n",
      "File \u001b[0;32m~/bioinformatics_exploration/.venv/lib/python3.8/site-packages/pandas/core/frame.py:9342\u001b[0m, in \u001b[0;36mDataFrame.aggregate\u001b[0;34m(self, func, axis, *args, **kwargs)\u001b[0m\n\u001b[1;32m   9339\u001b[0m relabeling, func, columns, order \u001b[38;5;241m=\u001b[39m reconstruct_func(func, \u001b[38;5;241m*\u001b[39m\u001b[38;5;241m*\u001b[39mkwargs)\n\u001b[1;32m   9341\u001b[0m op \u001b[38;5;241m=\u001b[39m frame_apply(\u001b[38;5;28mself\u001b[39m, func\u001b[38;5;241m=\u001b[39mfunc, axis\u001b[38;5;241m=\u001b[39maxis, args\u001b[38;5;241m=\u001b[39margs, kwargs\u001b[38;5;241m=\u001b[39mkwargs)\n\u001b[0;32m-> 9342\u001b[0m result \u001b[38;5;241m=\u001b[39m \u001b[43mop\u001b[49m\u001b[38;5;241;43m.\u001b[39;49m\u001b[43magg\u001b[49m\u001b[43m(\u001b[49m\u001b[43m)\u001b[49m\n\u001b[1;32m   9344\u001b[0m \u001b[38;5;28;01mif\u001b[39;00m relabeling:\n\u001b[1;32m   9345\u001b[0m     \u001b[38;5;66;03m# This is to keep the order to columns occurrence unchanged, and also\u001b[39;00m\n\u001b[1;32m   9346\u001b[0m     \u001b[38;5;66;03m# keep the order of new columns occurrence unchanged\u001b[39;00m\n\u001b[1;32m   9347\u001b[0m \n\u001b[1;32m   9348\u001b[0m     \u001b[38;5;66;03m# For the return values of reconstruct_func, if relabeling is\u001b[39;00m\n\u001b[1;32m   9349\u001b[0m     \u001b[38;5;66;03m# False, columns and order will be None.\u001b[39;00m\n\u001b[1;32m   9350\u001b[0m     \u001b[38;5;28;01massert\u001b[39;00m columns \u001b[38;5;129;01mis\u001b[39;00m \u001b[38;5;129;01mnot\u001b[39;00m \u001b[38;5;28;01mNone\u001b[39;00m\n",
      "File \u001b[0;32m~/bioinformatics_exploration/.venv/lib/python3.8/site-packages/pandas/core/apply.py:776\u001b[0m, in \u001b[0;36mFrameApply.agg\u001b[0;34m(self)\u001b[0m\n\u001b[1;32m    774\u001b[0m result \u001b[38;5;241m=\u001b[39m \u001b[38;5;28;01mNone\u001b[39;00m\n\u001b[1;32m    775\u001b[0m \u001b[38;5;28;01mtry\u001b[39;00m:\n\u001b[0;32m--> 776\u001b[0m     result \u001b[38;5;241m=\u001b[39m \u001b[38;5;28;43msuper\u001b[39;49m\u001b[43m(\u001b[49m\u001b[43m)\u001b[49m\u001b[38;5;241;43m.\u001b[39;49m\u001b[43magg\u001b[49m\u001b[43m(\u001b[49m\u001b[43m)\u001b[49m\n\u001b[1;32m    777\u001b[0m \u001b[38;5;28;01mexcept\u001b[39;00m \u001b[38;5;167;01mTypeError\u001b[39;00m \u001b[38;5;28;01mas\u001b[39;00m err:\n\u001b[1;32m    778\u001b[0m     exc \u001b[38;5;241m=\u001b[39m \u001b[38;5;167;01mTypeError\u001b[39;00m(\n\u001b[1;32m    779\u001b[0m         \u001b[38;5;124m\"\u001b[39m\u001b[38;5;124mDataFrame constructor called with \u001b[39m\u001b[38;5;124m\"\u001b[39m\n\u001b[1;32m    780\u001b[0m         \u001b[38;5;124mf\u001b[39m\u001b[38;5;124m\"\u001b[39m\u001b[38;5;124mincompatible data and dtype: \u001b[39m\u001b[38;5;132;01m{\u001b[39;00merr\u001b[38;5;132;01m}\u001b[39;00m\u001b[38;5;124m\"\u001b[39m\n\u001b[1;32m    781\u001b[0m     )\n",
      "File \u001b[0;32m~/bioinformatics_exploration/.venv/lib/python3.8/site-packages/pandas/core/apply.py:172\u001b[0m, in \u001b[0;36mApply.agg\u001b[0;34m(self)\u001b[0m\n\u001b[1;32m    169\u001b[0m     \u001b[38;5;28;01mreturn\u001b[39;00m \u001b[38;5;28mself\u001b[39m\u001b[38;5;241m.\u001b[39mapply_str()\n\u001b[1;32m    171\u001b[0m \u001b[38;5;28;01mif\u001b[39;00m is_dict_like(arg):\n\u001b[0;32m--> 172\u001b[0m     \u001b[38;5;28;01mreturn\u001b[39;00m \u001b[38;5;28;43mself\u001b[39;49m\u001b[38;5;241;43m.\u001b[39;49m\u001b[43magg_dict_like\u001b[49m\u001b[43m(\u001b[49m\u001b[43m)\u001b[49m\n\u001b[1;32m    173\u001b[0m \u001b[38;5;28;01melif\u001b[39;00m is_list_like(arg):\n\u001b[1;32m    174\u001b[0m     \u001b[38;5;66;03m# we require a list, but not a 'str'\u001b[39;00m\n\u001b[1;32m    175\u001b[0m     \u001b[38;5;28;01mreturn\u001b[39;00m \u001b[38;5;28mself\u001b[39m\u001b[38;5;241m.\u001b[39magg_list_like()\n",
      "File \u001b[0;32m~/bioinformatics_exploration/.venv/lib/python3.8/site-packages/pandas/core/apply.py:496\u001b[0m, in \u001b[0;36mApply.agg_dict_like\u001b[0;34m(self)\u001b[0m\n\u001b[1;32m    493\u001b[0m     selected_obj \u001b[38;5;241m=\u001b[39m obj\u001b[38;5;241m.\u001b[39m_selected_obj\n\u001b[1;32m    494\u001b[0m     selection \u001b[38;5;241m=\u001b[39m obj\u001b[38;5;241m.\u001b[39m_selection\n\u001b[0;32m--> 496\u001b[0m arg \u001b[38;5;241m=\u001b[39m \u001b[38;5;28;43mself\u001b[39;49m\u001b[38;5;241;43m.\u001b[39;49m\u001b[43mnormalize_dictlike_arg\u001b[49m\u001b[43m(\u001b[49m\u001b[38;5;124;43m\"\u001b[39;49m\u001b[38;5;124;43magg\u001b[39;49m\u001b[38;5;124;43m\"\u001b[39;49m\u001b[43m,\u001b[49m\u001b[43m \u001b[49m\u001b[43mselected_obj\u001b[49m\u001b[43m,\u001b[49m\u001b[43m \u001b[49m\u001b[43marg\u001b[49m\u001b[43m)\u001b[49m\n\u001b[1;32m    498\u001b[0m \u001b[38;5;28;01mif\u001b[39;00m selected_obj\u001b[38;5;241m.\u001b[39mndim \u001b[38;5;241m==\u001b[39m \u001b[38;5;241m1\u001b[39m:\n\u001b[1;32m    499\u001b[0m     \u001b[38;5;66;03m# key only used for output\u001b[39;00m\n\u001b[1;32m    500\u001b[0m     colg \u001b[38;5;241m=\u001b[39m obj\u001b[38;5;241m.\u001b[39m_gotitem(selection, ndim\u001b[38;5;241m=\u001b[39m\u001b[38;5;241m1\u001b[39m)\n",
      "File \u001b[0;32m~/bioinformatics_exploration/.venv/lib/python3.8/site-packages/pandas/core/apply.py:619\u001b[0m, in \u001b[0;36mApply.normalize_dictlike_arg\u001b[0;34m(self, how, obj, func)\u001b[0m\n\u001b[1;32m    617\u001b[0m     \u001b[38;5;28;01mif\u001b[39;00m \u001b[38;5;28mlen\u001b[39m(cols) \u001b[38;5;241m>\u001b[39m \u001b[38;5;241m0\u001b[39m:\n\u001b[1;32m    618\u001b[0m         cols_sorted \u001b[38;5;241m=\u001b[39m \u001b[38;5;28mlist\u001b[39m(safe_sort(\u001b[38;5;28mlist\u001b[39m(cols)))\n\u001b[0;32m--> 619\u001b[0m         \u001b[38;5;28;01mraise\u001b[39;00m \u001b[38;5;167;01mKeyError\u001b[39;00m(\u001b[38;5;124mf\u001b[39m\u001b[38;5;124m\"\u001b[39m\u001b[38;5;124mColumn(s) \u001b[39m\u001b[38;5;132;01m{\u001b[39;00mcols_sorted\u001b[38;5;132;01m}\u001b[39;00m\u001b[38;5;124m do not exist\u001b[39m\u001b[38;5;124m\"\u001b[39m)\n\u001b[1;32m    621\u001b[0m aggregator_types \u001b[38;5;241m=\u001b[39m (\u001b[38;5;28mlist\u001b[39m, \u001b[38;5;28mtuple\u001b[39m, \u001b[38;5;28mdict\u001b[39m)\n\u001b[1;32m    623\u001b[0m \u001b[38;5;66;03m# if we have a dict of any non-scalars\u001b[39;00m\n\u001b[1;32m    624\u001b[0m \u001b[38;5;66;03m# eg. {'A' : ['mean']}, normalize all to\u001b[39;00m\n\u001b[1;32m    625\u001b[0m \u001b[38;5;66;03m# be list-likes\u001b[39;00m\n\u001b[1;32m    626\u001b[0m \u001b[38;5;66;03m# Cannot use func.values() because arg may be a Series\u001b[39;00m\n",
      "\u001b[0;31mKeyError\u001b[0m: \"Column(s) ['font-size'] do not exist\""
     ]
    },
    {
     "data": {
      "text/plain": [
       "<pandas.io.formats.style.Styler at 0x7ff314bdbdf0>"
      ]
     },
     "execution_count": 14,
     "metadata": {},
     "output_type": "execute_result"
    }
   ],
   "source": [
    "def format_index(s):\n",
    "    return \"font-size: 6pt;\"\n",
    "activities_no_design.style.applymap_index(format_index)\n",
    "activities_no_design.style.apply({\"font-size\":\"6pt\"})"
   ]
  },
  {
   "cell_type": "markdown",
   "metadata": {},
   "source": [
    "### Support for custom anchor sequences\n",
    "If your tiles or barcodes have a custom anchor sequence (AKA the non-variable portion of the read that is used to locate the variable portion of the read), you can specify that in the kwargs of your Sort(). This passes the arguments to the pull_A() function used on each read to locate the sequence of interest (AKA AD or tile). "
   ]
  },
  {
   "cell_type": "markdown",
   "metadata": {},
   "source": [
    "#### Use the sequence directly preceding the AD/tile as an anchor sequence. Additional characters between AD/tile and preceding anchor seqeunce will not work\n",
    "\n",
    "My preceding anchor sequence is in blue while my AD/tile sequence is in green in this example read.\n",
    "\n",
    "The anchor sequence preceding the barcode is purple while the anchor sequence anteceding is red. Barcode length is 11 by default. (Not necessary if you don't have barcodes)\n",
    "\n",
    "##### Example read\n",
    "\n",
    "<span style=\"font-size:10px\">TCCCTGCGGGCTCTACTTCATCG<span style=\"color:blue;font-weight:800\">GCTAGC</span><span style=\"color:green;font-weight:500;font-size:10px\">**GGTTCTTCTAAATTGAGATGTGATAATAATGCTGCTGCTCATGTTAAATTGGATTCATTTCCAGCTGGTGTTAGATTTGATACATCTGATGAAGAATTGTTGGAACATTTGGCTGCTAAA**</span>TGATAAATAGATGA<span style=\"color:purple;font-weight:800\">GGGCCCG</span>TCAACATAGAA<span style=\"color:red;font-weight:800\">GGAGAGAA</span>ACATCTAAAAAAGCGATA</span>"
   ]
  },
  {
   "cell_type": "markdown",
   "metadata": {},
   "source": [
    "#### Specify alternate values in a dictionary and pass that dictionary to Sort.process()"
   ]
  },
  {
   "cell_type": "code",
   "execution_count": 15,
   "metadata": {},
   "outputs": [],
   "source": [
    "# these are the default values which would work for my example read above\n",
    "# no input is required if they work for you\n",
    "kwargs = {\"ad_preceder\":\"GCTAGC\", \"bc_preceder\":\"GGGCCCG\", \"bc_anteceder\":\"GGAGAGAA\", \"bclength\":11, \"ad_length\":120}"
   ]
  },
  {
   "cell_type": "code",
   "execution_count": 16,
   "metadata": {},
   "outputs": [],
   "source": [
    "activities_barcoded, _, _ = my_sort.process(barcoded = True, **kwargs)"
   ]
  },
  {
   "cell_type": "code",
   "execution_count": 17,
   "metadata": {},
   "outputs": [],
   "source": [
    "import pandas as pd"
   ]
  },
  {
   "cell_type": "code",
   "execution_count": 18,
   "metadata": {},
   "outputs": [],
   "source": [
    "pd.set_option('display.max_colwidth', 1)"
   ]
  },
  {
   "cell_type": "code",
   "execution_count": 19,
   "metadata": {
    "scrolled": false
   },
   "outputs": [],
   "source": [
    "#activities_barcoded.style.set_properties(**{'background-color': 'grey','font-size': '6pt'})"
   ]
  },
  {
   "cell_type": "markdown",
   "metadata": {},
   "source": [
    "#### Example output for pull_AD\n",
    "This might be useful for someone who wants to use pull_AD to analyze reads for a purpose outside of calculating activities. "
   ]
  },
  {
   "cell_type": "code",
   "execution_count": 20,
   "metadata": {},
   "outputs": [],
   "source": [
    "from labtools.adtools.finder import pull_AD"
   ]
  },
  {
   "cell_type": "code",
   "execution_count": 21,
   "metadata": {
    "scrolled": true
   },
   "outputs": [
    {
     "data": {
      "text/plain": [
       "('GGTTCTTCTAAATTGAGATGTGATAATAATGCTGCTGCTCATGTTAAATTGGATTCATTTCCAGCTGGTGTTAGATTTGATACATCTGATGAAGAATTGTTGGAACATTTGGCTGCTAAA',\n",
       " 'TCAACATAGAA')"
      ]
     },
     "execution_count": 21,
     "metadata": {},
     "output_type": "execute_result"
    }
   ],
   "source": [
    "read = \"TCCCTGCGGGCTCTACTTCATCGGCTAGCGGTTCTTCTAAATTGAGATGTGATAATAATGCTGCTGCTCATGTTAAATTGGATTCATTTCCAGCTGGTGTTAGATTTGATACATCTGATGAAGAATTGTTGGAACATTTGGCTGCTAAATGATAAATAGATGAGGGCCCGTCAACATAGAAGGAGAGAAACATCTAAAAAAGCGATA\"\n",
    "pull_AD(read, kwargs)"
   ]
  },
  {
   "cell_type": "markdown",
   "metadata": {},
   "source": [
    "### Counting tiles in a fastq file\n",
    "This essentially applies the pull_AD function shown above to every read in the fastq file. You can also pass the kwargs dict to it to specify custom anchor sequences. "
   ]
  },
  {
   "cell_type": "code",
   "execution_count": 22,
   "metadata": {
    "scrolled": false
   },
   "outputs": [
    {
     "data": {
      "text/plain": [
       "GGTTCTTCTAAATTGAGATGTGATAATAATGCTGCTGCTCATGTTAAATTGGATTCATTTCCAGCTGGTGTTAGATTTGATACATCTGATGAAGAATTGTTGGAACATTTGGCTGCTAAA    1\n",
       "GAAGAATTGTTTTTACATTTGTCTGCTAAGATTGGTAGATCTTCTAGGAAACCACATCCATTCTTGGATGAATTTATTCATACTTTGGTTGAAGAAGATGGTATTTGTAGAACTCATCCA    3\n",
       "dtype: int64"
      ]
     },
     "execution_count": 22,
     "metadata": {},
     "output_type": "execute_result"
    }
   ],
   "source": [
    "from labtools.adtools.pair_counter import seq_counter\n",
    "seq_counter(\"../exampledata/mini.fastq\")"
   ]
  },
  {
   "cell_type": "markdown",
   "metadata": {},
   "source": [
    "#### Use barcoded = True  to count tile and barcode pairs\n",
    "#### Use the design_file flag to look for specific tiles"
   ]
  },
  {
   "cell_type": "code",
   "execution_count": 23,
   "metadata": {
    "scrolled": true
   },
   "outputs": [
    {
     "data": {
      "text/plain": [
       "GAAGATCCAACTTGGTTTGATTCTGGTTCTCAATTTATCTTAAATTCTCAACAATTGGTTGAAGCTTTGTCTTTGTGTGATGATGCTGCTGGTTCTCAAGATAGAGAAGAGAATACTAAT  ATCGTTACGTC    11.0\n",
       "GAAGCTTTGTCTTTGTGTGATGATTTGTTGGGTGATCAAGATAGAGAAGAGAATGATAATGATGGTGATTTGAAAGATAAACAACCATGTATTGCTGATTATGCTCATTTGGGTCCAGAA  ACCATTTAGCG    1.0 \n",
       "GATTTGGCTGAAGATGATGAAGTTATGTGTATGGAAGATGAAGTTCAATCTATTCAACCAAATCATGAAAGACCAGATGATGGTCCAGAATTGGAACATGGTTTGGAGAATGGTGCTAAA  GGAAGGTAGTA    5.0 \n",
       "GGTCAAAGGAAGAGAAGGAAGATTACTCCAACTTTGGTTAATGATGAACCAGTTAGATGGCATAAGACTGGTAGAACTAAACCAGTTATGTTGTCTGGTGTTCAAAGAGGTTGTAAGAAA  TAGCTCAAACC    4.0 \n",
       "TCTGAATTGACTTCTACTTTGGGTATTTCTCATAGATTGCCACAATCTTTGACTCCATGTGTTAAGACTGGTTCTTTGCAATCTGGTGGTTTGGTTCAATCTGTTCCATTTGAAGAATTG  GAGACCAAATC    21.0\n",
       "                                                                                                                                         ... \n",
       "CAAGCTATTGCTAATGATCAACAAGCTGTTGAAGCTGCTTCTGCTTGTGATGATGCTGCTGGTTCTCAAGATAGAGAAGAGAATACTAATTCTGGTTCTGCTAAAGATAAACAACCATGT  TCGTCTGACAC    1.0 \n",
       "AAAGATAGAGATAATGAGAATCAAGGTGAAGAAGATCCAACTTGGTTTGATTCTGGTTCTCAATTTATCTTGAATGCTCAACAATTGGTTGAAGCTTTGTCTTTGTGTGATGATTTGTTG  TTCTTTCCCTA    1.0 \n",
       "CATTTGGGTATTGAAGAAGATGAGAAAGAAGGTGATGAAGTTGTTTCTAAGATCTTCTATCAACAACCACAACAATTGGTTGTTAAGAGAGGTGATAAAGCTGAACAAGAAGTTGATGAA  ACTCCCCGCAA    1.0 \n",
       "GAAGATCCAACTGCATTTGATTCTGGTGATCAAGCTATCTTGAATGATCAACAAGCTGTTGAAGCTTTGTCTGCTTGTGATGATTTGGCTGGTTCTCAAGATAGAGAAGAGAATACTAAT  GGTTGAAGTGC    1.0 \n",
       "GAAGAAACTGTTGTCTTGCCACCATCTGTTAAGACTACTAAAGATGGTGATAATTTGCAATCTCAAGATCAGAAATTGTGGGAAGGTGATTCTCAATTTGAATTGTTGGATTCTCAACAA  ACCACCGACGA    1.0 \n",
       "Length: 684, dtype: float64"
      ]
     },
     "execution_count": 23,
     "metadata": {},
     "output_type": "execute_result"
    }
   ],
   "source": [
    "seq_counter(\"../exampledata/bin1.fastq\", barcoded = True, design_to_use=\"../exampledata/unique_seqs.csv\")"
   ]
  }
 ],
 "metadata": {
  "kernelspec": {
   "display_name": "bioinformatics",
   "language": "python",
   "name": "bioinformatics"
  },
  "language_info": {
   "codemirror_mode": {
    "name": "ipython",
    "version": 3
   },
   "file_extension": ".py",
   "mimetype": "text/x-python",
   "name": "python",
   "nbconvert_exporter": "python",
   "pygments_lexer": "ipython3",
   "version": "3.8.10"
  }
 },
 "nbformat": 4,
 "nbformat_minor": 4
}