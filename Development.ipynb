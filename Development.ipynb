{
 "cells": [
  {
   "cell_type": "code",
   "execution_count": 1,
   "id": "d0851062",
   "metadata": {},
   "outputs": [],
   "source": [
    "from labtools.adtools import counter"
   ]
  },
  {
   "cell_type": "code",
   "execution_count": 3,
   "id": "6b5e2c69",
   "metadata": {},
   "outputs": [],
   "source": [
    "res = counter.seq_counter(\"../melvin_paired_deep/MT10_RT_1to1.fastq.gz.assembled.fastq.gz\")"
   ]
  },
  {
   "cell_type": "code",
   "execution_count": 7,
   "id": "df7df3a9",
   "metadata": {},
   "outputs": [],
   "source": [
    "import pandas as pd"
   ]
  },
  {
   "cell_type": "code",
   "execution_count": 10,
   "id": "876a9a64",
   "metadata": {},
   "outputs": [],
   "source": [
    "r = pd.DataFrame(res).reset_index()"
   ]
  },
  {
   "cell_type": "code",
   "execution_count": 15,
   "id": "7bffd419",
   "metadata": {},
   "outputs": [],
   "source": [
    "r.sort_values(by = 0).to_csv(\"search.csv\")"
   ]
  },
  {
   "cell_type": "code",
   "execution_count": null,
   "id": "e8731aea",
   "metadata": {},
   "outputs": [],
   "source": [
    "# high occurence short reads\n",
    "\n",
    "# these are ? \n",
    "\"ACTGATTTGTCTACTCCAT TGTTTGATCATTCTTGACTAGCTG AGGCGCGCCACTTCTAAATAAGCGATAG\"\n",
    "\"ACTGATTTGTCTACTCCAT TGTTTGATCATTCTTGACTAGCTG AGGCGCGCCACTTCTAAATAAGCGATA\"\n",
    "\"ACTGATTTGTCTACTCCAT TGTTTGATCATTCTTGACTAGCTG AGGCGCGCCACTTCTAAATAAGCGAT\"\n",
    "\"ACTGATTTGTCTACTCCAT TGTTTGATCATTCTTGACTAGCTG AGGCGCGCCACTTCTAAATAAGCGA\"\n",
    "\n",
    "\n",
    "# these are the untransformed read possibilities\n",
    "\"GGTTAATTAAGGCGCGCCACTTCTAAATAAGCGATAG\"\n",
    "\"GGTTAATTAAGGCGCGCCACTTCTAAATAAGCGATA\"\n",
    "\"GGTTAATTAAGGCGCGCCACTTCTAAATAAGCGAT\"\n",
    "\"GGTTAATTAAGGCGCGCCACTTCTAAATAAGCGA\"\n",
    "\n",
    "# these are ?\n",
    "\"AGAATTGCGAATGGGTAAGATCTTGTGTGCTATTAGAACTGAACCATGACTAGCTGAGGCGCGCCACTTCTAAATAAGCGATA\"\n",
    "\"AGAATTGCGAATGGGTAAGATCTTGTGTGCTATTAGAACTGAACCATGACTAGCTGAGGCGCGCCACTTCTAAATAAGCGAT\"\n",
    "\n",
    "\"AGAGCTAGAAATACTGAAGCTGCTAGGAAATCTAGAGCTAGGAAATGGAAAGACGAATCTCAACAAAGAGAATGACTAGCTGAGGCGCGCCACTTCTAAATAAGCGAT\"\n",
    "\"GAATCTCCATATATTGATGATTTGTATGATACTTCTCCAATGTTTAGAAATGATGAAACTCAATCTGGTATTCTTGACTAGCTGAGGCGCGCCACTTCTAAATAAGCGA\""
   ]
  },
  {
   "cell_type": "code",
   "execution_count": 1,
   "id": "5491dc37",
   "metadata": {},
   "outputs": [],
   "source": [
    "un = \"GGTTAATTAAGGCGCGCCACTTCTAAATAAGCGA\""
   ]
  },
  {
   "cell_type": "code",
   "execution_count": 3,
   "id": "6f6fff4f",
   "metadata": {},
   "outputs": [
    {
     "data": {
      "text/plain": [
       "True"
      ]
     },
     "execution_count": 3,
     "metadata": {},
     "output_type": "execute_result"
    }
   ],
   "source": [
    "un in \"GAATCTCCATATATTGATGATTTGTATGGTTAATTAAGGCGCGCCACTTCTAAATAAGCGAGATACTTCTCCAATGTTTAGAAATGATGAAACTCAATCTGGTATTCTTGACTAGCTGAGGCGCGCCACTTCTAAATAAGCGA\""
   ]
  }
 ],
 "metadata": {
  "kernelspec": {
   "display_name": "bioinformatics",
   "language": "python",
   "name": "bioinformatics"
  },
  "language_info": {
   "codemirror_mode": {
    "name": "ipython",
    "version": 3
   },
   "file_extension": ".py",
   "mimetype": "text/x-python",
   "name": "python",
   "nbconvert_exporter": "python",
   "pygments_lexer": "ipython3",
   "version": "3.8.10"
  }
 },
 "nbformat": 4,
 "nbformat_minor": 5
}
